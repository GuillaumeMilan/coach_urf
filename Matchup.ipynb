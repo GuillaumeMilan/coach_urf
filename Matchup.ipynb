{
 "cells": [
  {
   "cell_type": "code",
   "execution_count": 1,
   "metadata": {},
   "outputs": [],
   "source": [
    "import json\n",
    "from datetime import datetime\n",
    "import numpy as np\n",
    "import matplotlib.image as mpimg\n",
    "import matplotlib.pyplot as plt\n",
    "import time as tm\n",
    "from IPython.display import Image\n",
    "import base64\n",
    "import pandas as pd"
   ]
  },
  {
   "cell_type": "code",
   "execution_count": 2,
   "metadata": {},
   "outputs": [],
   "source": [
    "# Loading html utils\n",
    "import utils.html\n",
    "# Loading riot and dragon APIS\n",
    "import utils.services\n",
    "import utils.league\n",
    "import utils.dragon\n",
    "import utils.static"
   ]
  },
  {
   "cell_type": "code",
   "execution_count": 3,
   "metadata": {},
   "outputs": [],
   "source": [
    "my_champion_name = 'Camille'\n",
    "ennemy_champion_name = 'Riven'"
   ]
  },
  {
   "cell_type": "code",
   "execution_count": 4,
   "metadata": {},
   "outputs": [
    {
     "name": "stdout",
     "output_type": "stream",
     "text": [
      "http://ddragon.leagueoflegends.com/api/versions.json\n"
     ]
    }
   ],
   "source": [
    "patch = utils.dragon.get_patch()[0]\n",
    "#import lib.session\n",
    "## Fetch data dragon cache\n",
    "#session = lib.session.Session(current_patch)"
   ]
  },
  {
   "cell_type": "code",
   "execution_count": 5,
   "metadata": {},
   "outputs": [
    {
     "name": "stdout",
     "output_type": "stream",
     "text": [
      "http://ddragon.leagueoflegends.com/cdn/10.8.1/data/en_US/champion/Camille.json\n",
      "http://ddragon.leagueoflegends.com/cdn/10.8.1/data/en_US/champion/Riven.json\n"
     ]
    }
   ],
   "source": [
    "my_champion = utils.dragon.get_champion_full_info(patch, my_champion_name)['data']\n",
    "ennemy_champion = utils.dragon.get_champion_full_info(patch, ennemy_champion_name)['data']"
   ]
  },
  {
   "cell_type": "code",
   "execution_count": 6,
   "metadata": {},
   "outputs": [
    {
     "data": {
      "text/html": [
       "\n",
       "            <div>\n",
       "            <h3>You should:</h3>\n",
       "            <p>Try waiting until the other team is distracted with fighting your team, and use Hookshot to pick off vulnerable targets.</p><p>Use the CC from your abilities to land both of your Precision Protocol attacks on enemies.</p>\n",
       "            <p>Riven has a great deal of mobility but she cannot move very far with any one skill. Rooting or silencing her during her combo will greatly reduce her effectiveness.</p><p>All of Riven's damage is physical, prioritize high Armor if an opposing Riven gets out of control.</p><p>Riven excels at dueling multiple melee attackers at once, as she will be on an almost equal footing damage-wise. If pairing up against Riven, don't go in as double melee until she has expended her full combo.</p>\n",
       "            </div>\n",
       "            "
      ],
      "text/plain": [
       "<__main__.Tips at 0x106b52450>"
      ]
     },
     "execution_count": 6,
     "metadata": {},
     "output_type": "execute_result"
    }
   ],
   "source": [
    "class Tips:\n",
    "    def __init__(self, my_champion_name, my_champion, ennemy_champion_name, ennemy_champion):\n",
    "        self.my_champion_name = my_champion_name\n",
    "        self.my_champion = my_champion\n",
    "        self.ennemy_champion_name = ennemy_champion_name\n",
    "        self.ennemy_champion = ennemy_champion\n",
    "    def getMyTips(self):\n",
    "        return ''.join([f\"<p>{t}</p>\" for t in self.my_champion[self.my_champion_name]['allytips']])\n",
    "    def getEnnemyTips(self):\n",
    "        return ''.join([f\"<p>{t}</p>\" for t in self.ennemy_champion[self.ennemy_champion_name]['enemytips']])\n",
    "    def _repr_html_(self):\n",
    "        return f\"\"\"\n",
    "            <div>\n",
    "            <h3>You should:</h3>\n",
    "            {self.getMyTips()}\n",
    "            {self.getEnnemyTips()}\n",
    "            </div>\n",
    "            \"\"\"\n",
    "Tips(my_champion_name, my_champion, ennemy_champion_name, ennemy_champion)"
   ]
  },
  {
   "cell_type": "code",
   "execution_count": 7,
   "metadata": {},
   "outputs": [
    {
     "data": {
      "text/html": [
       "<table>\n",
       "        <thead>\n",
       "        <th>Champion</th>\n",
       "        <th>hp</th><th>hpperlevel</th><th>mp</th><th>mpperlevel</th><th>movespeed</th><th>armor</th><th>armorperlevel</th><th>spellblock</th><th>spellblockperlevel</th><th>attackrange</th><th>hpregen</th><th>hpregenperlevel</th><th>mpregen</th><th>mpregenperlevel</th><th>crit</th><th>critperlevel</th><th>attackdamage</th><th>attackdamageperlevel</th><th>attackspeedperlevel</th><th>attackspeed</th>\n",
       "        </thead>\n",
       "        <tbody>\n",
       "        <tr>\n",
       "        <td>Camille</td>\n",
       "        <td>575.6</td><td>85</td><td>338.8</td><td>32</td><td>340</td><td>35</td><td>3.8</td><td>32.1</td><td>1.25</td><td>125</td><td>8.5</td><td>0.8</td><td>8.15</td><td>0.75</td><td>0</td><td>0</td><td>68</td><td>3.5</td><td>2.5</td><td>0.644</td>\n",
       "        </tr>\n",
       "        \n",
       "        <tr>\n",
       "        <td>Riven</td>\n",
       "        <td>560</td><td>86</td><td>0</td><td>0</td><td>340</td><td>33</td><td>3.2</td><td>32.1</td><td>1.25</td><td>125</td><td>8.5</td><td>0.5</td><td>0</td><td>0</td><td>0</td><td>0</td><td>64</td><td>3</td><td>3.5</td><td>0.625</td>\n",
       "        </tr>\n",
       "        </tbody></table>"
      ],
      "text/plain": [
       "<__main__.Stats at 0x1140e2c50>"
      ]
     },
     "execution_count": 7,
     "metadata": {},
     "output_type": "execute_result"
    }
   ],
   "source": [
    "class Stats:\n",
    "    def __init__(self, my_champion_name, my_champion, ennemy_champion_name, ennemy_champion):\n",
    "        self.my_champion_name = my_champion_name\n",
    "        self.my_champion = my_champion\n",
    "        self.ennemy_champion_name = ennemy_champion_name\n",
    "        self.ennemy_champion = ennemy_champion\n",
    "    def headCols(self):\n",
    "        return ''.join([f\"<th>{i}</th>\" for i, stat in self.my_champion[self.my_champion_name]['stats'].items()])\n",
    "    def head(self):\n",
    "        return f\"\"\"\n",
    "        <thead>\n",
    "        <th>Champion</th>\n",
    "        {self.headCols()}\n",
    "        </thead>\n",
    "        \"\"\"\n",
    "    def myCols(self):\n",
    "        return ''.join([f\"<td>{stat}</td>\" for i, stat in self.my_champion[self.my_champion_name]['stats'].items()])\n",
    "    def getMyStats(self):\n",
    "        return f\"\"\"\n",
    "        <tr>\n",
    "        <td>{self.my_champion_name}</td>\n",
    "        {self.myCols()}\n",
    "        </tr>\n",
    "        \"\"\"\n",
    "    def ennemyCols(self):\n",
    "        return ''.join([f'<td>{stat}</td>' for i, stat in self.ennemy_champion[self.ennemy_champion_name]['stats'].items()])\n",
    "    def getEnnemyStats(self):\n",
    "        return f\"\"\"\n",
    "        <tr>\n",
    "        <td>{self.ennemy_champion_name}</td>\n",
    "        {self.ennemyCols()}\n",
    "        </tr>\n",
    "        \"\"\"\n",
    "    def _repr_html_(self):\n",
    "        return f\"\"\"<table>{self.head()}<tbody>{self.getMyStats()}{self.getEnnemyStats()}</tbody></table>\"\"\"\n",
    "    \n",
    "    \n",
    "Stats(my_champion_name, my_champion, ennemy_champion_name, ennemy_champion)"
   ]
  },
  {
   "cell_type": "code",
   "execution_count": 8,
   "metadata": {},
   "outputs": [
    {
     "data": {
      "text/html": [
       "<table>\n",
       "        <thead>\n",
       "        <th>Champion</th>\n",
       "        <th>Q</th><th>W</th><th>E</th><th>R</th>\n",
       "        </thead>\n",
       "        <tbody>\n",
       "        <tr>\n",
       "        <td>Camille</td>\n",
       "        <td>CamilleQ</td><td>CamilleW</td><td>CamilleE</td><td>CamilleR</td>\n",
       "        </tr>\n",
       "        \n",
       "        <tr>\n",
       "        <td>Riven</td>\n",
       "        <td>RivenTriCleave</td><td>RivenMartyr</td><td>RivenFeint</td><td>RivenFengShuiEngine</td>\n",
       "        </tr>\n",
       "        </tbody></table>"
      ],
      "text/plain": [
       "<__main__.CoolDown at 0x1140e1f90>"
      ]
     },
     "execution_count": 8,
     "metadata": {},
     "output_type": "execute_result"
    }
   ],
   "source": [
    "class CoolDown:\n",
    "    def __init__(self, my_champion_name, my_champion, ennemy_champion_name, ennemy_champion):\n",
    "        self.my_champion_name = my_champion_name\n",
    "        self.my_champion = my_champion\n",
    "        self.ennemy_champion_name = ennemy_champion_name\n",
    "        self.ennemy_champion = ennemy_champion\n",
    "    def headCols(self):\n",
    "        return ''.join([f\"<th>{s}</th>\" for s in [\"Q\", \"W\", \"E\", \"R\"]])\n",
    "    def head(self):\n",
    "        return f\"\"\"\n",
    "        <thead>\n",
    "        <th>Champion</th>\n",
    "        {self.headCols()}\n",
    "        </thead>\n",
    "        \"\"\"\n",
    "    def myCols(self):\n",
    "        return ''.join([f\"<td>{s['id']}</td>\" for s in self.my_champion[self.my_champion_name]['spells']])\n",
    "    def getMyStats(self):\n",
    "        return f\"\"\"\n",
    "        <tr>\n",
    "        <td>{self.my_champion_name}</td>\n",
    "        {self.myCols()}\n",
    "        </tr>\n",
    "        \"\"\"\n",
    "    def ennemyCols(self):\n",
    "        return ''.join([f\"<td>{s['id']}</td>\" for s in self.ennemy_champion[self.ennemy_champion_name]['spells']])\n",
    "    def getEnnemyStats(self):\n",
    "        return f\"\"\"\n",
    "        <tr>\n",
    "        <td>{self.ennemy_champion_name}</td>\n",
    "        {self.ennemyCols()}\n",
    "        </tr>\n",
    "        \"\"\"\n",
    "    def _repr_html_(self):\n",
    "        return f\"\"\"<table>{self.head()}<tbody>{self.getMyStats()}{self.getEnnemyStats()}</tbody></table>\"\"\"\n",
    "    \n",
    "    \n",
    "CoolDown(my_champion_name, my_champion, ennemy_champion_name, ennemy_champion)"
   ]
  },
  {
   "cell_type": "code",
   "execution_count": null,
   "metadata": {},
   "outputs": [],
   "source": []
  }
 ],
 "metadata": {
  "kernelspec": {
   "display_name": "Python 3",
   "language": "python",
   "name": "python3"
  },
  "language_info": {
   "codemirror_mode": {
    "name": "ipython",
    "version": 3
   },
   "file_extension": ".py",
   "mimetype": "text/x-python",
   "name": "python",
   "nbconvert_exporter": "python",
   "pygments_lexer": "ipython3",
   "version": "3.7.6"
  }
 },
 "nbformat": 4,
 "nbformat_minor": 2
}
