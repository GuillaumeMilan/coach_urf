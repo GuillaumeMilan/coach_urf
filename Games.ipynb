{
 "cells": [
  {
   "cell_type": "code",
   "execution_count": null,
   "metadata": {},
   "outputs": [],
   "source": [
    "import json\n",
    "from datetime import datetime\n",
    "import numpy as np\n",
    "import matplotlib.image as mpimg\n",
    "import matplotlib.pyplot as plt\n",
    "import time as tm\n",
    "from IPython.display import Image\n",
    "import base64\n",
    "import pandas as pd"
   ]
  },
  {
   "cell_type": "code",
   "execution_count": null,
   "metadata": {},
   "outputs": [],
   "source": [
    "# Loading html utils\n",
    "import utils.html\n",
    "# Loading riot and dragon APIS\n",
    "import utils.services\n",
    "import utils.league\n",
    "import utils.dragon\n",
    "import utils.static"
   ]
  },
  {
   "cell_type": "code",
   "execution_count": null,
   "metadata": {},
   "outputs": [],
   "source": [
    "queues = utils.static.to_dict(utils.static.get_queues(), 'queueId')\n",
    "user = utils.league.get_user('GUIGNOMES')\n",
    "user"
   ]
  },
  {
   "cell_type": "code",
   "execution_count": null,
   "metadata": {},
   "outputs": [],
   "source": [
    "# Here we can filter on game type, position, ...\n",
    "matches = utils.league.get_history(user['accountId'])['matches']\n",
    "pd.DataFrame([{'gameId': c['gameId'], 'queue': queues[c['queue']]['description'], 'date': datetime.fromtimestamp(c['timestamp']/1000).strftime('%d-%b-%Y (%H:%M:%S.%f)')} for c in matches])"
   ]
  }
 ],
 "metadata": {
  "kernelspec": {
   "display_name": "Python 3",
   "language": "python",
   "name": "python3"
  },
  "language_info": {
   "codemirror_mode": {
    "name": "ipython",
    "version": 3
   },
   "file_extension": ".py",
   "mimetype": "text/x-python",
   "name": "python",
   "nbconvert_exporter": "python",
   "pygments_lexer": "ipython3",
   "version": "3.7.6"
  }
 },
 "nbformat": 4,
 "nbformat_minor": 2
}
