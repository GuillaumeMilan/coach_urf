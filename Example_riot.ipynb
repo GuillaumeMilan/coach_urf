{
 "cells": [
  {
   "cell_type": "code",
   "execution_count": 1,
   "metadata": {},
   "outputs": [],
   "source": [
    "import json\n",
    "import urllib3\n",
    "from datetime import datetime\n",
    "import numpy as np\n",
    "import matplotlib.image as mpimg\n",
    "import matplotlib.pyplot as plt\n",
    "import time as tm\n"
   ]
  },
  {
   "cell_type": "code",
   "execution_count": 2,
   "metadata": {},
   "outputs": [],
   "source": [
    "http_client = urllib3.PoolManager()\n",
    "def dragon_base():\n",
    "    return \"http://ddragon.leagueoflegends.com\"\n",
    "def API_base():\n",
    "    return \"https://euw1.api.riotgames.com\"\n",
    "def token():\n",
    "    return \"RGAPI-d7f22f7a-1f5a-4537-9f47-dd790a6111f2\"\n",
    "\n",
    "def fetch_url(url, method = 'GET'):\n",
    "    print(f\"{url}\")\n",
    "    return http_client.request(method, f\"{url}\")\n",
    "\n",
    "def fetch_riot_API(url):\n",
    "    return fetch_url(f\"{API_base()}{url}?api_key={token()}\")\n",
    "def fetch_dragons(url):\n",
    "    return fetch_url(f\"{dragon_base()}{url}\")"
   ]
  },
  {
   "cell_type": "code",
   "execution_count": 3,
   "metadata": {},
   "outputs": [],
   "source": [
    "### RIOT API FUNCTIONS\n",
    "def get_user(user_name):\n",
    "    r = fetch_riot_API(f\"/lol/summoner/v4/summoners/by-name/{user_name}\")\n",
    "    if r.status >= 200 and r.status < 400:\n",
    "        return json.loads(r.data)\n",
    "    else:\n",
    "        print(f\"STATUS: {r.status}\")\n",
    "        return None\n",
    "    \n",
    "def get_rotation():\n",
    "    r = fetch_riot_API(f\"/lol/platform/v3/champion-rotations\")\n",
    "    if r.status >= 200 and r.status < 400:\n",
    "        return json.loads(r.data)\n",
    "    else:\n",
    "        print(f\"STATUS: {r.status}\")\n",
    "        return None\n",
    "\n",
    "def get_masteries(user_id):\n",
    "    r = fetch_riot_API(f\"/lol/champion-mastery/v4/champion-masteries/by-summoner/{user_id}\")\n",
    "    if r.status >= 200 and r.status < 400:\n",
    "        return json.loads(r.data)\n",
    "    else:\n",
    "        print(f\"STATUS: {r.status}\")\n",
    "        return None\n",
    "\n",
    "def get_history(account_id):\n",
    "    r = fetch_riot_API(f\"/lol/match/v4/matchlists/by-account/{account_id}\")\n",
    "    if r.status >= 200 and r.status < 400:\n",
    "        return json.loads(r.data)\n",
    "    else:\n",
    "        print(f\"STATUS: {r.status}\")\n",
    "        return None\n",
    "\n",
    "def get_match(gameId):\n",
    "    r = fetch_riot_API(f\"/lol/match/v4/matches/{gameId}\")\n",
    "    if r.status >= 200 and r.status < 400:\n",
    "        return json.loads(r.data)\n",
    "    else:\n",
    "        print(f\"STATUS: {r.status}\")\n",
    "        return None\n",
    "    \n",
    "def get_all_the_league_entries(queue,tier,division):\n",
    "    r = fetch_riot_API(f\"/lol/league/v4/entries/{queue}/{tier}/{division}\")\n",
    "    if r.status >= 200 and r.status < 400:\n",
    "        return json.loads(r.data)\n",
    "    else:\n",
    "        print(f\"STATUS: {r.status}\")\n",
    "        return None\n",
    "\n",
    "def get_league(leagueId):\n",
    "    r = fetch_riot_API(f\"/lol/league/v4/leagues/{leagueId}\")\n",
    "    if r.status >= 200 and r.status < 400:\n",
    "        return json.loads(r.data)\n",
    "    else:\n",
    "        print(f\"STATUS: {r.status}\")\n",
    "        return None\n",
    "### DRAGONS LEAGUE OF LEGENDS API FUNCTIONS      \n",
    "def get_champions_list(patch):\n",
    "    r = fetch_dragons(f\"/cdn/{patch}/data/fr_FR/champion.json\")\n",
    "    if r.status >= 200 and r.status < 400:\n",
    "        return json.loads(r.data)\n",
    "    else:\n",
    "        print(f\"STATUS: {r.status}\")\n",
    "        return None\n",
    "\n",
    "def get_patch():\n",
    "    r = fetch_dragons(f\"/api/versions.json\")\n",
    "    if r.status >= 200 and r.status < 400:\n",
    "        return json.loads(r.data)\n",
    "    else:\n",
    "        print(f\"STATUS: {r.status}\")\n",
    "        return None\n",
    "def get_current_patch():\n",
    "    return get_patch()[0]\n",
    "    \n",
    "def get_profil_icon(iconid,patch):\n",
    "    img = fetch_dragons(f\"/cdn/{patch}/img/profileicon/{iconid}.png\")\n",
    "    return img"
   ]
  },
  {
   "cell_type": "code",
   "execution_count": 4,
   "metadata": {},
   "outputs": [
    {
     "name": "stdout",
     "output_type": "stream",
     "text": [
      "http://ddragon.leagueoflegends.com/cdn/9.12.1/data/fr_FR/champion.json\n"
     ]
    }
   ],
   "source": [
    "### UTILS FUNCTIONS\n",
    "champions = get_champions_list(\"9.12.1\")\n",
    "def champion_name_from_id(championId):\n",
    "    for name,body in champions[\"data\"].items():\n",
    "        if int(body[\"key\"])==championId : return name\n",
    "    return \"Unknown\"\n",
    "\n",
    "def id_from_champion_name(champion_name):\n",
    "    for name,body in champions[\"data\"].items():\n",
    "        if champion_name == name : return body[\"key\"]\n",
    "    return None"
   ]
  },
  {
   "cell_type": "code",
   "execution_count": 5,
   "metadata": {},
   "outputs": [
    {
     "name": "stdout",
     "output_type": "stream",
     "text": [
      "https://euw1.api.riotgames.com/lol/platform/v3/champion-rotations?api_key=RGAPI-d7f22f7a-1f5a-4537-9f47-dd790a6111f2\n"
     ]
    },
    {
     "name": "stderr",
     "output_type": "stream",
     "text": [
      "/usr/local/lib/python3.7/site-packages/urllib3/connectionpool.py:847: InsecureRequestWarning: Unverified HTTPS request is being made. Adding certificate verification is strongly advised. See: https://urllib3.readthedocs.io/en/latest/advanced-usage.html#ssl-warnings\n",
      "  InsecureRequestWarning)\n"
     ]
    },
    {
     "data": {
      "text/plain": [
       "['TwistedFate',\n",
       " 'Kayle',\n",
       " 'Sion',\n",
       " 'Warwick',\n",
       " 'Chogath',\n",
       " 'Anivia',\n",
       " 'Janna',\n",
       " 'Swain',\n",
       " 'Udyr',\n",
       " 'Ezreal',\n",
       " 'KogMaw',\n",
       " 'Hecarim',\n",
       " 'Lissandra',\n",
       " 'TahmKench',\n",
       " 'Aatrox']"
      ]
     },
     "execution_count": 5,
     "metadata": {},
     "output_type": "execute_result"
    }
   ],
   "source": [
    "rot = get_rotation()\n",
    "\n",
    "[champion_name_from_id(i) for i in rot[\"freeChampionIds\"]]\n",
    "    "
   ]
  },
  {
   "cell_type": "code",
   "execution_count": 6,
   "metadata": {},
   "outputs": [
    {
     "name": "stdout",
     "output_type": "stream",
     "text": [
      "https://euw1.api.riotgames.com/lol/summoner/v4/summoners/by-name/jesuisnonbinaire?api_key=RGAPI-a8b115a1-d191-4fab-b57c-0a7a5dd665c1\n",
      "https://euw1.api.riotgames.com/lol/champion-mastery/v4/champion-masteries/by-summoner/pFUZlf9l9EhbuYK2S_XhuNmBtgv_IoyLEToVcgiuRyU5CFs?api_key=RGAPI-a8b115a1-d191-4fab-b57c-0a7a5dd665c1\n"
     ]
    },
    {
     "name": "stderr",
     "output_type": "stream",
     "text": [
      "C:\\Users\\utilisateur\\Documents\\MPSIS\\IPT\\WinPython-64bit-3.6.3.0Qt5\\python-3.6.3.amd64\\lib\\site-packages\\urllib3\\connectionpool.py:852: InsecureRequestWarning: Unverified HTTPS request is being made. Adding certificate verification is strongly advised. See: https://urllib3.readthedocs.io/en/latest/advanced-usage.html#ssl-warnings\n",
      "  InsecureRequestWarning)\n",
      "C:\\Users\\utilisateur\\Documents\\MPSIS\\IPT\\WinPython-64bit-3.6.3.0Qt5\\python-3.6.3.amd64\\lib\\site-packages\\urllib3\\connectionpool.py:852: InsecureRequestWarning: Unverified HTTPS request is being made. Adding certificate verification is strongly advised. See: https://urllib3.readthedocs.io/en/latest/advanced-usage.html#ssl-warnings\n",
      "  InsecureRequestWarning)\n"
     ]
    }
   ],
   "source": [
    "guignomes_masteries = get_masteries(get_user(\"jesuisnonbinaire\")[\"id\"])"
   ]
  },
  {
   "cell_type": "code",
   "execution_count": 8,
   "metadata": {},
   "outputs": [
    {
     "data": {
      "text/plain": [
       "[{'id': 60,\n",
       "  'last_played': '03-Jul-2019 (00:26:51.000000)',\n",
       "  'level': 7,\n",
       "  'name': 'Elise'},\n",
       " {'id': 76,\n",
       "  'last_played': '27-Sep-2018 (00:05:17.000000)',\n",
       "  'level': 7,\n",
       "  'name': 'Nidalee'},\n",
       " {'id': 127,\n",
       "  'last_played': '14-Jun-2019 (19:50:38.000000)',\n",
       "  'level': 7,\n",
       "  'name': 'Lissandra'},\n",
       " {'id': 121,\n",
       "  'last_played': '17-Sep-2018 (22:49:12.000000)',\n",
       "  'level': 7,\n",
       "  'name': 'Khazix'},\n",
       " {'id': 7,\n",
       "  'last_played': '15-Jun-2019 (12:03:05.000000)',\n",
       "  'level': 7,\n",
       "  'name': 'Leblanc'},\n",
       " {'id': 412,\n",
       "  'last_played': '10-Jun-2019 (12:01:45.000000)',\n",
       "  'level': 5,\n",
       "  'name': 'Thresh'},\n",
       " {'id': 58,\n",
       "  'last_played': '02-Jul-2019 (23:54:38.000000)',\n",
       "  'level': 6,\n",
       "  'name': 'Renekton'},\n",
       " {'id': 69,\n",
       "  'last_played': '19-Jun-2019 (14:06:27.000000)',\n",
       "  'level': 7,\n",
       "  'name': 'Cassiopeia'},\n",
       " {'id': 61,\n",
       "  'last_played': '21-Jun-2019 (13:16:00.000000)',\n",
       "  'level': 6,\n",
       "  'name': 'Orianna'},\n",
       " {'id': 25,\n",
       "  'last_played': '01-Feb-2018 (07:23:56.000000)',\n",
       "  'level': 7,\n",
       "  'name': 'Morgana'},\n",
       " {'id': 54,\n",
       "  'last_played': '23-Sep-2018 (21:28:55.000000)',\n",
       "  'level': 5,\n",
       "  'name': 'Malphite'},\n",
       " {'id': 63,\n",
       "  'last_played': '24-Sep-2018 (19:27:57.000000)',\n",
       "  'level': 6,\n",
       "  'name': 'Brand'},\n",
       " {'id': 23,\n",
       "  'last_played': '04-Jun-2018 (02:55:14.000000)',\n",
       "  'level': 7,\n",
       "  'name': 'Tryndamere'},\n",
       " {'id': 40,\n",
       "  'last_played': '10-Jun-2017 (08:44:45.000000)',\n",
       "  'level': 6,\n",
       "  'name': 'Janna'},\n",
       " {'id': 53,\n",
       "  'last_played': '26-Jun-2019 (18:44:54.000000)',\n",
       "  'level': 6,\n",
       "  'name': 'Blitzcrank'},\n",
       " {'id': 222,\n",
       "  'last_played': '29-May-2017 (05:24:55.000000)',\n",
       "  'level': 6,\n",
       "  'name': 'Jinx'},\n",
       " {'id': 86,\n",
       "  'last_played': '27-Sep-2018 (14:34:03.000000)',\n",
       "  'level': 6,\n",
       "  'name': 'Garen'},\n",
       " {'id': 51,\n",
       "  'last_played': '09-Jun-2018 (18:54:28.000000)',\n",
       "  'level': 5,\n",
       "  'name': 'Caitlyn'},\n",
       " {'id': 3,\n",
       "  'last_played': '19-Jan-2019 (16:17:12.000000)',\n",
       "  'level': 6,\n",
       "  'name': 'Galio'},\n",
       " {'id': 96,\n",
       "  'last_played': '08-Jul-2018 (16:49:04.000000)',\n",
       "  'level': 5,\n",
       "  'name': 'KogMaw'},\n",
       " {'id': 134,\n",
       "  'last_played': '03-Jun-2019 (12:49:24.000000)',\n",
       "  'level': 5,\n",
       "  'name': 'Syndra'},\n",
       " {'id': 154,\n",
       "  'last_played': '09-Jan-2019 (17:49:06.000000)',\n",
       "  'level': 5,\n",
       "  'name': 'Zac'},\n",
       " {'id': 5,\n",
       "  'last_played': '26-Jun-2019 (02:51:49.000000)',\n",
       "  'level': 6,\n",
       "  'name': 'XinZhao'},\n",
       " {'id': 101,\n",
       "  'last_played': '04-Feb-2019 (17:10:38.000000)',\n",
       "  'level': 5,\n",
       "  'name': 'Xerath'},\n",
       " {'id': 64,\n",
       "  'last_played': '30-Nov-2018 (00:34:12.000000)',\n",
       "  'level': 6,\n",
       "  'name': 'LeeSin'},\n",
       " {'id': 103,\n",
       "  'last_played': '08-Mar-2018 (03:17:03.000000)',\n",
       "  'level': 5,\n",
       "  'name': 'Ahri'},\n",
       " {'id': 67,\n",
       "  'last_played': '01-Feb-2019 (19:44:08.000000)',\n",
       "  'level': 5,\n",
       "  'name': 'Vayne'},\n",
       " {'id': 1,\n",
       "  'last_played': '26-Jun-2019 (00:38:49.000000)',\n",
       "  'level': 5,\n",
       "  'name': 'Annie'},\n",
       " {'id': 238,\n",
       "  'last_played': '13-Jun-2017 (08:44:43.000000)',\n",
       "  'level': 5,\n",
       "  'name': 'Zed'},\n",
       " {'id': 36,\n",
       "  'last_played': '05-Jun-2019 (20:18:57.000000)',\n",
       "  'level': 4,\n",
       "  'name': 'DrMundo'},\n",
       " {'id': 59,\n",
       "  'last_played': '09-Feb-2018 (03:26:26.000000)',\n",
       "  'level': 4,\n",
       "  'name': 'JarvanIV'},\n",
       " {'id': 254,\n",
       "  'last_played': '11-Jul-2018 (01:30:56.000000)',\n",
       "  'level': 4,\n",
       "  'name': 'Vi'},\n",
       " {'id': 122,\n",
       "  'last_played': '16-Sep-2018 (18:52:55.000000)',\n",
       "  'level': 4,\n",
       "  'name': 'Darius'},\n",
       " {'id': 4,\n",
       "  'last_played': '13-Jun-2019 (09:58:26.000000)',\n",
       "  'level': 4,\n",
       "  'name': 'TwistedFate'},\n",
       " {'id': 268,\n",
       "  'last_played': '28-Oct-2017 (08:35:13.000000)',\n",
       "  'level': 4,\n",
       "  'name': 'Azir'},\n",
       " {'id': 11,\n",
       "  'last_played': '01-Nov-2016 (08:20:28.000000)',\n",
       "  'level': 4,\n",
       "  'name': 'MasterYi'},\n",
       " {'id': 80,\n",
       "  'last_played': '26-Aug-2018 (12:24:23.000000)',\n",
       "  'level': 4,\n",
       "  'name': 'Pantheon'},\n",
       " {'id': 157,\n",
       "  'last_played': '13-Sep-2018 (17:33:07.000000)',\n",
       "  'level': 4,\n",
       "  'name': 'Yasuo'},\n",
       " {'id': 236,\n",
       "  'last_played': '13-Nov-2017 (01:41:13.000000)',\n",
       "  'level': 4,\n",
       "  'name': 'Lucian'},\n",
       " {'id': 62,\n",
       "  'last_played': '25-Aug-2018 (16:58:13.000000)',\n",
       "  'level': 4,\n",
       "  'name': 'MonkeyKing'},\n",
       " {'id': 29,\n",
       "  'last_played': '22-Sep-2018 (17:24:46.000000)',\n",
       "  'level': 4,\n",
       "  'name': 'Twitch'},\n",
       " {'id': 432,\n",
       "  'last_played': '02-Jun-2019 (23:05:08.000000)',\n",
       "  'level': 4,\n",
       "  'name': 'Bard'},\n",
       " {'id': 99,\n",
       "  'last_played': '03-Jun-2019 (17:26:20.000000)',\n",
       "  'level': 4,\n",
       "  'name': 'Lux'},\n",
       " {'id': 45,\n",
       "  'last_played': '05-Jan-2018 (19:47:41.000000)',\n",
       "  'level': 4,\n",
       "  'name': 'Veigar'},\n",
       " {'id': 112,\n",
       "  'last_played': '28-May-2018 (00:48:54.000000)',\n",
       "  'level': 4,\n",
       "  'name': 'Viktor'},\n",
       " {'id': 105,\n",
       "  'last_played': '15-Jun-2019 (14:19:13.000000)',\n",
       "  'level': 3,\n",
       "  'name': 'Fizz'},\n",
       " {'id': 81,\n",
       "  'last_played': '26-Jun-2019 (00:10:26.000000)',\n",
       "  'level': 3,\n",
       "  'name': 'Ezreal'},\n",
       " {'id': 84,\n",
       "  'last_played': '06-Jul-2018 (23:02:29.000000)',\n",
       "  'level': 3,\n",
       "  'name': 'Akali'},\n",
       " {'id': 9,\n",
       "  'last_played': '29-Apr-2017 (23:36:47.000000)',\n",
       "  'level': 3,\n",
       "  'name': 'Fiddlesticks'},\n",
       " {'id': 18,\n",
       "  'last_played': '08-Nov-2017 (03:19:07.000000)',\n",
       "  'level': 3,\n",
       "  'name': 'Tristana'},\n",
       " {'id': 421,\n",
       "  'last_played': '13-Oct-2017 (20:30:03.000000)',\n",
       "  'level': 3,\n",
       "  'name': 'RekSai'},\n",
       " {'id': 126,\n",
       "  'last_played': '17-Dec-2017 (06:17:07.000000)',\n",
       "  'level': 3,\n",
       "  'name': 'Jayce'},\n",
       " {'id': 33,\n",
       "  'last_played': '05-Sep-2018 (14:18:50.000000)',\n",
       "  'level': 3,\n",
       "  'name': 'Rammus'},\n",
       " {'id': 22,\n",
       "  'last_played': '11-Jul-2017 (00:09:34.000000)',\n",
       "  'level': 3,\n",
       "  'name': 'Ashe'},\n",
       " {'id': 429,\n",
       "  'last_played': '06-Jun-2017 (06:14:01.000000)',\n",
       "  'level': 3,\n",
       "  'name': 'Kalista'},\n",
       " {'id': 110,\n",
       "  'last_played': '01-Mar-2018 (09:22:34.000000)',\n",
       "  'level': 3,\n",
       "  'name': 'Varus'},\n",
       " {'id': 131,\n",
       "  'last_played': '03-Jul-2019 (01:06:29.000000)',\n",
       "  'level': 3,\n",
       "  'name': 'Diana'},\n",
       " {'id': 28,\n",
       "  'last_played': '17-Dec-2016 (19:12:43.000000)',\n",
       "  'level': 3,\n",
       "  'name': 'Evelynn'},\n",
       " {'id': 92,\n",
       "  'last_played': '02-Nov-2015 (03:28:49.000000)',\n",
       "  'level': 3,\n",
       "  'name': 'Riven'},\n",
       " {'id': 75,\n",
       "  'last_played': '21-Aug-2018 (11:31:38.000000)',\n",
       "  'level': 3,\n",
       "  'name': 'Nasus'},\n",
       " {'id': 89,\n",
       "  'last_played': '13-Nov-2017 (09:16:58.000000)',\n",
       "  'level': 3,\n",
       "  'name': 'Leona'},\n",
       " {'id': 38,\n",
       "  'last_played': '13-Sep-2018 (21:54:49.000000)',\n",
       "  'level': 3,\n",
       "  'name': 'Kassadin'},\n",
       " {'id': 56,\n",
       "  'last_played': '02-Jul-2019 (00:38:13.000000)',\n",
       "  'level': 3,\n",
       "  'name': 'Nocturne'},\n",
       " {'id': 202,\n",
       "  'last_played': '28-May-2018 (00:15:56.000000)',\n",
       "  'level': 3,\n",
       "  'name': 'Jhin'},\n",
       " {'id': 142,\n",
       "  'last_played': '01-Feb-2018 (07:59:11.000000)',\n",
       "  'level': 3,\n",
       "  'name': 'Zoe'},\n",
       " {'id': 14,\n",
       "  'last_played': '12-Jun-2015 (15:22:18.000000)',\n",
       "  'level': 3,\n",
       "  'name': 'Sion'},\n",
       " {'id': 161,\n",
       "  'last_played': '26-Dec-2016 (02:33:40.000000)',\n",
       "  'level': 3,\n",
       "  'name': 'Velkoz'},\n",
       " {'id': 245,\n",
       "  'last_played': '19-Oct-2016 (07:07:49.000000)',\n",
       "  'level': 3,\n",
       "  'name': 'Ekko'},\n",
       " {'id': 107,\n",
       "  'last_played': '23-Apr-2017 (23:46:32.000000)',\n",
       "  'level': 2,\n",
       "  'name': 'Rengar'},\n",
       " {'id': 13,\n",
       "  'last_played': '23-Jan-2018 (08:35:07.000000)',\n",
       "  'level': 2,\n",
       "  'name': 'Ryze'},\n",
       " {'id': 15,\n",
       "  'last_played': '24-Sep-2016 (22:37:16.000000)',\n",
       "  'level': 2,\n",
       "  'name': 'Sivir'},\n",
       " {'id': 91,\n",
       "  'last_played': '26-Jun-2019 (19:20:39.000000)',\n",
       "  'level': 2,\n",
       "  'name': 'Talon'},\n",
       " {'id': 30,\n",
       "  'last_played': '30-Dec-2015 (20:01:08.000000)',\n",
       "  'level': 2,\n",
       "  'name': 'Karthus'},\n",
       " {'id': 42,\n",
       "  'last_played': '01-Mar-2018 (07:17:51.000000)',\n",
       "  'level': 2,\n",
       "  'name': 'Corki'},\n",
       " {'id': 21,\n",
       "  'last_played': '03-Sep-2018 (01:38:04.000000)',\n",
       "  'level': 2,\n",
       "  'name': 'MissFortune'},\n",
       " {'id': 555,\n",
       "  'last_played': '26-Jun-2019 (18:12:14.000000)',\n",
       "  'level': 2,\n",
       "  'name': 'Pyke'},\n",
       " {'id': 17,\n",
       "  'last_played': '24-Dec-2017 (06:37:03.000000)',\n",
       "  'level': 2,\n",
       "  'name': 'Teemo'},\n",
       " {'id': 85,\n",
       "  'last_played': '01-May-2018 (08:19:36.000000)',\n",
       "  'level': 2,\n",
       "  'name': 'Kennen'},\n",
       " {'id': 117,\n",
       "  'last_played': '24-Dec-2017 (08:38:21.000000)',\n",
       "  'level': 2,\n",
       "  'name': 'Lulu'},\n",
       " {'id': 113,\n",
       "  'last_played': '26-Jun-2019 (02:25:07.000000)',\n",
       "  'level': 2,\n",
       "  'name': 'Sejuani'},\n",
       " {'id': 102,\n",
       "  'last_played': '12-Jan-2018 (20:55:29.000000)',\n",
       "  'level': 2,\n",
       "  'name': 'Shyvana'},\n",
       " {'id': 266,\n",
       "  'last_played': '08-May-2017 (22:41:33.000000)',\n",
       "  'level': 2,\n",
       "  'name': 'Aatrox'},\n",
       " {'id': 201,\n",
       "  'last_played': '28-Dec-2017 (08:16:27.000000)',\n",
       "  'level': 2,\n",
       "  'name': 'Braum'},\n",
       " {'id': 143,\n",
       "  'last_played': '16-Aug-2017 (02:19:46.000000)',\n",
       "  'level': 2,\n",
       "  'name': 'Zyra'},\n",
       " {'id': 32,\n",
       "  'last_played': '14-Jan-2018 (03:17:43.000000)',\n",
       "  'level': 2,\n",
       "  'name': 'Amumu'},\n",
       " {'id': 12,\n",
       "  'last_played': '05-Sep-2018 (23:44:31.000000)',\n",
       "  'level': 2,\n",
       "  'name': 'Alistar'},\n",
       " {'id': 79,\n",
       "  'last_played': '11-Jun-2017 (00:46:37.000000)',\n",
       "  'level': 2,\n",
       "  'name': 'Gragas'},\n",
       " {'id': 104,\n",
       "  'last_played': '23-Apr-2017 (22:40:38.000000)',\n",
       "  'level': 2,\n",
       "  'name': 'Graves'},\n",
       " {'id': 43,\n",
       "  'last_played': '27-May-2018 (19:11:06.000000)',\n",
       "  'level': 2,\n",
       "  'name': 'Karma'},\n",
       " {'id': 120,\n",
       "  'last_played': '21-Jun-2019 (13:48:55.000000)',\n",
       "  'level': 2,\n",
       "  'name': 'Hecarim'},\n",
       " {'id': 68,\n",
       "  'last_played': '19-Mar-2017 (10:04:49.000000)',\n",
       "  'level': 2,\n",
       "  'name': 'Rumble'},\n",
       " {'id': 35,\n",
       "  'last_played': '10-Jul-2018 (14:16:45.000000)',\n",
       "  'level': 2,\n",
       "  'name': 'Shaco'},\n",
       " {'id': 133,\n",
       "  'last_played': '06-Jul-2018 (00:13:33.000000)',\n",
       "  'level': 2,\n",
       "  'name': 'Quinn'},\n",
       " {'id': 50,\n",
       "  'last_played': '24-Apr-2017 (01:05:14.000000)',\n",
       "  'level': 2,\n",
       "  'name': 'Swain'},\n",
       " {'id': 136,\n",
       "  'last_played': '22-May-2018 (22:46:46.000000)',\n",
       "  'level': 2,\n",
       "  'name': 'AurelionSol'},\n",
       " {'id': 497,\n",
       "  'last_played': '24-Oct-2017 (04:46:28.000000)',\n",
       "  'level': 2,\n",
       "  'name': 'Rakan'},\n",
       " {'id': 98,\n",
       "  'last_played': '03-Feb-2017 (23:44:48.000000)',\n",
       "  'level': 2,\n",
       "  'name': 'Shen'},\n",
       " {'id': 26,\n",
       "  'last_played': '21-Jun-2016 (02:49:13.000000)',\n",
       "  'level': 2,\n",
       "  'name': 'Zilean'},\n",
       " {'id': 37,\n",
       "  'last_played': '26-Aug-2018 (01:01:59.000000)',\n",
       "  'level': 2,\n",
       "  'name': 'Sona'},\n",
       " {'id': 34,\n",
       "  'last_played': '29-Oct-2015 (09:08:32.000000)',\n",
       "  'level': 2,\n",
       "  'name': 'Anivia'},\n",
       " {'id': 420,\n",
       "  'last_played': '26-Feb-2017 (22:50:05.000000)',\n",
       "  'level': 2,\n",
       "  'name': 'Illaoi'},\n",
       " {'id': 115,\n",
       "  'last_played': '21-Jun-2017 (04:30:42.000000)',\n",
       "  'level': 2,\n",
       "  'name': 'Ziggs'},\n",
       " {'id': 141,\n",
       "  'last_played': '19-Jul-2017 (20:30:29.000000)',\n",
       "  'level': 2,\n",
       "  'name': 'Kayn'},\n",
       " {'id': 2,\n",
       "  'last_played': '20-Dec-2017 (04:38:51.000000)',\n",
       "  'level': 2,\n",
       "  'name': 'Olaf'},\n",
       " {'id': 516,\n",
       "  'last_played': '22-Sep-2018 (15:50:05.000000)',\n",
       "  'level': 1,\n",
       "  'name': 'Ornn'},\n",
       " {'id': 27,\n",
       "  'last_played': '27-Jun-2018 (02:42:48.000000)',\n",
       "  'level': 1,\n",
       "  'name': 'Singed'},\n",
       " {'id': 223,\n",
       "  'last_played': '26-Nov-2016 (08:05:58.000000)',\n",
       "  'level': 1,\n",
       "  'name': 'TahmKench'},\n",
       " {'id': 163,\n",
       "  'last_played': '24-Dec-2017 (06:02:54.000000)',\n",
       "  'level': 1,\n",
       "  'name': 'Taliyah'},\n",
       " {'id': 24,\n",
       "  'last_played': '24-Jun-2016 (13:22:46.000000)',\n",
       "  'level': 1,\n",
       "  'name': 'Jax'},\n",
       " {'id': 8,\n",
       "  'last_played': '26-Jun-2015 (01:53:37.000000)',\n",
       "  'level': 1,\n",
       "  'name': 'Vladimir'},\n",
       " {'id': 74,\n",
       "  'last_played': '24-Dec-2017 (07:08:55.000000)',\n",
       "  'level': 1,\n",
       "  'name': 'Heimerdinger'},\n",
       " {'id': 20,\n",
       "  'last_played': '11-Jul-2015 (18:32:42.000000)',\n",
       "  'level': 1,\n",
       "  'name': 'Nunu'},\n",
       " {'id': 48,\n",
       "  'last_played': '01-May-2018 (08:48:09.000000)',\n",
       "  'level': 1,\n",
       "  'name': 'Trundle'},\n",
       " {'id': 111,\n",
       "  'last_played': '13-Jun-2019 (14:26:05.000000)',\n",
       "  'level': 1,\n",
       "  'name': 'Nautilus'},\n",
       " {'id': 498,\n",
       "  'last_played': '29-Nov-2017 (02:11:15.000000)',\n",
       "  'level': 1,\n",
       "  'name': 'Xayah'},\n",
       " {'id': 72,\n",
       "  'last_played': '07-Jul-2017 (09:29:58.000000)',\n",
       "  'level': 1,\n",
       "  'name': 'Skarner'},\n",
       " {'id': 39,\n",
       "  'last_played': '21-Jan-2019 (16:20:38.000000)',\n",
       "  'level': 1,\n",
       "  'name': 'Irelia'},\n",
       " {'id': 145,\n",
       "  'last_played': '06-Feb-2019 (01:09:18.000000)',\n",
       "  'level': 1,\n",
       "  'name': 'Kaisa'},\n",
       " {'id': 55,\n",
       "  'last_played': '26-Oct-2015 (21:17:48.000000)',\n",
       "  'level': 1,\n",
       "  'name': 'Katarina'},\n",
       " {'id': 31,\n",
       "  'last_played': '03-Sep-2018 (23:10:33.000000)',\n",
       "  'level': 1,\n",
       "  'name': 'Chogath'},\n",
       " {'id': 90,\n",
       "  'last_played': '16-Aug-2017 (01:51:54.000000)',\n",
       "  'level': 1,\n",
       "  'name': 'Malzahar'},\n",
       " {'id': 203,\n",
       "  'last_played': '28-May-2016 (08:17:23.000000)',\n",
       "  'level': 1,\n",
       "  'name': 'Kindred'},\n",
       " {'id': 267,\n",
       "  'last_played': '04-Jul-2018 (21:59:58.000000)',\n",
       "  'level': 1,\n",
       "  'name': 'Nami'},\n",
       " {'id': 427,\n",
       "  'last_played': '09-Oct-2016 (06:17:54.000000)',\n",
       "  'level': 1,\n",
       "  'name': 'Ivern'},\n",
       " {'id': 517,\n",
       "  'last_played': '05-Feb-2019 (02:00:24.000000)',\n",
       "  'level': 1,\n",
       "  'name': 'Sylas'},\n",
       " {'id': 44,\n",
       "  'last_played': '19-Sep-2015 (22:50:01.000000)',\n",
       "  'level': 1,\n",
       "  'name': 'Taric'},\n",
       " {'id': 164,\n",
       "  'last_played': '30-Dec-2016 (09:10:58.000000)',\n",
       "  'level': 1,\n",
       "  'name': 'Camille'},\n",
       " {'id': 119,\n",
       "  'last_played': '28-Jun-2015 (06:16:27.000000)',\n",
       "  'level': 1,\n",
       "  'name': 'Draven'},\n",
       " {'id': 16,\n",
       "  'last_played': '02-Jan-2016 (00:57:16.000000)',\n",
       "  'level': 1,\n",
       "  'name': 'Soraka'},\n",
       " {'id': 19,\n",
       "  'last_played': '11-Jan-2016 (01:05:08.000000)',\n",
       "  'level': 1,\n",
       "  'name': 'Warwick'},\n",
       " {'id': 82,\n",
       "  'last_played': '26-Sep-2016 (01:59:32.000000)',\n",
       "  'level': 1,\n",
       "  'name': 'Mordekaiser'},\n",
       " {'id': 57,\n",
       "  'last_played': '29-May-2016 (00:06:05.000000)',\n",
       "  'level': 1,\n",
       "  'name': 'Maokai'},\n",
       " {'id': 83,\n",
       "  'last_played': '18-Apr-2017 (01:05:36.000000)',\n",
       "  'level': 1,\n",
       "  'name': 'Yorick'},\n",
       " {'id': 240,\n",
       "  'last_played': '25-Oct-2016 (02:43:55.000000)',\n",
       "  'level': 1,\n",
       "  'name': 'Kled'}]"
      ]
     },
     "execution_count": 8,
     "metadata": {},
     "output_type": "execute_result"
    }
   ],
   "source": [
    "[{\"id\": c[\"championId\"], \"name\": champion_name_from_id(c[\"championId\"]), \"level\": c[\"championLevel\"], \"last_played\": datetime.fromtimestamp(c[\"lastPlayTime\"]/1000).strftime(\"%d-%b-%Y (%H:%M:%S.%f)\")} for c in guignomes_masteries]"
   ]
  },
  {
   "cell_type": "code",
   "execution_count": 6,
   "metadata": {
    "scrolled": true
   },
   "outputs": [
    {
     "name": "stdout",
     "output_type": "stream",
     "text": [
      "https://euw1.api.riotgames.com/lol/summoner/v4/summoners/by-name/guignomes?api_key=RGAPI-d7f22f7a-1f5a-4537-9f47-dd790a6111f2\n"
     ]
    },
    {
     "name": "stderr",
     "output_type": "stream",
     "text": [
      "/usr/local/lib/python3.7/site-packages/urllib3/connectionpool.py:847: InsecureRequestWarning: Unverified HTTPS request is being made. Adding certificate verification is strongly advised. See: https://urllib3.readthedocs.io/en/latest/advanced-usage.html#ssl-warnings\n",
      "  InsecureRequestWarning)\n",
      "/usr/local/lib/python3.7/site-packages/urllib3/connectionpool.py:847: InsecureRequestWarning: Unverified HTTPS request is being made. Adding certificate verification is strongly advised. See: https://urllib3.readthedocs.io/en/latest/advanced-usage.html#ssl-warnings\n",
      "  InsecureRequestWarning)\n"
     ]
    },
    {
     "name": "stdout",
     "output_type": "stream",
     "text": [
      "https://euw1.api.riotgames.com/lol/match/v4/matchlists/by-account/2LK5ZBN2n6OGnJt5PlzvERZTVWB3JZ1COGaz5Oj1VfLjWw?api_key=RGAPI-d7f22f7a-1f5a-4537-9f47-dd790a6111f2\n"
     ]
    }
   ],
   "source": [
    "history = get_history(get_user(\"guignomes\")[\"accountId\"])"
   ]
  },
  {
   "cell_type": "code",
   "execution_count": 7,
   "metadata": {},
   "outputs": [
    {
     "data": {
      "text/plain": [
       "[{'champion': 'Cassiopeia',\n",
       "  'date': '05-Apr-2020 (18:25:13.488000)',\n",
       "  'gameid': 4508864668},\n",
       " {'champion': 'Khazix',\n",
       "  'date': '05-Apr-2020 (17:39:55.322000)',\n",
       "  'gameid': 4508723749},\n",
       " {'champion': 'Azir',\n",
       "  'date': '05-Apr-2020 (16:55:49.464000)',\n",
       "  'gameid': 4508593362},\n",
       " {'champion': 'Yasuo',\n",
       "  'date': '05-Apr-2020 (16:03:51.725000)',\n",
       "  'gameid': 4508488755},\n",
       " {'champion': 'TwistedFate',\n",
       "  'date': '05-Apr-2020 (15:22:14.224000)',\n",
       "  'gameid': 4508450538},\n",
       " {'champion': 'Cassiopeia',\n",
       "  'date': '04-Apr-2020 (23:18:35.997000)',\n",
       "  'gameid': 4506877945},\n",
       " {'champion': 'TwistedFate',\n",
       "  'date': '04-Apr-2020 (22:36:20.380000)',\n",
       "  'gameid': 4506766320},\n",
       " {'champion': 'Jinx',\n",
       "  'date': '04-Apr-2020 (21:52:57.194000)',\n",
       "  'gameid': 4506694015},\n",
       " {'champion': 'Cassiopeia',\n",
       "  'date': '04-Apr-2020 (19:22:45.708000)',\n",
       "  'gameid': 4506247879},\n",
       " {'champion': 'Cassiopeia',\n",
       "  'date': '04-Apr-2020 (19:05:32.685000)',\n",
       "  'gameid': 4506234104},\n",
       " {'champion': 'Azir',\n",
       "  'date': '04-Apr-2020 (18:03:33.265000)',\n",
       "  'gameid': 4506088103},\n",
       " {'champion': 'TwistedFate',\n",
       "  'date': '04-Apr-2020 (17:36:08.208000)',\n",
       "  'gameid': 4506032034},\n",
       " {'champion': 'MissFortune',\n",
       "  'date': '04-Apr-2020 (00:22:08.277000)',\n",
       "  'gameid': 4504657164},\n",
       " {'champion': 'TwistedFate',\n",
       "  'date': '03-Apr-2020 (23:36:23.413000)',\n",
       "  'gameid': 4504374672},\n",
       " {'champion': 'TwistedFate',\n",
       "  'date': '03-Apr-2020 (23:27:58.011000)',\n",
       "  'gameid': 4504362333},\n",
       " {'champion': 'TwistedFate',\n",
       "  'date': '03-Apr-2020 (22:48:50.621000)',\n",
       "  'gameid': 4504140386},\n",
       " {'champion': 'Kalista',\n",
       "  'date': '03-Apr-2020 (22:22:14.398000)',\n",
       "  'gameid': 4504084372},\n",
       " {'champion': 'Ziggs',\n",
       "  'date': '02-Apr-2020 (00:58:28.252000)',\n",
       "  'gameid': 4499730464},\n",
       " {'champion': 'Rammus',\n",
       "  'date': '02-Apr-2020 (00:29:16.487000)',\n",
       "  'gameid': 4499694320},\n",
       " {'champion': 'Orianna',\n",
       "  'date': '01-Apr-2020 (23:42:38.701000)',\n",
       "  'gameid': 4499583058},\n",
       " {'champion': 'Ahri',\n",
       "  'date': '01-Apr-2020 (23:00:30.858000)',\n",
       "  'gameid': 4499388720},\n",
       " {'champion': 'Rammus',\n",
       "  'date': '31-Mar-2020 (23:39:02.321000)',\n",
       "  'gameid': 4496516001},\n",
       " {'champion': 'Bard',\n",
       "  'date': '31-Mar-2020 (23:11:05.580000)',\n",
       "  'gameid': 4496437986},\n",
       " {'champion': 'Heimerdinger',\n",
       "  'date': '31-Mar-2020 (22:48:56.499000)',\n",
       "  'gameid': 4496353368},\n",
       " {'champion': 'Nunu',\n",
       "  'date': '31-Mar-2020 (22:15:08.206000)',\n",
       "  'gameid': 4496025395},\n",
       " {'champion': 'Cassiopeia',\n",
       "  'date': '31-Mar-2020 (00:32:13.959000)',\n",
       "  'gameid': 4494147353},\n",
       " {'champion': 'TwistedFate',\n",
       "  'date': '30-Mar-2020 (23:27:44.498000)',\n",
       "  'gameid': 4494111616},\n",
       " {'champion': 'Lucian',\n",
       "  'date': '30-Mar-2020 (22:47:13.366000)',\n",
       "  'gameid': 4493971757},\n",
       " {'champion': 'TwistedFate',\n",
       "  'date': '29-Mar-2020 (19:49:12.179000)',\n",
       "  'gameid': 4491031448},\n",
       " {'champion': 'Zed',\n",
       "  'date': '29-Mar-2020 (19:09:53.894000)',\n",
       "  'gameid': 4490931347},\n",
       " {'champion': 'Graves',\n",
       "  'date': '29-Mar-2020 (18:40:47.118000)',\n",
       "  'gameid': 4490684553},\n",
       " {'champion': 'Olaf',\n",
       "  'date': '29-Mar-2020 (18:01:16.146000)',\n",
       "  'gameid': 4490503499},\n",
       " {'champion': 'Rengar',\n",
       "  'date': '29-Mar-2020 (17:37:03.005000)',\n",
       "  'gameid': 4490267652},\n",
       " {'champion': 'Vi',\n",
       "  'date': '27-Mar-2020 (23:37:09.301000)',\n",
       "  'gameid': 4486243290},\n",
       " {'champion': 'Ziggs',\n",
       "  'date': '27-Mar-2020 (22:55:18.023000)',\n",
       "  'gameid': 4486071601},\n",
       " {'champion': 'Nocturne',\n",
       "  'date': '27-Mar-2020 (22:17:08.522000)',\n",
       "  'gameid': 4485929633},\n",
       " {'champion': 'Olaf',\n",
       "  'date': '27-Mar-2020 (21:34:36.813000)',\n",
       "  'gameid': 4485827340},\n",
       " {'champion': 'LeeSin',\n",
       "  'date': '24-Mar-2020 (23:16:16.571000)',\n",
       "  'gameid': 4478740828},\n",
       " {'champion': 'Vi',\n",
       "  'date': '24-Mar-2020 (22:34:02.318000)',\n",
       "  'gameid': 4478640820},\n",
       " {'champion': 'Draven',\n",
       "  'date': '22-Mar-2020 (23:19:06.423000)',\n",
       "  'gameid': 4473928577},\n",
       " {'champion': 'Bard',\n",
       "  'date': '22-Mar-2020 (22:44:06.127000)',\n",
       "  'gameid': 4473838738},\n",
       " {'champion': 'Olaf',\n",
       "  'date': '22-Mar-2020 (22:08:13.435000)',\n",
       "  'gameid': 4473739717},\n",
       " {'champion': 'Rumble',\n",
       "  'date': '22-Mar-2020 (19:32:30.934000)',\n",
       "  'gameid': 4473391458},\n",
       " {'champion': 'TwistedFate',\n",
       "  'date': '22-Mar-2020 (17:09:08.932000)',\n",
       "  'gameid': 4472994484},\n",
       " {'champion': 'Cassiopeia',\n",
       "  'date': '22-Mar-2020 (16:07:32.542000)',\n",
       "  'gameid': 4472827705},\n",
       " {'champion': 'Shyvana',\n",
       "  'date': '21-Mar-2020 (16:27:30.611000)',\n",
       "  'gameid': 4470290955},\n",
       " {'champion': 'Camille',\n",
       "  'date': '20-Mar-2020 (19:44:23.029000)',\n",
       "  'gameid': 4468150650},\n",
       " {'champion': 'Rumble',\n",
       "  'date': '20-Mar-2020 (19:04:49.781000)',\n",
       "  'gameid': 4468011572},\n",
       " {'champion': 'Irelia',\n",
       "  'date': '20-Mar-2020 (18:37:06.985000)',\n",
       "  'gameid': 4467924742},\n",
       " {'champion': 'Illaoi',\n",
       "  'date': '18-Mar-2020 (19:41:49.947000)',\n",
       "  'gameid': 4462848019},\n",
       " {'champion': 'Ornn',\n",
       "  'date': '18-Mar-2020 (19:15:37.674000)',\n",
       "  'gameid': 4462782463},\n",
       " {'champion': 'Riven',\n",
       "  'date': '15-Mar-2020 (19:22:22.514000)',\n",
       "  'gameid': 4456546631},\n",
       " {'champion': 'Rumble',\n",
       "  'date': '15-Mar-2020 (18:47:34.270000)',\n",
       "  'gameid': 4456478236},\n",
       " {'champion': 'Camille',\n",
       "  'date': '15-Mar-2020 (18:08:32.367000)',\n",
       "  'gameid': 4456340157},\n",
       " {'champion': 'Zoe',\n",
       "  'date': '14-Mar-2020 (19:26:40.215000)',\n",
       "  'gameid': 4454454176},\n",
       " {'champion': 'Irelia',\n",
       "  'date': '14-Mar-2020 (18:49:11.611000)',\n",
       "  'gameid': 4454356351},\n",
       " {'champion': 'Irelia',\n",
       "  'date': '14-Mar-2020 (18:15:54.983000)',\n",
       "  'gameid': 4454289423},\n",
       " {'champion': 'Zoe',\n",
       "  'date': '14-Mar-2020 (00:39:53.340000)',\n",
       "  'gameid': 4453075053},\n",
       " {'champion': 'Camille',\n",
       "  'date': '14-Mar-2020 (00:00:49.351000)',\n",
       "  'gameid': 4452938858},\n",
       " {'champion': 'Aatrox',\n",
       "  'date': '13-Mar-2020 (23:28:02.878000)',\n",
       "  'gameid': 4452992301},\n",
       " {'champion': 'Rumble',\n",
       "  'date': '13-Mar-2020 (22:58:56.170000)',\n",
       "  'gameid': 4452876758},\n",
       " {'champion': 'Rumble',\n",
       "  'date': '09-Mar-2020 (22:17:13.206000)',\n",
       "  'gameid': 4447134160},\n",
       " {'champion': 'Rumble',\n",
       "  'date': '08-Mar-2020 (23:14:45.239000)',\n",
       "  'gameid': 4445676182},\n",
       " {'champion': 'Camille',\n",
       "  'date': '08-Mar-2020 (22:38:56.454000)',\n",
       "  'gameid': 4445630919},\n",
       " {'champion': 'Camille',\n",
       "  'date': '08-Mar-2020 (22:11:01.296000)',\n",
       "  'gameid': 4445595882},\n",
       " {'champion': 'Camille',\n",
       "  'date': '08-Mar-2020 (19:47:42.884000)',\n",
       "  'gameid': 4445349083},\n",
       " {'champion': 'Azir',\n",
       "  'date': '08-Mar-2020 (15:42:23.738000)',\n",
       "  'gameid': 4444926327},\n",
       " {'champion': 'Camille',\n",
       "  'date': '08-Mar-2020 (02:58:32.049000)',\n",
       "  'gameid': 4444452310},\n",
       " {'champion': 'Camille',\n",
       "  'date': '08-Mar-2020 (02:28:38.563000)',\n",
       "  'gameid': 4444439125},\n",
       " {'champion': 'Camille',\n",
       "  'date': '08-Mar-2020 (01:46:08.046000)',\n",
       "  'gameid': 4444366898},\n",
       " {'champion': 'Camille',\n",
       "  'date': '08-Mar-2020 (01:09:14.943000)',\n",
       "  'gameid': 4444372723},\n",
       " {'champion': 'Rumble',\n",
       "  'date': '07-Mar-2020 (22:54:07.512000)',\n",
       "  'gameid': 4444242251},\n",
       " {'champion': 'Camille',\n",
       "  'date': '07-Mar-2020 (22:22:16.061000)',\n",
       "  'gameid': 4444156840},\n",
       " {'champion': 'Camille',\n",
       "  'date': '07-Mar-2020 (21:55:04.342000)',\n",
       "  'gameid': 4444122287},\n",
       " {'champion': 'Camille',\n",
       "  'date': '07-Mar-2020 (19:07:02.917000)',\n",
       "  'gameid': 4443476889},\n",
       " {'champion': 'Aatrox',\n",
       "  'date': '07-Mar-2020 (18:29:34.977000)',\n",
       "  'gameid': 4443460147},\n",
       " {'champion': 'Rumble',\n",
       "  'date': '07-Mar-2020 (17:54:12.283000)',\n",
       "  'gameid': 4443454720},\n",
       " {'champion': 'Camille',\n",
       "  'date': '07-Mar-2020 (17:11:24.250000)',\n",
       "  'gameid': 4443367763},\n",
       " {'champion': 'MasterYi',\n",
       "  'date': '07-Mar-2020 (16:45:17.860000)',\n",
       "  'gameid': 4443324663},\n",
       " {'champion': 'Camille',\n",
       "  'date': '04-Mar-2020 (22:39:54.996000)',\n",
       "  'gameid': 4439794928},\n",
       " {'champion': 'Camille',\n",
       "  'date': '03-Mar-2020 (22:04:52.786000)',\n",
       "  'gameid': 4438158867},\n",
       " {'champion': 'Camille',\n",
       "  'date': '03-Mar-2020 (21:31:20.168000)',\n",
       "  'gameid': 4438192256},\n",
       " {'champion': 'Azir',\n",
       "  'date': '01-Mar-2020 (22:49:15.466000)',\n",
       "  'gameid': 4435708165},\n",
       " {'champion': 'Irelia',\n",
       "  'date': '01-Mar-2020 (22:29:45.381000)',\n",
       "  'gameid': 4435665969},\n",
       " {'champion': 'Rumble',\n",
       "  'date': '01-Mar-2020 (21:02:20.667000)',\n",
       "  'gameid': 4435519592},\n",
       " {'champion': 'Rumble',\n",
       "  'date': '01-Mar-2020 (19:48:22.354000)',\n",
       "  'gameid': 4435435908},\n",
       " {'champion': 'Camille',\n",
       "  'date': '01-Mar-2020 (19:14:39.134000)',\n",
       "  'gameid': 4435380713},\n",
       " {'champion': 'Camille',\n",
       "  'date': '01-Mar-2020 (18:32:27.920000)',\n",
       "  'gameid': 4435283383},\n",
       " {'champion': 'Camille',\n",
       "  'date': '01-Mar-2020 (17:50:14.982000)',\n",
       "  'gameid': 4435186469},\n",
       " {'champion': 'Camille',\n",
       "  'date': '01-Mar-2020 (17:14:59.978000)',\n",
       "  'gameid': 4435109426},\n",
       " {'champion': 'Camille',\n",
       "  'date': '01-Mar-2020 (16:53:56.177000)',\n",
       "  'gameid': 4435115730},\n",
       " {'champion': 'Camille',\n",
       "  'date': '01-Mar-2020 (16:43:19.796000)',\n",
       "  'gameid': 4435113883},\n",
       " {'champion': 'Camille',\n",
       "  'date': '29-Feb-2020 (23:56:33.321000)',\n",
       "  'gameid': 4434370168},\n",
       " {'champion': 'Camille',\n",
       "  'date': '29-Feb-2020 (23:26:22.893000)',\n",
       "  'gameid': 4434318551},\n",
       " {'champion': 'Camille',\n",
       "  'date': '29-Feb-2020 (22:59:01.719000)',\n",
       "  'gameid': 4434333571},\n",
       " {'champion': 'Camille',\n",
       "  'date': '29-Feb-2020 (22:24:14.519000)',\n",
       "  'gameid': 4434247721},\n",
       " {'champion': 'Camille',\n",
       "  'date': '29-Feb-2020 (21:43:05.866000)',\n",
       "  'gameid': 4434200888},\n",
       " {'champion': 'Gangplank',\n",
       "  'date': '29-Feb-2020 (19:33:11.893000)',\n",
       "  'gameid': 4433589136},\n",
       " {'champion': 'Ornn',\n",
       "  'date': '29-Feb-2020 (19:06:22.969000)',\n",
       "  'gameid': 4433565382},\n",
       " {'champion': 'Camille',\n",
       "  'date': '29-Feb-2020 (16:46:49.953000)',\n",
       "  'gameid': 4433451678}]"
      ]
     },
     "execution_count": 7,
     "metadata": {},
     "output_type": "execute_result"
    }
   ],
   "source": [
    "[{\"champion\": champion_name_from_id(m[\"champion\"]), \"date\": datetime.fromtimestamp(m[\"timestamp\"]/1000).strftime(\"%d-%b-%Y (%H:%M:%S.%f)\"),\"gameid\" : m[\"gameId\"]} for m in history[\"matches\"]]"
   ]
  },
  {
   "cell_type": "code",
   "execution_count": 5,
   "metadata": {},
   "outputs": [],
   "source": [
    "#on fait des opérations sur un match\n",
    "\n",
    "#on associe un pseudo à l'id de participant\n",
    "def pseudo_to_participantId(match,summoner_name):\n",
    "    for i in match[\"participantIdentities\"]:\n",
    "        if i[\"player\"][\"summonerName\"]==summoner_name : \n",
    "            return i[\"participantId\"]\n",
    "    return None\n",
    "def win_or_lose(match,participantId):\n",
    "    return match[\"participants\"][participantId-1][\"stats\"][\"win\"]\n",
    "\n",
    "def participantId_to_role(match,participantId):\n",
    "    return match[\"participants\"][participantId-1][\"timeline\"][\"lane\"],match[\"participants\"][participantId-1][\"timeline\"][\"role\"]\n",
    "\n",
    "def opponant(match,participantId):\n",
    "    role = participantId_to_role(match,participantId)\n",
    "    for i in match[\"participants\"]:\n",
    "        if i[\"participantId\"]!=participantId and participantId_to_role(match,i[\"participantId\"])==role : \n",
    "                return i[\"participantId\"]\n",
    "\n",
    "#on veut regarder les gold d'avance à 10 ou 20 min \n",
    "def get_gold_at_10(match,participantId):\n",
    "    return match[\"participants\"][participantId-1][\"timeline\"][\"goldPerMinDeltas\"][\"0-10\"]*10\n",
    "\n",
    "def gold_diff_at_10(match,participantId):\n",
    "    return get_gold_at_10(match,participantId)-get_gold_at_10(match,opponant(match,participantId))\n",
    "\n",
    "\n"
   ]
  },
  {
   "cell_type": "code",
   "execution_count": 6,
   "metadata": {},
   "outputs": [
    {
     "name": "stdout",
     "output_type": "stream",
     "text": [
      "https://euw1.api.riotgames.com/lol/summoner/v4/summoners/by-name/jesuisnonbinaire?api_key=RGAPI-a8b115a1-d191-4fab-b57c-0a7a5dd665c1\n"
     ]
    },
    {
     "name": "stderr",
     "output_type": "stream",
     "text": [
      "C:\\Users\\utilisateur\\Documents\\MPSIS\\IPT\\WinPython-64bit-3.6.3.0Qt5\\python-3.6.3.amd64\\lib\\site-packages\\urllib3\\connectionpool.py:852: InsecureRequestWarning: Unverified HTTPS request is being made. Adding certificate verification is strongly advised. See: https://urllib3.readthedocs.io/en/latest/advanced-usage.html#ssl-warnings\n",
      "  InsecureRequestWarning)\n",
      "C:\\Users\\utilisateur\\Documents\\MPSIS\\IPT\\WinPython-64bit-3.6.3.0Qt5\\python-3.6.3.amd64\\lib\\site-packages\\urllib3\\connectionpool.py:852: InsecureRequestWarning: Unverified HTTPS request is being made. Adding certificate verification is strongly advised. See: https://urllib3.readthedocs.io/en/latest/advanced-usage.html#ssl-warnings\n",
      "  InsecureRequestWarning)\n",
      "C:\\Users\\utilisateur\\Documents\\MPSIS\\IPT\\WinPython-64bit-3.6.3.0Qt5\\python-3.6.3.amd64\\lib\\site-packages\\urllib3\\connectionpool.py:852: InsecureRequestWarning: Unverified HTTPS request is being made. Adding certificate verification is strongly advised. See: https://urllib3.readthedocs.io/en/latest/advanced-usage.html#ssl-warnings\n",
      "  InsecureRequestWarning)\n"
     ]
    },
    {
     "name": "stdout",
     "output_type": "stream",
     "text": [
      "https://euw1.api.riotgames.com/lol/match/v4/matchlists/by-account/RkO8LcSbBegFd-aCiJ5Ne8TwHWxFo42LPrtnTd6i7zV7jQ?api_key=RGAPI-a8b115a1-d191-4fab-b57c-0a7a5dd665c1\n",
      "\n",
      "\n",
      "https://euw1.api.riotgames.com/lol/match/v4/matches/4090309919?api_key=RGAPI-a8b115a1-d191-4fab-b57c-0a7a5dd665c1\n"
     ]
    },
    {
     "name": "stderr",
     "output_type": "stream",
     "text": [
      "C:\\Users\\utilisateur\\Documents\\MPSIS\\IPT\\WinPython-64bit-3.6.3.0Qt5\\python-3.6.3.amd64\\lib\\site-packages\\urllib3\\connectionpool.py:852: InsecureRequestWarning: Unverified HTTPS request is being made. Adding certificate verification is strongly advised. See: https://urllib3.readthedocs.io/en/latest/advanced-usage.html#ssl-warnings\n",
      "  InsecureRequestWarning)\n"
     ]
    },
    {
     "name": "stdout",
     "output_type": "stream",
     "text": [
      "\n",
      "\n",
      "\n",
      "\n",
      "\n",
      "\n",
      "\n",
      "\n",
      "\n",
      "\n",
      "\n",
      "\n",
      "https://euw1.api.riotgames.com/lol/match/v4/matches/4087408176?api_key=RGAPI-a8b115a1-d191-4fab-b57c-0a7a5dd665c1\n"
     ]
    },
    {
     "name": "stderr",
     "output_type": "stream",
     "text": [
      "C:\\Users\\utilisateur\\Documents\\MPSIS\\IPT\\WinPython-64bit-3.6.3.0Qt5\\python-3.6.3.amd64\\lib\\site-packages\\urllib3\\connectionpool.py:852: InsecureRequestWarning: Unverified HTTPS request is being made. Adding certificate verification is strongly advised. See: https://urllib3.readthedocs.io/en/latest/advanced-usage.html#ssl-warnings\n",
      "  InsecureRequestWarning)\n"
     ]
    },
    {
     "name": "stdout",
     "output_type": "stream",
     "text": [
      "\n",
      "https://euw1.api.riotgames.com/lol/match/v4/matches/4087391944?api_key=RGAPI-a8b115a1-d191-4fab-b57c-0a7a5dd665c1\n"
     ]
    },
    {
     "name": "stderr",
     "output_type": "stream",
     "text": [
      "C:\\Users\\utilisateur\\Documents\\MPSIS\\IPT\\WinPython-64bit-3.6.3.0Qt5\\python-3.6.3.amd64\\lib\\site-packages\\urllib3\\connectionpool.py:852: InsecureRequestWarning: Unverified HTTPS request is being made. Adding certificate verification is strongly advised. See: https://urllib3.readthedocs.io/en/latest/advanced-usage.html#ssl-warnings\n",
      "  InsecureRequestWarning)\n"
     ]
    },
    {
     "name": "stdout",
     "output_type": "stream",
     "text": [
      "\n",
      "https://euw1.api.riotgames.com/lol/match/v4/matches/4087353539?api_key=RGAPI-a8b115a1-d191-4fab-b57c-0a7a5dd665c1\n"
     ]
    },
    {
     "name": "stderr",
     "output_type": "stream",
     "text": [
      "C:\\Users\\utilisateur\\Documents\\MPSIS\\IPT\\WinPython-64bit-3.6.3.0Qt5\\python-3.6.3.amd64\\lib\\site-packages\\urllib3\\connectionpool.py:852: InsecureRequestWarning: Unverified HTTPS request is being made. Adding certificate verification is strongly advised. See: https://urllib3.readthedocs.io/en/latest/advanced-usage.html#ssl-warnings\n",
      "  InsecureRequestWarning)\n"
     ]
    },
    {
     "name": "stdout",
     "output_type": "stream",
     "text": [
      "\n",
      "https://euw1.api.riotgames.com/lol/match/v4/matches/4081585634?api_key=RGAPI-a8b115a1-d191-4fab-b57c-0a7a5dd665c1\n"
     ]
    },
    {
     "name": "stderr",
     "output_type": "stream",
     "text": [
      "C:\\Users\\utilisateur\\Documents\\MPSIS\\IPT\\WinPython-64bit-3.6.3.0Qt5\\python-3.6.3.amd64\\lib\\site-packages\\urllib3\\connectionpool.py:852: InsecureRequestWarning: Unverified HTTPS request is being made. Adding certificate verification is strongly advised. See: https://urllib3.readthedocs.io/en/latest/advanced-usage.html#ssl-warnings\n",
      "  InsecureRequestWarning)\n"
     ]
    },
    {
     "name": "stdout",
     "output_type": "stream",
     "text": [
      "\n",
      "https://euw1.api.riotgames.com/lol/match/v4/matches/4081568709?api_key=RGAPI-a8b115a1-d191-4fab-b57c-0a7a5dd665c1\n"
     ]
    },
    {
     "name": "stderr",
     "output_type": "stream",
     "text": [
      "C:\\Users\\utilisateur\\Documents\\MPSIS\\IPT\\WinPython-64bit-3.6.3.0Qt5\\python-3.6.3.amd64\\lib\\site-packages\\urllib3\\connectionpool.py:852: InsecureRequestWarning: Unverified HTTPS request is being made. Adding certificate verification is strongly advised. See: https://urllib3.readthedocs.io/en/latest/advanced-usage.html#ssl-warnings\n",
      "  InsecureRequestWarning)\n"
     ]
    },
    {
     "name": "stdout",
     "output_type": "stream",
     "text": [
      "\n",
      "https://euw1.api.riotgames.com/lol/match/v4/matches/4081551879?api_key=RGAPI-a8b115a1-d191-4fab-b57c-0a7a5dd665c1\n"
     ]
    },
    {
     "name": "stderr",
     "output_type": "stream",
     "text": [
      "C:\\Users\\utilisateur\\Documents\\MPSIS\\IPT\\WinPython-64bit-3.6.3.0Qt5\\python-3.6.3.amd64\\lib\\site-packages\\urllib3\\connectionpool.py:852: InsecureRequestWarning: Unverified HTTPS request is being made. Adding certificate verification is strongly advised. See: https://urllib3.readthedocs.io/en/latest/advanced-usage.html#ssl-warnings\n",
      "  InsecureRequestWarning)\n"
     ]
    },
    {
     "name": "stdout",
     "output_type": "stream",
     "text": [
      "\n",
      "https://euw1.api.riotgames.com/lol/match/v4/matches/4081156376?api_key=RGAPI-a8b115a1-d191-4fab-b57c-0a7a5dd665c1\n"
     ]
    },
    {
     "name": "stderr",
     "output_type": "stream",
     "text": [
      "C:\\Users\\utilisateur\\Documents\\MPSIS\\IPT\\WinPython-64bit-3.6.3.0Qt5\\python-3.6.3.amd64\\lib\\site-packages\\urllib3\\connectionpool.py:852: InsecureRequestWarning: Unverified HTTPS request is being made. Adding certificate verification is strongly advised. See: https://urllib3.readthedocs.io/en/latest/advanced-usage.html#ssl-warnings\n",
      "  InsecureRequestWarning)\n"
     ]
    },
    {
     "name": "stdout",
     "output_type": "stream",
     "text": [
      "\n",
      "https://euw1.api.riotgames.com/lol/match/v4/matches/4081103849?api_key=RGAPI-a8b115a1-d191-4fab-b57c-0a7a5dd665c1\n",
      "\n"
     ]
    },
    {
     "name": "stderr",
     "output_type": "stream",
     "text": [
      "C:\\Users\\utilisateur\\Documents\\MPSIS\\IPT\\WinPython-64bit-3.6.3.0Qt5\\python-3.6.3.amd64\\lib\\site-packages\\urllib3\\connectionpool.py:852: InsecureRequestWarning: Unverified HTTPS request is being made. Adding certificate verification is strongly advised. See: https://urllib3.readthedocs.io/en/latest/advanced-usage.html#ssl-warnings\n",
      "  InsecureRequestWarning)\n",
      "C:\\Users\\utilisateur\\Documents\\MPSIS\\IPT\\WinPython-64bit-3.6.3.0Qt5\\python-3.6.3.amd64\\lib\\site-packages\\urllib3\\connectionpool.py:852: InsecureRequestWarning: Unverified HTTPS request is being made. Adding certificate verification is strongly advised. See: https://urllib3.readthedocs.io/en/latest/advanced-usage.html#ssl-warnings\n",
      "  InsecureRequestWarning)\n"
     ]
    },
    {
     "name": "stdout",
     "output_type": "stream",
     "text": [
      "https://euw1.api.riotgames.com/lol/match/v4/matches/4080398615?api_key=RGAPI-a8b115a1-d191-4fab-b57c-0a7a5dd665c1\n",
      "\n",
      "https://euw1.api.riotgames.com/lol/match/v4/matches/4080385724?api_key=RGAPI-a8b115a1-d191-4fab-b57c-0a7a5dd665c1\n"
     ]
    },
    {
     "name": "stderr",
     "output_type": "stream",
     "text": [
      "C:\\Users\\utilisateur\\Documents\\MPSIS\\IPT\\WinPython-64bit-3.6.3.0Qt5\\python-3.6.3.amd64\\lib\\site-packages\\urllib3\\connectionpool.py:852: InsecureRequestWarning: Unverified HTTPS request is being made. Adding certificate verification is strongly advised. See: https://urllib3.readthedocs.io/en/latest/advanced-usage.html#ssl-warnings\n",
      "  InsecureRequestWarning)\n"
     ]
    },
    {
     "name": "stdout",
     "output_type": "stream",
     "text": [
      "\n",
      "https://euw1.api.riotgames.com/lol/match/v4/matches/4080391563?api_key=RGAPI-a8b115a1-d191-4fab-b57c-0a7a5dd665c1\n"
     ]
    },
    {
     "name": "stderr",
     "output_type": "stream",
     "text": [
      "C:\\Users\\utilisateur\\Documents\\MPSIS\\IPT\\WinPython-64bit-3.6.3.0Qt5\\python-3.6.3.amd64\\lib\\site-packages\\urllib3\\connectionpool.py:852: InsecureRequestWarning: Unverified HTTPS request is being made. Adding certificate verification is strongly advised. See: https://urllib3.readthedocs.io/en/latest/advanced-usage.html#ssl-warnings\n",
      "  InsecureRequestWarning)\n"
     ]
    },
    {
     "name": "stdout",
     "output_type": "stream",
     "text": [
      "\n",
      "\n",
      "\n",
      "https://euw1.api.riotgames.com/lol/match/v4/matches/4080330712?api_key=RGAPI-a8b115a1-d191-4fab-b57c-0a7a5dd665c1\n"
     ]
    },
    {
     "name": "stderr",
     "output_type": "stream",
     "text": [
      "C:\\Users\\utilisateur\\Documents\\MPSIS\\IPT\\WinPython-64bit-3.6.3.0Qt5\\python-3.6.3.amd64\\lib\\site-packages\\urllib3\\connectionpool.py:852: InsecureRequestWarning: Unverified HTTPS request is being made. Adding certificate verification is strongly advised. See: https://urllib3.readthedocs.io/en/latest/advanced-usage.html#ssl-warnings\n",
      "  InsecureRequestWarning)\n"
     ]
    },
    {
     "name": "stdout",
     "output_type": "stream",
     "text": [
      "\n",
      "\n",
      "\n",
      "\n",
      "\n",
      "\n",
      "\n",
      "\n",
      "\n",
      "\n",
      "\n",
      "\n",
      "\n",
      "\n",
      "\n",
      "https://euw1.api.riotgames.com/lol/match/v4/matches/4074633334?api_key=RGAPI-a8b115a1-d191-4fab-b57c-0a7a5dd665c1\n"
     ]
    },
    {
     "name": "stderr",
     "output_type": "stream",
     "text": [
      "C:\\Users\\utilisateur\\Documents\\MPSIS\\IPT\\WinPython-64bit-3.6.3.0Qt5\\python-3.6.3.amd64\\lib\\site-packages\\urllib3\\connectionpool.py:852: InsecureRequestWarning: Unverified HTTPS request is being made. Adding certificate verification is strongly advised. See: https://urllib3.readthedocs.io/en/latest/advanced-usage.html#ssl-warnings\n",
      "  InsecureRequestWarning)\n"
     ]
    },
    {
     "name": "stdout",
     "output_type": "stream",
     "text": [
      "\n",
      "https://euw1.api.riotgames.com/lol/match/v4/matches/4074617092?api_key=RGAPI-a8b115a1-d191-4fab-b57c-0a7a5dd665c1\n"
     ]
    },
    {
     "name": "stderr",
     "output_type": "stream",
     "text": [
      "C:\\Users\\utilisateur\\Documents\\MPSIS\\IPT\\WinPython-64bit-3.6.3.0Qt5\\python-3.6.3.amd64\\lib\\site-packages\\urllib3\\connectionpool.py:852: InsecureRequestWarning: Unverified HTTPS request is being made. Adding certificate verification is strongly advised. See: https://urllib3.readthedocs.io/en/latest/advanced-usage.html#ssl-warnings\n",
      "  InsecureRequestWarning)\n"
     ]
    },
    {
     "name": "stdout",
     "output_type": "stream",
     "text": [
      "\n",
      "https://euw1.api.riotgames.com/lol/match/v4/matches/4074593451?api_key=RGAPI-a8b115a1-d191-4fab-b57c-0a7a5dd665c1\n"
     ]
    },
    {
     "name": "stderr",
     "output_type": "stream",
     "text": [
      "C:\\Users\\utilisateur\\Documents\\MPSIS\\IPT\\WinPython-64bit-3.6.3.0Qt5\\python-3.6.3.amd64\\lib\\site-packages\\urllib3\\connectionpool.py:852: InsecureRequestWarning: Unverified HTTPS request is being made. Adding certificate verification is strongly advised. See: https://urllib3.readthedocs.io/en/latest/advanced-usage.html#ssl-warnings\n",
      "  InsecureRequestWarning)\n"
     ]
    },
    {
     "name": "stdout",
     "output_type": "stream",
     "text": [
      "\n",
      "https://euw1.api.riotgames.com/lol/match/v4/matches/4074548100?api_key=RGAPI-a8b115a1-d191-4fab-b57c-0a7a5dd665c1\n"
     ]
    },
    {
     "name": "stderr",
     "output_type": "stream",
     "text": [
      "C:\\Users\\utilisateur\\Documents\\MPSIS\\IPT\\WinPython-64bit-3.6.3.0Qt5\\python-3.6.3.amd64\\lib\\site-packages\\urllib3\\connectionpool.py:852: InsecureRequestWarning: Unverified HTTPS request is being made. Adding certificate verification is strongly advised. See: https://urllib3.readthedocs.io/en/latest/advanced-usage.html#ssl-warnings\n",
      "  InsecureRequestWarning)\n"
     ]
    },
    {
     "name": "stdout",
     "output_type": "stream",
     "text": [
      "\n",
      "https://euw1.api.riotgames.com/lol/match/v4/matches/4074524146?api_key=RGAPI-a8b115a1-d191-4fab-b57c-0a7a5dd665c1\n"
     ]
    },
    {
     "name": "stderr",
     "output_type": "stream",
     "text": [
      "C:\\Users\\utilisateur\\Documents\\MPSIS\\IPT\\WinPython-64bit-3.6.3.0Qt5\\python-3.6.3.amd64\\lib\\site-packages\\urllib3\\connectionpool.py:852: InsecureRequestWarning: Unverified HTTPS request is being made. Adding certificate verification is strongly advised. See: https://urllib3.readthedocs.io/en/latest/advanced-usage.html#ssl-warnings\n",
      "  InsecureRequestWarning)\n"
     ]
    },
    {
     "name": "stdout",
     "output_type": "stream",
     "text": [
      "\n",
      "https://euw1.api.riotgames.com/lol/match/v4/matches/4074530818?api_key=RGAPI-a8b115a1-d191-4fab-b57c-0a7a5dd665c1\n"
     ]
    },
    {
     "name": "stderr",
     "output_type": "stream",
     "text": [
      "C:\\Users\\utilisateur\\Documents\\MPSIS\\IPT\\WinPython-64bit-3.6.3.0Qt5\\python-3.6.3.amd64\\lib\\site-packages\\urllib3\\connectionpool.py:852: InsecureRequestWarning: Unverified HTTPS request is being made. Adding certificate verification is strongly advised. See: https://urllib3.readthedocs.io/en/latest/advanced-usage.html#ssl-warnings\n",
      "  InsecureRequestWarning)\n"
     ]
    },
    {
     "name": "stdout",
     "output_type": "stream",
     "text": [
      "\n",
      "https://euw1.api.riotgames.com/lol/match/v4/matches/4073733120?api_key=RGAPI-a8b115a1-d191-4fab-b57c-0a7a5dd665c1\n"
     ]
    },
    {
     "name": "stderr",
     "output_type": "stream",
     "text": [
      "C:\\Users\\utilisateur\\Documents\\MPSIS\\IPT\\WinPython-64bit-3.6.3.0Qt5\\python-3.6.3.amd64\\lib\\site-packages\\urllib3\\connectionpool.py:852: InsecureRequestWarning: Unverified HTTPS request is being made. Adding certificate verification is strongly advised. See: https://urllib3.readthedocs.io/en/latest/advanced-usage.html#ssl-warnings\n",
      "  InsecureRequestWarning)\n"
     ]
    },
    {
     "name": "stdout",
     "output_type": "stream",
     "text": [
      "\n",
      "\n",
      "\n",
      "\n",
      "\n",
      "https://euw1.api.riotgames.com/lol/match/v4/matches/4073609782?api_key=RGAPI-a8b115a1-d191-4fab-b57c-0a7a5dd665c1\n"
     ]
    },
    {
     "name": "stderr",
     "output_type": "stream",
     "text": [
      "C:\\Users\\utilisateur\\Documents\\MPSIS\\IPT\\WinPython-64bit-3.6.3.0Qt5\\python-3.6.3.amd64\\lib\\site-packages\\urllib3\\connectionpool.py:852: InsecureRequestWarning: Unverified HTTPS request is being made. Adding certificate verification is strongly advised. See: https://urllib3.readthedocs.io/en/latest/advanced-usage.html#ssl-warnings\n",
      "  InsecureRequestWarning)\n"
     ]
    },
    {
     "name": "stdout",
     "output_type": "stream",
     "text": [
      "\n",
      "\n",
      "https://euw1.api.riotgames.com/lol/match/v4/matches/4073605099?api_key=RGAPI-a8b115a1-d191-4fab-b57c-0a7a5dd665c1\n"
     ]
    },
    {
     "name": "stderr",
     "output_type": "stream",
     "text": [
      "C:\\Users\\utilisateur\\Documents\\MPSIS\\IPT\\WinPython-64bit-3.6.3.0Qt5\\python-3.6.3.amd64\\lib\\site-packages\\urllib3\\connectionpool.py:852: InsecureRequestWarning: Unverified HTTPS request is being made. Adding certificate verification is strongly advised. See: https://urllib3.readthedocs.io/en/latest/advanced-usage.html#ssl-warnings\n",
      "  InsecureRequestWarning)\n"
     ]
    },
    {
     "name": "stdout",
     "output_type": "stream",
     "text": [
      "\n",
      "https://euw1.api.riotgames.com/lol/match/v4/matches/4073613019?api_key=RGAPI-a8b115a1-d191-4fab-b57c-0a7a5dd665c1\n"
     ]
    },
    {
     "name": "stderr",
     "output_type": "stream",
     "text": [
      "C:\\Users\\utilisateur\\Documents\\MPSIS\\IPT\\WinPython-64bit-3.6.3.0Qt5\\python-3.6.3.amd64\\lib\\site-packages\\urllib3\\connectionpool.py:852: InsecureRequestWarning: Unverified HTTPS request is being made. Adding certificate verification is strongly advised. See: https://urllib3.readthedocs.io/en/latest/advanced-usage.html#ssl-warnings\n",
      "  InsecureRequestWarning)\n"
     ]
    },
    {
     "name": "stdout",
     "output_type": "stream",
     "text": [
      "\n",
      "https://euw1.api.riotgames.com/lol/match/v4/matches/4071780979?api_key=RGAPI-a8b115a1-d191-4fab-b57c-0a7a5dd665c1\n",
      "\n"
     ]
    },
    {
     "name": "stderr",
     "output_type": "stream",
     "text": [
      "C:\\Users\\utilisateur\\Documents\\MPSIS\\IPT\\WinPython-64bit-3.6.3.0Qt5\\python-3.6.3.amd64\\lib\\site-packages\\urllib3\\connectionpool.py:852: InsecureRequestWarning: Unverified HTTPS request is being made. Adding certificate verification is strongly advised. See: https://urllib3.readthedocs.io/en/latest/advanced-usage.html#ssl-warnings\n",
      "  InsecureRequestWarning)\n",
      "C:\\Users\\utilisateur\\Documents\\MPSIS\\IPT\\WinPython-64bit-3.6.3.0Qt5\\python-3.6.3.amd64\\lib\\site-packages\\urllib3\\connectionpool.py:852: InsecureRequestWarning: Unverified HTTPS request is being made. Adding certificate verification is strongly advised. See: https://urllib3.readthedocs.io/en/latest/advanced-usage.html#ssl-warnings\n",
      "  InsecureRequestWarning)\n"
     ]
    },
    {
     "name": "stdout",
     "output_type": "stream",
     "text": [
      "https://euw1.api.riotgames.com/lol/match/v4/matches/4071743928?api_key=RGAPI-a8b115a1-d191-4fab-b57c-0a7a5dd665c1\n",
      "\n",
      "\n",
      "https://euw1.api.riotgames.com/lol/match/v4/matches/4071649734?api_key=RGAPI-a8b115a1-d191-4fab-b57c-0a7a5dd665c1\n"
     ]
    },
    {
     "name": "stderr",
     "output_type": "stream",
     "text": [
      "C:\\Users\\utilisateur\\Documents\\MPSIS\\IPT\\WinPython-64bit-3.6.3.0Qt5\\python-3.6.3.amd64\\lib\\site-packages\\urllib3\\connectionpool.py:852: InsecureRequestWarning: Unverified HTTPS request is being made. Adding certificate verification is strongly advised. See: https://urllib3.readthedocs.io/en/latest/advanced-usage.html#ssl-warnings\n",
      "  InsecureRequestWarning)\n"
     ]
    },
    {
     "name": "stdout",
     "output_type": "stream",
     "text": [
      "\n",
      "https://euw1.api.riotgames.com/lol/match/v4/matches/4071404113?api_key=RGAPI-a8b115a1-d191-4fab-b57c-0a7a5dd665c1\n"
     ]
    },
    {
     "name": "stderr",
     "output_type": "stream",
     "text": [
      "C:\\Users\\utilisateur\\Documents\\MPSIS\\IPT\\WinPython-64bit-3.6.3.0Qt5\\python-3.6.3.amd64\\lib\\site-packages\\urllib3\\connectionpool.py:852: InsecureRequestWarning: Unverified HTTPS request is being made. Adding certificate verification is strongly advised. See: https://urllib3.readthedocs.io/en/latest/advanced-usage.html#ssl-warnings\n",
      "  InsecureRequestWarning)\n"
     ]
    },
    {
     "name": "stdout",
     "output_type": "stream",
     "text": [
      "\n",
      "\n",
      "https://euw1.api.riotgames.com/lol/match/v4/matches/4071352450?api_key=RGAPI-a8b115a1-d191-4fab-b57c-0a7a5dd665c1\n"
     ]
    },
    {
     "name": "stderr",
     "output_type": "stream",
     "text": [
      "C:\\Users\\utilisateur\\Documents\\MPSIS\\IPT\\WinPython-64bit-3.6.3.0Qt5\\python-3.6.3.amd64\\lib\\site-packages\\urllib3\\connectionpool.py:852: InsecureRequestWarning: Unverified HTTPS request is being made. Adding certificate verification is strongly advised. See: https://urllib3.readthedocs.io/en/latest/advanced-usage.html#ssl-warnings\n",
      "  InsecureRequestWarning)\n"
     ]
    },
    {
     "name": "stdout",
     "output_type": "stream",
     "text": [
      "\n",
      "https://euw1.api.riotgames.com/lol/match/v4/matches/4071317595?api_key=RGAPI-a8b115a1-d191-4fab-b57c-0a7a5dd665c1\n"
     ]
    },
    {
     "name": "stderr",
     "output_type": "stream",
     "text": [
      "C:\\Users\\utilisateur\\Documents\\MPSIS\\IPT\\WinPython-64bit-3.6.3.0Qt5\\python-3.6.3.amd64\\lib\\site-packages\\urllib3\\connectionpool.py:852: InsecureRequestWarning: Unverified HTTPS request is being made. Adding certificate verification is strongly advised. See: https://urllib3.readthedocs.io/en/latest/advanced-usage.html#ssl-warnings\n",
      "  InsecureRequestWarning)\n"
     ]
    },
    {
     "name": "stdout",
     "output_type": "stream",
     "text": [
      "\n",
      "https://euw1.api.riotgames.com/lol/match/v4/matches/4071324218?api_key=RGAPI-a8b115a1-d191-4fab-b57c-0a7a5dd665c1\n"
     ]
    },
    {
     "name": "stderr",
     "output_type": "stream",
     "text": [
      "C:\\Users\\utilisateur\\Documents\\MPSIS\\IPT\\WinPython-64bit-3.6.3.0Qt5\\python-3.6.3.amd64\\lib\\site-packages\\urllib3\\connectionpool.py:852: InsecureRequestWarning: Unverified HTTPS request is being made. Adding certificate verification is strongly advised. See: https://urllib3.readthedocs.io/en/latest/advanced-usage.html#ssl-warnings\n",
      "  InsecureRequestWarning)\n"
     ]
    },
    {
     "name": "stdout",
     "output_type": "stream",
     "text": [
      "\n",
      "\n",
      "\n",
      "https://euw1.api.riotgames.com/lol/match/v4/matches/4071285522?api_key=RGAPI-a8b115a1-d191-4fab-b57c-0a7a5dd665c1\n"
     ]
    },
    {
     "name": "stderr",
     "output_type": "stream",
     "text": [
      "C:\\Users\\utilisateur\\Documents\\MPSIS\\IPT\\WinPython-64bit-3.6.3.0Qt5\\python-3.6.3.amd64\\lib\\site-packages\\urllib3\\connectionpool.py:852: InsecureRequestWarning: Unverified HTTPS request is being made. Adding certificate verification is strongly advised. See: https://urllib3.readthedocs.io/en/latest/advanced-usage.html#ssl-warnings\n",
      "  InsecureRequestWarning)\n"
     ]
    },
    {
     "name": "stdout",
     "output_type": "stream",
     "text": [
      "\n",
      "https://euw1.api.riotgames.com/lol/match/v4/matches/4070183984?api_key=RGAPI-a8b115a1-d191-4fab-b57c-0a7a5dd665c1\n"
     ]
    },
    {
     "name": "stderr",
     "output_type": "stream",
     "text": [
      "C:\\Users\\utilisateur\\Documents\\MPSIS\\IPT\\WinPython-64bit-3.6.3.0Qt5\\python-3.6.3.amd64\\lib\\site-packages\\urllib3\\connectionpool.py:852: InsecureRequestWarning: Unverified HTTPS request is being made. Adding certificate verification is strongly advised. See: https://urllib3.readthedocs.io/en/latest/advanced-usage.html#ssl-warnings\n",
      "  InsecureRequestWarning)\n"
     ]
    },
    {
     "name": "stdout",
     "output_type": "stream",
     "text": [
      "\n",
      "https://euw1.api.riotgames.com/lol/match/v4/matches/4070176282?api_key=RGAPI-a8b115a1-d191-4fab-b57c-0a7a5dd665c1\n"
     ]
    },
    {
     "name": "stderr",
     "output_type": "stream",
     "text": [
      "C:\\Users\\utilisateur\\Documents\\MPSIS\\IPT\\WinPython-64bit-3.6.3.0Qt5\\python-3.6.3.amd64\\lib\\site-packages\\urllib3\\connectionpool.py:852: InsecureRequestWarning: Unverified HTTPS request is being made. Adding certificate verification is strongly advised. See: https://urllib3.readthedocs.io/en/latest/advanced-usage.html#ssl-warnings\n",
      "  InsecureRequestWarning)\n"
     ]
    },
    {
     "name": "stdout",
     "output_type": "stream",
     "text": [
      "\n",
      "https://euw1.api.riotgames.com/lol/match/v4/matches/4070119236?api_key=RGAPI-a8b115a1-d191-4fab-b57c-0a7a5dd665c1\n"
     ]
    },
    {
     "name": "stderr",
     "output_type": "stream",
     "text": [
      "C:\\Users\\utilisateur\\Documents\\MPSIS\\IPT\\WinPython-64bit-3.6.3.0Qt5\\python-3.6.3.amd64\\lib\\site-packages\\urllib3\\connectionpool.py:852: InsecureRequestWarning: Unverified HTTPS request is being made. Adding certificate verification is strongly advised. See: https://urllib3.readthedocs.io/en/latest/advanced-usage.html#ssl-warnings\n",
      "  InsecureRequestWarning)\n"
     ]
    },
    {
     "name": "stdout",
     "output_type": "stream",
     "text": [
      "\n",
      "https://euw1.api.riotgames.com/lol/match/v4/matches/4070113470?api_key=RGAPI-a8b115a1-d191-4fab-b57c-0a7a5dd665c1\n"
     ]
    },
    {
     "name": "stderr",
     "output_type": "stream",
     "text": [
      "C:\\Users\\utilisateur\\Documents\\MPSIS\\IPT\\WinPython-64bit-3.6.3.0Qt5\\python-3.6.3.amd64\\lib\\site-packages\\urllib3\\connectionpool.py:852: InsecureRequestWarning: Unverified HTTPS request is being made. Adding certificate verification is strongly advised. See: https://urllib3.readthedocs.io/en/latest/advanced-usage.html#ssl-warnings\n",
      "  InsecureRequestWarning)\n"
     ]
    },
    {
     "name": "stdout",
     "output_type": "stream",
     "text": [
      "\n",
      "https://euw1.api.riotgames.com/lol/match/v4/matches/4070039454?api_key=RGAPI-a8b115a1-d191-4fab-b57c-0a7a5dd665c1\n"
     ]
    },
    {
     "name": "stderr",
     "output_type": "stream",
     "text": [
      "C:\\Users\\utilisateur\\Documents\\MPSIS\\IPT\\WinPython-64bit-3.6.3.0Qt5\\python-3.6.3.amd64\\lib\\site-packages\\urllib3\\connectionpool.py:852: InsecureRequestWarning: Unverified HTTPS request is being made. Adding certificate verification is strongly advised. See: https://urllib3.readthedocs.io/en/latest/advanced-usage.html#ssl-warnings\n",
      "  InsecureRequestWarning)\n"
     ]
    },
    {
     "name": "stdout",
     "output_type": "stream",
     "text": [
      "\n",
      "https://euw1.api.riotgames.com/lol/match/v4/matches/4070042962?api_key=RGAPI-a8b115a1-d191-4fab-b57c-0a7a5dd665c1\n"
     ]
    },
    {
     "name": "stderr",
     "output_type": "stream",
     "text": [
      "C:\\Users\\utilisateur\\Documents\\MPSIS\\IPT\\WinPython-64bit-3.6.3.0Qt5\\python-3.6.3.amd64\\lib\\site-packages\\urllib3\\connectionpool.py:852: InsecureRequestWarning: Unverified HTTPS request is being made. Adding certificate verification is strongly advised. See: https://urllib3.readthedocs.io/en/latest/advanced-usage.html#ssl-warnings\n",
      "  InsecureRequestWarning)\n"
     ]
    },
    {
     "name": "stdout",
     "output_type": "stream",
     "text": [
      "\n",
      "https://euw1.api.riotgames.com/lol/match/v4/matches/4069401331?api_key=RGAPI-a8b115a1-d191-4fab-b57c-0a7a5dd665c1\n"
     ]
    },
    {
     "name": "stderr",
     "output_type": "stream",
     "text": [
      "C:\\Users\\utilisateur\\Documents\\MPSIS\\IPT\\WinPython-64bit-3.6.3.0Qt5\\python-3.6.3.amd64\\lib\\site-packages\\urllib3\\connectionpool.py:852: InsecureRequestWarning: Unverified HTTPS request is being made. Adding certificate verification is strongly advised. See: https://urllib3.readthedocs.io/en/latest/advanced-usage.html#ssl-warnings\n",
      "  InsecureRequestWarning)\n"
     ]
    },
    {
     "name": "stdout",
     "output_type": "stream",
     "text": [
      "\n",
      "https://euw1.api.riotgames.com/lol/match/v4/matches/4069353976?api_key=RGAPI-a8b115a1-d191-4fab-b57c-0a7a5dd665c1\n"
     ]
    },
    {
     "name": "stderr",
     "output_type": "stream",
     "text": [
      "C:\\Users\\utilisateur\\Documents\\MPSIS\\IPT\\WinPython-64bit-3.6.3.0Qt5\\python-3.6.3.amd64\\lib\\site-packages\\urllib3\\connectionpool.py:852: InsecureRequestWarning: Unverified HTTPS request is being made. Adding certificate verification is strongly advised. See: https://urllib3.readthedocs.io/en/latest/advanced-usage.html#ssl-warnings\n",
      "  InsecureRequestWarning)\n"
     ]
    },
    {
     "name": "stdout",
     "output_type": "stream",
     "text": [
      "\n",
      "https://euw1.api.riotgames.com/lol/match/v4/matches/4069296772?api_key=RGAPI-a8b115a1-d191-4fab-b57c-0a7a5dd665c1\n"
     ]
    },
    {
     "name": "stderr",
     "output_type": "stream",
     "text": [
      "C:\\Users\\utilisateur\\Documents\\MPSIS\\IPT\\WinPython-64bit-3.6.3.0Qt5\\python-3.6.3.amd64\\lib\\site-packages\\urllib3\\connectionpool.py:852: InsecureRequestWarning: Unverified HTTPS request is being made. Adding certificate verification is strongly advised. See: https://urllib3.readthedocs.io/en/latest/advanced-usage.html#ssl-warnings\n",
      "  InsecureRequestWarning)\n"
     ]
    },
    {
     "name": "stdout",
     "output_type": "stream",
     "text": [
      "\n",
      "https://euw1.api.riotgames.com/lol/match/v4/matches/4069259452?api_key=RGAPI-a8b115a1-d191-4fab-b57c-0a7a5dd665c1\n"
     ]
    },
    {
     "name": "stderr",
     "output_type": "stream",
     "text": [
      "C:\\Users\\utilisateur\\Documents\\MPSIS\\IPT\\WinPython-64bit-3.6.3.0Qt5\\python-3.6.3.amd64\\lib\\site-packages\\urllib3\\connectionpool.py:852: InsecureRequestWarning: Unverified HTTPS request is being made. Adding certificate verification is strongly advised. See: https://urllib3.readthedocs.io/en/latest/advanced-usage.html#ssl-warnings\n",
      "  InsecureRequestWarning)\n"
     ]
    },
    {
     "name": "stdout",
     "output_type": "stream",
     "text": [
      "\n",
      "https://euw1.api.riotgames.com/lol/match/v4/matches/4069251821?api_key=RGAPI-a8b115a1-d191-4fab-b57c-0a7a5dd665c1\n"
     ]
    },
    {
     "name": "stderr",
     "output_type": "stream",
     "text": [
      "C:\\Users\\utilisateur\\Documents\\MPSIS\\IPT\\WinPython-64bit-3.6.3.0Qt5\\python-3.6.3.amd64\\lib\\site-packages\\urllib3\\connectionpool.py:852: InsecureRequestWarning: Unverified HTTPS request is being made. Adding certificate verification is strongly advised. See: https://urllib3.readthedocs.io/en/latest/advanced-usage.html#ssl-warnings\n",
      "  InsecureRequestWarning)\n"
     ]
    },
    {
     "name": "stdout",
     "output_type": "stream",
     "text": [
      "\n",
      "https://euw1.api.riotgames.com/lol/match/v4/matches/4066810034?api_key=RGAPI-a8b115a1-d191-4fab-b57c-0a7a5dd665c1\n"
     ]
    },
    {
     "name": "stderr",
     "output_type": "stream",
     "text": [
      "C:\\Users\\utilisateur\\Documents\\MPSIS\\IPT\\WinPython-64bit-3.6.3.0Qt5\\python-3.6.3.amd64\\lib\\site-packages\\urllib3\\connectionpool.py:852: InsecureRequestWarning: Unverified HTTPS request is being made. Adding certificate verification is strongly advised. See: https://urllib3.readthedocs.io/en/latest/advanced-usage.html#ssl-warnings\n",
      "  InsecureRequestWarning)\n"
     ]
    },
    {
     "name": "stdout",
     "output_type": "stream",
     "text": [
      "\n",
      "https://euw1.api.riotgames.com/lol/match/v4/matches/4066761819?api_key=RGAPI-a8b115a1-d191-4fab-b57c-0a7a5dd665c1\n"
     ]
    },
    {
     "name": "stderr",
     "output_type": "stream",
     "text": [
      "C:\\Users\\utilisateur\\Documents\\MPSIS\\IPT\\WinPython-64bit-3.6.3.0Qt5\\python-3.6.3.amd64\\lib\\site-packages\\urllib3\\connectionpool.py:852: InsecureRequestWarning: Unverified HTTPS request is being made. Adding certificate verification is strongly advised. See: https://urllib3.readthedocs.io/en/latest/advanced-usage.html#ssl-warnings\n",
      "  InsecureRequestWarning)\n"
     ]
    },
    {
     "name": "stdout",
     "output_type": "stream",
     "text": [
      "\n",
      "\n",
      "\n",
      "https://euw1.api.riotgames.com/lol/match/v4/matches/4066665082?api_key=RGAPI-a8b115a1-d191-4fab-b57c-0a7a5dd665c1\n"
     ]
    },
    {
     "name": "stderr",
     "output_type": "stream",
     "text": [
      "C:\\Users\\utilisateur\\Documents\\MPSIS\\IPT\\WinPython-64bit-3.6.3.0Qt5\\python-3.6.3.amd64\\lib\\site-packages\\urllib3\\connectionpool.py:852: InsecureRequestWarning: Unverified HTTPS request is being made. Adding certificate verification is strongly advised. See: https://urllib3.readthedocs.io/en/latest/advanced-usage.html#ssl-warnings\n",
      "  InsecureRequestWarning)\n"
     ]
    },
    {
     "name": "stdout",
     "output_type": "stream",
     "text": [
      "\n",
      "\n",
      "\n",
      "\n",
      "https://euw1.api.riotgames.com/lol/match/v4/matches/4066593986?api_key=RGAPI-a8b115a1-d191-4fab-b57c-0a7a5dd665c1\n"
     ]
    },
    {
     "name": "stderr",
     "output_type": "stream",
     "text": [
      "C:\\Users\\utilisateur\\Documents\\MPSIS\\IPT\\WinPython-64bit-3.6.3.0Qt5\\python-3.6.3.amd64\\lib\\site-packages\\urllib3\\connectionpool.py:852: InsecureRequestWarning: Unverified HTTPS request is being made. Adding certificate verification is strongly advised. See: https://urllib3.readthedocs.io/en/latest/advanced-usage.html#ssl-warnings\n",
      "  InsecureRequestWarning)\n"
     ]
    },
    {
     "name": "stdout",
     "output_type": "stream",
     "text": [
      "\n",
      "\n",
      "\n",
      "\n",
      "https://euw1.api.riotgames.com/lol/match/v4/matches/4065380086?api_key=RGAPI-a8b115a1-d191-4fab-b57c-0a7a5dd665c1\n"
     ]
    },
    {
     "name": "stderr",
     "output_type": "stream",
     "text": [
      "C:\\Users\\utilisateur\\Documents\\MPSIS\\IPT\\WinPython-64bit-3.6.3.0Qt5\\python-3.6.3.amd64\\lib\\site-packages\\urllib3\\connectionpool.py:852: InsecureRequestWarning: Unverified HTTPS request is being made. Adding certificate verification is strongly advised. See: https://urllib3.readthedocs.io/en/latest/advanced-usage.html#ssl-warnings\n",
      "  InsecureRequestWarning)\n"
     ]
    },
    {
     "name": "stdout",
     "output_type": "stream",
     "text": [
      "\n",
      "https://euw1.api.riotgames.com/lol/match/v4/matches/4065353540?api_key=RGAPI-a8b115a1-d191-4fab-b57c-0a7a5dd665c1\n"
     ]
    },
    {
     "name": "stderr",
     "output_type": "stream",
     "text": [
      "C:\\Users\\utilisateur\\Documents\\MPSIS\\IPT\\WinPython-64bit-3.6.3.0Qt5\\python-3.6.3.amd64\\lib\\site-packages\\urllib3\\connectionpool.py:852: InsecureRequestWarning: Unverified HTTPS request is being made. Adding certificate verification is strongly advised. See: https://urllib3.readthedocs.io/en/latest/advanced-usage.html#ssl-warnings\n",
      "  InsecureRequestWarning)\n"
     ]
    },
    {
     "name": "stdout",
     "output_type": "stream",
     "text": [
      "\n",
      "https://euw1.api.riotgames.com/lol/match/v4/matches/4065318267?api_key=RGAPI-a8b115a1-d191-4fab-b57c-0a7a5dd665c1\n"
     ]
    },
    {
     "name": "stderr",
     "output_type": "stream",
     "text": [
      "C:\\Users\\utilisateur\\Documents\\MPSIS\\IPT\\WinPython-64bit-3.6.3.0Qt5\\python-3.6.3.amd64\\lib\\site-packages\\urllib3\\connectionpool.py:852: InsecureRequestWarning: Unverified HTTPS request is being made. Adding certificate verification is strongly advised. See: https://urllib3.readthedocs.io/en/latest/advanced-usage.html#ssl-warnings\n",
      "  InsecureRequestWarning)\n"
     ]
    },
    {
     "name": "stdout",
     "output_type": "stream",
     "text": [
      "\n",
      "https://euw1.api.riotgames.com/lol/match/v4/matches/4065311599?api_key=RGAPI-a8b115a1-d191-4fab-b57c-0a7a5dd665c1\n"
     ]
    },
    {
     "name": "stderr",
     "output_type": "stream",
     "text": [
      "C:\\Users\\utilisateur\\Documents\\MPSIS\\IPT\\WinPython-64bit-3.6.3.0Qt5\\python-3.6.3.amd64\\lib\\site-packages\\urllib3\\connectionpool.py:852: InsecureRequestWarning: Unverified HTTPS request is being made. Adding certificate verification is strongly advised. See: https://urllib3.readthedocs.io/en/latest/advanced-usage.html#ssl-warnings\n",
      "  InsecureRequestWarning)\n"
     ]
    },
    {
     "name": "stdout",
     "output_type": "stream",
     "text": [
      "\n",
      "https://euw1.api.riotgames.com/lol/match/v4/matches/4065284899?api_key=RGAPI-a8b115a1-d191-4fab-b57c-0a7a5dd665c1\n"
     ]
    },
    {
     "name": "stderr",
     "output_type": "stream",
     "text": [
      "C:\\Users\\utilisateur\\Documents\\MPSIS\\IPT\\WinPython-64bit-3.6.3.0Qt5\\python-3.6.3.amd64\\lib\\site-packages\\urllib3\\connectionpool.py:852: InsecureRequestWarning: Unverified HTTPS request is being made. Adding certificate verification is strongly advised. See: https://urllib3.readthedocs.io/en/latest/advanced-usage.html#ssl-warnings\n",
      "  InsecureRequestWarning)\n"
     ]
    },
    {
     "name": "stdout",
     "output_type": "stream",
     "text": [
      "\n",
      "\n",
      "\n",
      "https://euw1.api.riotgames.com/lol/match/v4/matches/4065204179?api_key=RGAPI-a8b115a1-d191-4fab-b57c-0a7a5dd665c1\n"
     ]
    },
    {
     "name": "stderr",
     "output_type": "stream",
     "text": [
      "C:\\Users\\utilisateur\\Documents\\MPSIS\\IPT\\WinPython-64bit-3.6.3.0Qt5\\python-3.6.3.amd64\\lib\\site-packages\\urllib3\\connectionpool.py:852: InsecureRequestWarning: Unverified HTTPS request is being made. Adding certificate verification is strongly advised. See: https://urllib3.readthedocs.io/en/latest/advanced-usage.html#ssl-warnings\n",
      "  InsecureRequestWarning)\n"
     ]
    },
    {
     "name": "stdout",
     "output_type": "stream",
     "text": [
      "\n",
      "(143.79999999999995, 790597.16000000015, 370.78125, 487170.4208984375)\n"
     ]
    }
   ],
   "source": [
    "#analyse d'un early game\n",
    "\n",
    "def gold_lead(summoner_name,champion_name,lane,queue = 420,role = \"NONE\",):\n",
    "    summonerId = get_user(summoner_name)[\"accountId\"]\n",
    "    championId = id_from_champion_name(champion_name)\n",
    "    history = get_history(summonerId)\n",
    "    Goldlead = [[],[]] #on distinguera les loses et les wins \n",
    "    for body in history[\"matches\"]:\n",
    "        print()\n",
    "        if int(body[\"champion\"])==int(championId )and body[\"role\"]==role and body[\"lane\"]==lane and body[\"queue\"]==queue :\n",
    "            match = get_match(int(body[\"gameId\"]))\n",
    "            participantId = pseudo_to_participantId(match,summoner_name)\n",
    "            Goldlead[int(win_or_lose(match,participantId))].append(gold_diff_at_10(match,participantId))\n",
    "    return np.mean(Goldlead[0]),np.var(Goldlead[0]),np.mean(Goldlead[1]),np.var(Goldlead[1])\n",
    "\n",
    "print(gold_lead(\"jesuisnonbinaire\",\"Elise\",\"JUNGLE\",420,\"NONE\"))"
   ]
  },
  {
   "cell_type": "code",
   "execution_count": 4,
   "metadata": {
    "scrolled": false
   },
   "outputs": [
    {
     "name": "stdout",
     "output_type": "stream",
     "text": [
      "https://euw1.api.riotgames.com/lol/league/v4/entries/RANKED_SOLO_5x5/IRON/IV?api_key=RGAPI-a8b115a1-d191-4fab-b57c-0a7a5dd665c1\n"
     ]
    },
    {
     "name": "stderr",
     "output_type": "stream",
     "text": [
      "C:\\Users\\utilisateur\\Documents\\MPSIS\\IPT\\WinPython-64bit-3.6.3.0Qt5\\python-3.6.3.amd64\\lib\\site-packages\\urllib3\\connectionpool.py:852: InsecureRequestWarning: Unverified HTTPS request is being made. Adding certificate verification is strongly advised. See: https://urllib3.readthedocs.io/en/latest/advanced-usage.html#ssl-warnings\n",
      "  InsecureRequestWarning)\n",
      "C:\\Users\\utilisateur\\Documents\\MPSIS\\IPT\\WinPython-64bit-3.6.3.0Qt5\\python-3.6.3.amd64\\lib\\site-packages\\urllib3\\connectionpool.py:852: InsecureRequestWarning: Unverified HTTPS request is being made. Adding certificate verification is strongly advised. See: https://urllib3.readthedocs.io/en/latest/advanced-usage.html#ssl-warnings\n",
      "  InsecureRequestWarning)\n",
      "C:\\Users\\utilisateur\\Documents\\MPSIS\\IPT\\WinPython-64bit-3.6.3.0Qt5\\python-3.6.3.amd64\\lib\\site-packages\\urllib3\\connectionpool.py:852: InsecureRequestWarning: Unverified HTTPS request is being made. Adding certificate verification is strongly advised. See: https://urllib3.readthedocs.io/en/latest/advanced-usage.html#ssl-warnings\n",
      "  InsecureRequestWarning)\n"
     ]
    },
    {
     "name": "stdout",
     "output_type": "stream",
     "text": [
      "205\n",
      "https://euw1.api.riotgames.com/lol/league/v4/leagues/815d9fc0-2006-11e9-b945-c81f66dd2a8f?api_key=RGAPI-a8b115a1-d191-4fab-b57c-0a7a5dd665c1\n",
      "1\n",
      "https://euw1.api.riotgames.com/lol/league/v4/leagues/c09f0c10-20e1-11e9-a55c-c81f66dd2a8f?api_key=RGAPI-a8b115a1-d191-4fab-b57c-0a7a5dd665c1\n",
      "2\n"
     ]
    },
    {
     "name": "stderr",
     "output_type": "stream",
     "text": [
      "C:\\Users\\utilisateur\\Documents\\MPSIS\\IPT\\WinPython-64bit-3.6.3.0Qt5\\python-3.6.3.amd64\\lib\\site-packages\\urllib3\\connectionpool.py:852: InsecureRequestWarning: Unverified HTTPS request is being made. Adding certificate verification is strongly advised. See: https://urllib3.readthedocs.io/en/latest/advanced-usage.html#ssl-warnings\n",
      "  InsecureRequestWarning)\n"
     ]
    },
    {
     "name": "stdout",
     "output_type": "stream",
     "text": [
      "https://euw1.api.riotgames.com/lol/league/v4/leagues/6c4bdf60-1fee-11e9-b945-c81f66dd2a8f?api_key=RGAPI-a8b115a1-d191-4fab-b57c-0a7a5dd665c1\n",
      "3\n"
     ]
    },
    {
     "name": "stderr",
     "output_type": "stream",
     "text": [
      "C:\\Users\\utilisateur\\Documents\\MPSIS\\IPT\\WinPython-64bit-3.6.3.0Qt5\\python-3.6.3.amd64\\lib\\site-packages\\urllib3\\connectionpool.py:852: InsecureRequestWarning: Unverified HTTPS request is being made. Adding certificate verification is strongly advised. See: https://urllib3.readthedocs.io/en/latest/advanced-usage.html#ssl-warnings\n",
      "  InsecureRequestWarning)\n"
     ]
    },
    {
     "name": "stdout",
     "output_type": "stream",
     "text": [
      "https://euw1.api.riotgames.com/lol/league/v4/leagues/24cfd220-1fd7-11e9-9dcb-c81f66dd0e0d?api_key=RGAPI-a8b115a1-d191-4fab-b57c-0a7a5dd665c1\n",
      "4\n"
     ]
    },
    {
     "name": "stderr",
     "output_type": "stream",
     "text": [
      "C:\\Users\\utilisateur\\Documents\\MPSIS\\IPT\\WinPython-64bit-3.6.3.0Qt5\\python-3.6.3.amd64\\lib\\site-packages\\urllib3\\connectionpool.py:852: InsecureRequestWarning: Unverified HTTPS request is being made. Adding certificate verification is strongly advised. See: https://urllib3.readthedocs.io/en/latest/advanced-usage.html#ssl-warnings\n",
      "  InsecureRequestWarning)\n"
     ]
    },
    {
     "name": "stdout",
     "output_type": "stream",
     "text": [
      "https://euw1.api.riotgames.com/lol/league/v4/leagues/d3c41d90-217b-11e9-8c3b-c81f66dd2a8f?api_key=RGAPI-a8b115a1-d191-4fab-b57c-0a7a5dd665c1\n",
      "5\n"
     ]
    },
    {
     "name": "stderr",
     "output_type": "stream",
     "text": [
      "C:\\Users\\utilisateur\\Documents\\MPSIS\\IPT\\WinPython-64bit-3.6.3.0Qt5\\python-3.6.3.amd64\\lib\\site-packages\\urllib3\\connectionpool.py:852: InsecureRequestWarning: Unverified HTTPS request is being made. Adding certificate verification is strongly advised. See: https://urllib3.readthedocs.io/en/latest/advanced-usage.html#ssl-warnings\n",
      "  InsecureRequestWarning)\n"
     ]
    },
    {
     "name": "stdout",
     "output_type": "stream",
     "text": [
      "https://euw1.api.riotgames.com/lol/league/v4/leagues/e151aca0-1fa2-11e9-99ab-c81f66dd2a8f?api_key=RGAPI-a8b115a1-d191-4fab-b57c-0a7a5dd665c1\n",
      "6\n"
     ]
    },
    {
     "name": "stderr",
     "output_type": "stream",
     "text": [
      "C:\\Users\\utilisateur\\Documents\\MPSIS\\IPT\\WinPython-64bit-3.6.3.0Qt5\\python-3.6.3.amd64\\lib\\site-packages\\urllib3\\connectionpool.py:852: InsecureRequestWarning: Unverified HTTPS request is being made. Adding certificate verification is strongly advised. See: https://urllib3.readthedocs.io/en/latest/advanced-usage.html#ssl-warnings\n",
      "  InsecureRequestWarning)\n"
     ]
    },
    {
     "name": "stdout",
     "output_type": "stream",
     "text": [
      "https://euw1.api.riotgames.com/lol/league/v4/leagues/aa8c4d90-1fa4-11e9-b945-c81f66dd2a8f?api_key=RGAPI-a8b115a1-d191-4fab-b57c-0a7a5dd665c1\n",
      "7\n"
     ]
    },
    {
     "name": "stderr",
     "output_type": "stream",
     "text": [
      "C:\\Users\\utilisateur\\Documents\\MPSIS\\IPT\\WinPython-64bit-3.6.3.0Qt5\\python-3.6.3.amd64\\lib\\site-packages\\urllib3\\connectionpool.py:852: InsecureRequestWarning: Unverified HTTPS request is being made. Adding certificate verification is strongly advised. See: https://urllib3.readthedocs.io/en/latest/advanced-usage.html#ssl-warnings\n",
      "  InsecureRequestWarning)\n"
     ]
    },
    {
     "name": "stdout",
     "output_type": "stream",
     "text": [
      "https://euw1.api.riotgames.com/lol/league/v4/leagues/2864be60-20f8-11e9-b807-c81f66dacb22?api_key=RGAPI-a8b115a1-d191-4fab-b57c-0a7a5dd665c1\n",
      "8\n"
     ]
    },
    {
     "name": "stderr",
     "output_type": "stream",
     "text": [
      "C:\\Users\\utilisateur\\Documents\\MPSIS\\IPT\\WinPython-64bit-3.6.3.0Qt5\\python-3.6.3.amd64\\lib\\site-packages\\urllib3\\connectionpool.py:852: InsecureRequestWarning: Unverified HTTPS request is being made. Adding certificate verification is strongly advised. See: https://urllib3.readthedocs.io/en/latest/advanced-usage.html#ssl-warnings\n",
      "  InsecureRequestWarning)\n"
     ]
    },
    {
     "name": "stdout",
     "output_type": "stream",
     "text": [
      "https://euw1.api.riotgames.com/lol/league/v4/leagues/1efe14c0-1ff4-11e9-a30f-c81f66dd0e0d?api_key=RGAPI-a8b115a1-d191-4fab-b57c-0a7a5dd665c1\n",
      "9\n"
     ]
    },
    {
     "name": "stderr",
     "output_type": "stream",
     "text": [
      "C:\\Users\\utilisateur\\Documents\\MPSIS\\IPT\\WinPython-64bit-3.6.3.0Qt5\\python-3.6.3.amd64\\lib\\site-packages\\urllib3\\connectionpool.py:852: InsecureRequestWarning: Unverified HTTPS request is being made. Adding certificate verification is strongly advised. See: https://urllib3.readthedocs.io/en/latest/advanced-usage.html#ssl-warnings\n",
      "  InsecureRequestWarning)\n"
     ]
    },
    {
     "name": "stdout",
     "output_type": "stream",
     "text": [
      "https://euw1.api.riotgames.com/lol/league/v4/leagues/180e77f0-2098-11e9-b350-c81f66dd2a8f?api_key=RGAPI-a8b115a1-d191-4fab-b57c-0a7a5dd665c1\n",
      "10\n"
     ]
    },
    {
     "name": "stderr",
     "output_type": "stream",
     "text": [
      "C:\\Users\\utilisateur\\Documents\\MPSIS\\IPT\\WinPython-64bit-3.6.3.0Qt5\\python-3.6.3.amd64\\lib\\site-packages\\urllib3\\connectionpool.py:852: InsecureRequestWarning: Unverified HTTPS request is being made. Adding certificate verification is strongly advised. See: https://urllib3.readthedocs.io/en/latest/advanced-usage.html#ssl-warnings\n",
      "  InsecureRequestWarning)\n"
     ]
    },
    {
     "name": "stdout",
     "output_type": "stream",
     "text": [
      "https://euw1.api.riotgames.com/lol/league/v4/leagues/cd1921b0-1fec-11e9-a441-c81f66db01ef?api_key=RGAPI-a8b115a1-d191-4fab-b57c-0a7a5dd665c1\n",
      "11\n"
     ]
    },
    {
     "name": "stderr",
     "output_type": "stream",
     "text": [
      "C:\\Users\\utilisateur\\Documents\\MPSIS\\IPT\\WinPython-64bit-3.6.3.0Qt5\\python-3.6.3.amd64\\lib\\site-packages\\urllib3\\connectionpool.py:852: InsecureRequestWarning: Unverified HTTPS request is being made. Adding certificate verification is strongly advised. See: https://urllib3.readthedocs.io/en/latest/advanced-usage.html#ssl-warnings\n",
      "  InsecureRequestWarning)\n"
     ]
    },
    {
     "name": "stdout",
     "output_type": "stream",
     "text": [
      "https://euw1.api.riotgames.com/lol/league/v4/leagues/3ca329e0-1ff7-11e9-b919-c81f66dd0e0d?api_key=RGAPI-a8b115a1-d191-4fab-b57c-0a7a5dd665c1\n",
      "12\n"
     ]
    },
    {
     "name": "stderr",
     "output_type": "stream",
     "text": [
      "C:\\Users\\utilisateur\\Documents\\MPSIS\\IPT\\WinPython-64bit-3.6.3.0Qt5\\python-3.6.3.amd64\\lib\\site-packages\\urllib3\\connectionpool.py:852: InsecureRequestWarning: Unverified HTTPS request is being made. Adding certificate verification is strongly advised. See: https://urllib3.readthedocs.io/en/latest/advanced-usage.html#ssl-warnings\n",
      "  InsecureRequestWarning)\n"
     ]
    },
    {
     "name": "stdout",
     "output_type": "stream",
     "text": [
      "https://euw1.api.riotgames.com/lol/league/v4/leagues/ec001480-2343-11e9-8726-c81f66db01ef?api_key=RGAPI-a8b115a1-d191-4fab-b57c-0a7a5dd665c1\n",
      "13\n"
     ]
    },
    {
     "name": "stderr",
     "output_type": "stream",
     "text": [
      "C:\\Users\\utilisateur\\Documents\\MPSIS\\IPT\\WinPython-64bit-3.6.3.0Qt5\\python-3.6.3.amd64\\lib\\site-packages\\urllib3\\connectionpool.py:852: InsecureRequestWarning: Unverified HTTPS request is being made. Adding certificate verification is strongly advised. See: https://urllib3.readthedocs.io/en/latest/advanced-usage.html#ssl-warnings\n",
      "  InsecureRequestWarning)\n"
     ]
    },
    {
     "name": "stdout",
     "output_type": "stream",
     "text": [
      "https://euw1.api.riotgames.com/lol/league/v4/leagues/16304aa0-4f12-11e9-86ea-c81f66dd0e0d?api_key=RGAPI-a8b115a1-d191-4fab-b57c-0a7a5dd665c1\n"
     ]
    },
    {
     "name": "stderr",
     "output_type": "stream",
     "text": [
      "C:\\Users\\utilisateur\\Documents\\MPSIS\\IPT\\WinPython-64bit-3.6.3.0Qt5\\python-3.6.3.amd64\\lib\\site-packages\\urllib3\\connectionpool.py:852: InsecureRequestWarning: Unverified HTTPS request is being made. Adding certificate verification is strongly advised. See: https://urllib3.readthedocs.io/en/latest/advanced-usage.html#ssl-warnings\n",
      "  InsecureRequestWarning)\n",
      "C:\\Users\\utilisateur\\Documents\\MPSIS\\IPT\\WinPython-64bit-3.6.3.0Qt5\\python-3.6.3.amd64\\lib\\site-packages\\urllib3\\connectionpool.py:852: InsecureRequestWarning: Unverified HTTPS request is being made. Adding certificate verification is strongly advised. See: https://urllib3.readthedocs.io/en/latest/advanced-usage.html#ssl-warnings\n",
      "  InsecureRequestWarning)\n"
     ]
    },
    {
     "name": "stdout",
     "output_type": "stream",
     "text": [
      "14\n",
      "https://euw1.api.riotgames.com/lol/league/v4/leagues/aa8c4d90-1fa4-11e9-b945-c81f66dd2a8f?api_key=RGAPI-a8b115a1-d191-4fab-b57c-0a7a5dd665c1\n",
      "15\n"
     ]
    },
    {
     "name": "stderr",
     "output_type": "stream",
     "text": [
      "C:\\Users\\utilisateur\\Documents\\MPSIS\\IPT\\WinPython-64bit-3.6.3.0Qt5\\python-3.6.3.amd64\\lib\\site-packages\\urllib3\\connectionpool.py:852: InsecureRequestWarning: Unverified HTTPS request is being made. Adding certificate verification is strongly advised. See: https://urllib3.readthedocs.io/en/latest/advanced-usage.html#ssl-warnings\n",
      "  InsecureRequestWarning)\n"
     ]
    },
    {
     "name": "stdout",
     "output_type": "stream",
     "text": [
      "https://euw1.api.riotgames.com/lol/league/v4/leagues/3713cd80-3abf-11e9-8dcf-c81f66dd0e0d?api_key=RGAPI-a8b115a1-d191-4fab-b57c-0a7a5dd665c1\n",
      "16\n"
     ]
    },
    {
     "name": "stderr",
     "output_type": "stream",
     "text": [
      "C:\\Users\\utilisateur\\Documents\\MPSIS\\IPT\\WinPython-64bit-3.6.3.0Qt5\\python-3.6.3.amd64\\lib\\site-packages\\urllib3\\connectionpool.py:852: InsecureRequestWarning: Unverified HTTPS request is being made. Adding certificate verification is strongly advised. See: https://urllib3.readthedocs.io/en/latest/advanced-usage.html#ssl-warnings\n",
      "  InsecureRequestWarning)\n"
     ]
    },
    {
     "name": "stdout",
     "output_type": "stream",
     "text": [
      "https://euw1.api.riotgames.com/lol/league/v4/leagues/39624bb0-324b-11e9-9164-c81f66dd0e0d?api_key=RGAPI-a8b115a1-d191-4fab-b57c-0a7a5dd665c1\n",
      "17\n"
     ]
    },
    {
     "name": "stderr",
     "output_type": "stream",
     "text": [
      "C:\\Users\\utilisateur\\Documents\\MPSIS\\IPT\\WinPython-64bit-3.6.3.0Qt5\\python-3.6.3.amd64\\lib\\site-packages\\urllib3\\connectionpool.py:852: InsecureRequestWarning: Unverified HTTPS request is being made. Adding certificate verification is strongly advised. See: https://urllib3.readthedocs.io/en/latest/advanced-usage.html#ssl-warnings\n",
      "  InsecureRequestWarning)\n"
     ]
    },
    {
     "name": "stdout",
     "output_type": "stream",
     "text": [
      "https://euw1.api.riotgames.com/lol/league/v4/leagues/97194110-1fe4-11e9-9adc-c81f66dacb22?api_key=RGAPI-a8b115a1-d191-4fab-b57c-0a7a5dd665c1\n",
      "18\n"
     ]
    },
    {
     "name": "stderr",
     "output_type": "stream",
     "text": [
      "C:\\Users\\utilisateur\\Documents\\MPSIS\\IPT\\WinPython-64bit-3.6.3.0Qt5\\python-3.6.3.amd64\\lib\\site-packages\\urllib3\\connectionpool.py:852: InsecureRequestWarning: Unverified HTTPS request is being made. Adding certificate verification is strongly advised. See: https://urllib3.readthedocs.io/en/latest/advanced-usage.html#ssl-warnings\n",
      "  InsecureRequestWarning)\n"
     ]
    },
    {
     "name": "stdout",
     "output_type": "stream",
     "text": [
      "https://euw1.api.riotgames.com/lol/league/v4/leagues/e7336cc0-1fcb-11e9-9adc-c81f66dacb22?api_key=RGAPI-a8b115a1-d191-4fab-b57c-0a7a5dd665c1\n",
      "19\n"
     ]
    },
    {
     "name": "stderr",
     "output_type": "stream",
     "text": [
      "C:\\Users\\utilisateur\\Documents\\MPSIS\\IPT\\WinPython-64bit-3.6.3.0Qt5\\python-3.6.3.amd64\\lib\\site-packages\\urllib3\\connectionpool.py:852: InsecureRequestWarning: Unverified HTTPS request is being made. Adding certificate verification is strongly advised. See: https://urllib3.readthedocs.io/en/latest/advanced-usage.html#ssl-warnings\n",
      "  InsecureRequestWarning)\n"
     ]
    },
    {
     "name": "stdout",
     "output_type": "stream",
     "text": [
      "https://euw1.api.riotgames.com/lol/league/v4/leagues/6e4e73b0-1fce-11e9-bcbc-c81f66dd2a8f?api_key=RGAPI-a8b115a1-d191-4fab-b57c-0a7a5dd665c1\n",
      "20\n"
     ]
    },
    {
     "name": "stderr",
     "output_type": "stream",
     "text": [
      "C:\\Users\\utilisateur\\Documents\\MPSIS\\IPT\\WinPython-64bit-3.6.3.0Qt5\\python-3.6.3.amd64\\lib\\site-packages\\urllib3\\connectionpool.py:852: InsecureRequestWarning: Unverified HTTPS request is being made. Adding certificate verification is strongly advised. See: https://urllib3.readthedocs.io/en/latest/advanced-usage.html#ssl-warnings\n",
      "  InsecureRequestWarning)\n"
     ]
    },
    {
     "name": "stdout",
     "output_type": "stream",
     "text": [
      "https://euw1.api.riotgames.com/lol/league/v4/leagues/41b224f0-2005-11e9-a553-c81f66dacb22?api_key=RGAPI-a8b115a1-d191-4fab-b57c-0a7a5dd665c1\n",
      "21\n"
     ]
    },
    {
     "name": "stderr",
     "output_type": "stream",
     "text": [
      "C:\\Users\\utilisateur\\Documents\\MPSIS\\IPT\\WinPython-64bit-3.6.3.0Qt5\\python-3.6.3.amd64\\lib\\site-packages\\urllib3\\connectionpool.py:852: InsecureRequestWarning: Unverified HTTPS request is being made. Adding certificate verification is strongly advised. See: https://urllib3.readthedocs.io/en/latest/advanced-usage.html#ssl-warnings\n",
      "  InsecureRequestWarning)\n"
     ]
    },
    {
     "name": "stdout",
     "output_type": "stream",
     "text": [
      "https://euw1.api.riotgames.com/lol/league/v4/leagues/340c5d10-1fe8-11e9-b945-c81f66dd2a8f?api_key=RGAPI-a8b115a1-d191-4fab-b57c-0a7a5dd665c1\n",
      "22\n"
     ]
    },
    {
     "name": "stderr",
     "output_type": "stream",
     "text": [
      "C:\\Users\\utilisateur\\Documents\\MPSIS\\IPT\\WinPython-64bit-3.6.3.0Qt5\\python-3.6.3.amd64\\lib\\site-packages\\urllib3\\connectionpool.py:852: InsecureRequestWarning: Unverified HTTPS request is being made. Adding certificate verification is strongly advised. See: https://urllib3.readthedocs.io/en/latest/advanced-usage.html#ssl-warnings\n",
      "  InsecureRequestWarning)\n"
     ]
    },
    {
     "name": "stdout",
     "output_type": "stream",
     "text": [
      "https://euw1.api.riotgames.com/lol/league/v4/leagues/e3d95e90-1fc6-11e9-bcbc-c81f66dd2a8f?api_key=RGAPI-a8b115a1-d191-4fab-b57c-0a7a5dd665c1\n",
      "23\n"
     ]
    },
    {
     "name": "stderr",
     "output_type": "stream",
     "text": [
      "C:\\Users\\utilisateur\\Documents\\MPSIS\\IPT\\WinPython-64bit-3.6.3.0Qt5\\python-3.6.3.amd64\\lib\\site-packages\\urllib3\\connectionpool.py:852: InsecureRequestWarning: Unverified HTTPS request is being made. Adding certificate verification is strongly advised. See: https://urllib3.readthedocs.io/en/latest/advanced-usage.html#ssl-warnings\n",
      "  InsecureRequestWarning)\n"
     ]
    },
    {
     "name": "stdout",
     "output_type": "stream",
     "text": [
      "https://euw1.api.riotgames.com/lol/league/v4/leagues/18548410-2008-11e9-99ab-c81f66dd2a8f?api_key=RGAPI-a8b115a1-d191-4fab-b57c-0a7a5dd665c1\n",
      "24\n"
     ]
    },
    {
     "name": "stderr",
     "output_type": "stream",
     "text": [
      "C:\\Users\\utilisateur\\Documents\\MPSIS\\IPT\\WinPython-64bit-3.6.3.0Qt5\\python-3.6.3.amd64\\lib\\site-packages\\urllib3\\connectionpool.py:852: InsecureRequestWarning: Unverified HTTPS request is being made. Adding certificate verification is strongly advised. See: https://urllib3.readthedocs.io/en/latest/advanced-usage.html#ssl-warnings\n",
      "  InsecureRequestWarning)\n"
     ]
    },
    {
     "name": "stdout",
     "output_type": "stream",
     "text": [
      "https://euw1.api.riotgames.com/lol/league/v4/leagues/066cea70-2004-11e9-af08-c81f66db01ef?api_key=RGAPI-a8b115a1-d191-4fab-b57c-0a7a5dd665c1\n",
      "25\n"
     ]
    },
    {
     "name": "stderr",
     "output_type": "stream",
     "text": [
      "C:\\Users\\utilisateur\\Documents\\MPSIS\\IPT\\WinPython-64bit-3.6.3.0Qt5\\python-3.6.3.amd64\\lib\\site-packages\\urllib3\\connectionpool.py:852: InsecureRequestWarning: Unverified HTTPS request is being made. Adding certificate verification is strongly advised. See: https://urllib3.readthedocs.io/en/latest/advanced-usage.html#ssl-warnings\n",
      "  InsecureRequestWarning)\n"
     ]
    },
    {
     "name": "stdout",
     "output_type": "stream",
     "text": [
      "https://euw1.api.riotgames.com/lol/league/v4/leagues/28160d60-1fe0-11e9-9adc-c81f66dacb22?api_key=RGAPI-a8b115a1-d191-4fab-b57c-0a7a5dd665c1\n",
      "26\n"
     ]
    },
    {
     "name": "stderr",
     "output_type": "stream",
     "text": [
      "C:\\Users\\utilisateur\\Documents\\MPSIS\\IPT\\WinPython-64bit-3.6.3.0Qt5\\python-3.6.3.amd64\\lib\\site-packages\\urllib3\\connectionpool.py:852: InsecureRequestWarning: Unverified HTTPS request is being made. Adding certificate verification is strongly advised. See: https://urllib3.readthedocs.io/en/latest/advanced-usage.html#ssl-warnings\n",
      "  InsecureRequestWarning)\n"
     ]
    },
    {
     "name": "stdout",
     "output_type": "stream",
     "text": [
      "https://euw1.api.riotgames.com/lol/league/v4/leagues/0a718600-21b5-11e9-b6a3-c81f66db01ef?api_key=RGAPI-a8b115a1-d191-4fab-b57c-0a7a5dd665c1\n",
      "27\n"
     ]
    },
    {
     "name": "stderr",
     "output_type": "stream",
     "text": [
      "C:\\Users\\utilisateur\\Documents\\MPSIS\\IPT\\WinPython-64bit-3.6.3.0Qt5\\python-3.6.3.amd64\\lib\\site-packages\\urllib3\\connectionpool.py:852: InsecureRequestWarning: Unverified HTTPS request is being made. Adding certificate verification is strongly advised. See: https://urllib3.readthedocs.io/en/latest/advanced-usage.html#ssl-warnings\n",
      "  InsecureRequestWarning)\n"
     ]
    },
    {
     "name": "stdout",
     "output_type": "stream",
     "text": [
      "https://euw1.api.riotgames.com/lol/league/v4/leagues/52815000-2346-11e9-8b03-c81f66dd0e0d?api_key=RGAPI-a8b115a1-d191-4fab-b57c-0a7a5dd665c1\n",
      "28\n"
     ]
    },
    {
     "name": "stderr",
     "output_type": "stream",
     "text": [
      "C:\\Users\\utilisateur\\Documents\\MPSIS\\IPT\\WinPython-64bit-3.6.3.0Qt5\\python-3.6.3.amd64\\lib\\site-packages\\urllib3\\connectionpool.py:852: InsecureRequestWarning: Unverified HTTPS request is being made. Adding certificate verification is strongly advised. See: https://urllib3.readthedocs.io/en/latest/advanced-usage.html#ssl-warnings\n",
      "  InsecureRequestWarning)\n"
     ]
    },
    {
     "name": "stdout",
     "output_type": "stream",
     "text": [
      "https://euw1.api.riotgames.com/lol/league/v4/leagues/98c7c020-1fff-11e9-af08-c81f66db01ef?api_key=RGAPI-a8b115a1-d191-4fab-b57c-0a7a5dd665c1\n",
      "29\n"
     ]
    },
    {
     "name": "stderr",
     "output_type": "stream",
     "text": [
      "C:\\Users\\utilisateur\\Documents\\MPSIS\\IPT\\WinPython-64bit-3.6.3.0Qt5\\python-3.6.3.amd64\\lib\\site-packages\\urllib3\\connectionpool.py:852: InsecureRequestWarning: Unverified HTTPS request is being made. Adding certificate verification is strongly advised. See: https://urllib3.readthedocs.io/en/latest/advanced-usage.html#ssl-warnings\n",
      "  InsecureRequestWarning)\n"
     ]
    },
    {
     "name": "stdout",
     "output_type": "stream",
     "text": [
      "https://euw1.api.riotgames.com/lol/league/v4/leagues/f8568bd0-1ff9-11e9-8ff7-c81f66dd0e0d?api_key=RGAPI-a8b115a1-d191-4fab-b57c-0a7a5dd665c1\n",
      "30\n"
     ]
    },
    {
     "name": "stderr",
     "output_type": "stream",
     "text": [
      "C:\\Users\\utilisateur\\Documents\\MPSIS\\IPT\\WinPython-64bit-3.6.3.0Qt5\\python-3.6.3.amd64\\lib\\site-packages\\urllib3\\connectionpool.py:852: InsecureRequestWarning: Unverified HTTPS request is being made. Adding certificate verification is strongly advised. See: https://urllib3.readthedocs.io/en/latest/advanced-usage.html#ssl-warnings\n",
      "  InsecureRequestWarning)\n"
     ]
    },
    {
     "name": "stdout",
     "output_type": "stream",
     "text": [
      "https://euw1.api.riotgames.com/lol/league/v4/leagues/ca682c50-227a-11e9-8c3b-c81f66dd2a8f?api_key=RGAPI-a8b115a1-d191-4fab-b57c-0a7a5dd665c1\n",
      "31\n"
     ]
    },
    {
     "name": "stderr",
     "output_type": "stream",
     "text": [
      "C:\\Users\\utilisateur\\Documents\\MPSIS\\IPT\\WinPython-64bit-3.6.3.0Qt5\\python-3.6.3.amd64\\lib\\site-packages\\urllib3\\connectionpool.py:852: InsecureRequestWarning: Unverified HTTPS request is being made. Adding certificate verification is strongly advised. See: https://urllib3.readthedocs.io/en/latest/advanced-usage.html#ssl-warnings\n",
      "  InsecureRequestWarning)\n"
     ]
    },
    {
     "name": "stdout",
     "output_type": "stream",
     "text": [
      "https://euw1.api.riotgames.com/lol/league/v4/leagues/e0302d10-2010-11e9-b919-c81f66dd0e0d?api_key=RGAPI-a8b115a1-d191-4fab-b57c-0a7a5dd665c1\n",
      "32\n"
     ]
    },
    {
     "name": "stderr",
     "output_type": "stream",
     "text": [
      "C:\\Users\\utilisateur\\Documents\\MPSIS\\IPT\\WinPython-64bit-3.6.3.0Qt5\\python-3.6.3.amd64\\lib\\site-packages\\urllib3\\connectionpool.py:852: InsecureRequestWarning: Unverified HTTPS request is being made. Adding certificate verification is strongly advised. See: https://urllib3.readthedocs.io/en/latest/advanced-usage.html#ssl-warnings\n",
      "  InsecureRequestWarning)\n"
     ]
    },
    {
     "name": "stdout",
     "output_type": "stream",
     "text": [
      "https://euw1.api.riotgames.com/lol/league/v4/leagues/f522cae0-7365-11e9-9695-c81f66db01ef?api_key=RGAPI-a8b115a1-d191-4fab-b57c-0a7a5dd665c1\n",
      "33\n"
     ]
    },
    {
     "name": "stderr",
     "output_type": "stream",
     "text": [
      "C:\\Users\\utilisateur\\Documents\\MPSIS\\IPT\\WinPython-64bit-3.6.3.0Qt5\\python-3.6.3.amd64\\lib\\site-packages\\urllib3\\connectionpool.py:852: InsecureRequestWarning: Unverified HTTPS request is being made. Adding certificate verification is strongly advised. See: https://urllib3.readthedocs.io/en/latest/advanced-usage.html#ssl-warnings\n",
      "  InsecureRequestWarning)\n"
     ]
    },
    {
     "name": "stdout",
     "output_type": "stream",
     "text": [
      "https://euw1.api.riotgames.com/lol/league/v4/leagues/bd7771f0-74c2-11e9-83b8-c81f66dd0e0d?api_key=RGAPI-a8b115a1-d191-4fab-b57c-0a7a5dd665c1\n",
      "34\n"
     ]
    },
    {
     "name": "stderr",
     "output_type": "stream",
     "text": [
      "C:\\Users\\utilisateur\\Documents\\MPSIS\\IPT\\WinPython-64bit-3.6.3.0Qt5\\python-3.6.3.amd64\\lib\\site-packages\\urllib3\\connectionpool.py:852: InsecureRequestWarning: Unverified HTTPS request is being made. Adding certificate verification is strongly advised. See: https://urllib3.readthedocs.io/en/latest/advanced-usage.html#ssl-warnings\n",
      "  InsecureRequestWarning)\n"
     ]
    },
    {
     "name": "stdout",
     "output_type": "stream",
     "text": [
      "https://euw1.api.riotgames.com/lol/league/v4/leagues/aa8c4d90-1fa4-11e9-b945-c81f66dd2a8f?api_key=RGAPI-a8b115a1-d191-4fab-b57c-0a7a5dd665c1\n",
      "35\n"
     ]
    },
    {
     "name": "stderr",
     "output_type": "stream",
     "text": [
      "C:\\Users\\utilisateur\\Documents\\MPSIS\\IPT\\WinPython-64bit-3.6.3.0Qt5\\python-3.6.3.amd64\\lib\\site-packages\\urllib3\\connectionpool.py:852: InsecureRequestWarning: Unverified HTTPS request is being made. Adding certificate verification is strongly advised. See: https://urllib3.readthedocs.io/en/latest/advanced-usage.html#ssl-warnings\n",
      "  InsecureRequestWarning)\n"
     ]
    },
    {
     "name": "stdout",
     "output_type": "stream",
     "text": [
      "https://euw1.api.riotgames.com/lol/league/v4/leagues/562b6400-21cc-11e9-8d6c-c81f66dacb22?api_key=RGAPI-a8b115a1-d191-4fab-b57c-0a7a5dd665c1\n",
      "36\n"
     ]
    },
    {
     "name": "stderr",
     "output_type": "stream",
     "text": [
      "C:\\Users\\utilisateur\\Documents\\MPSIS\\IPT\\WinPython-64bit-3.6.3.0Qt5\\python-3.6.3.amd64\\lib\\site-packages\\urllib3\\connectionpool.py:852: InsecureRequestWarning: Unverified HTTPS request is being made. Adding certificate verification is strongly advised. See: https://urllib3.readthedocs.io/en/latest/advanced-usage.html#ssl-warnings\n",
      "  InsecureRequestWarning)\n"
     ]
    },
    {
     "name": "stdout",
     "output_type": "stream",
     "text": [
      "https://euw1.api.riotgames.com/lol/league/v4/leagues/b2f26570-200b-11e9-b001-c81f66dacb22?api_key=RGAPI-a8b115a1-d191-4fab-b57c-0a7a5dd665c1\n",
      "37\n"
     ]
    },
    {
     "name": "stderr",
     "output_type": "stream",
     "text": [
      "C:\\Users\\utilisateur\\Documents\\MPSIS\\IPT\\WinPython-64bit-3.6.3.0Qt5\\python-3.6.3.amd64\\lib\\site-packages\\urllib3\\connectionpool.py:852: InsecureRequestWarning: Unverified HTTPS request is being made. Adding certificate verification is strongly advised. See: https://urllib3.readthedocs.io/en/latest/advanced-usage.html#ssl-warnings\n",
      "  InsecureRequestWarning)\n"
     ]
    },
    {
     "name": "stdout",
     "output_type": "stream",
     "text": [
      "https://euw1.api.riotgames.com/lol/league/v4/leagues/e548a430-2001-11e9-8c6b-c81f66db01ef?api_key=RGAPI-a8b115a1-d191-4fab-b57c-0a7a5dd665c1\n",
      "38\n"
     ]
    },
    {
     "name": "stderr",
     "output_type": "stream",
     "text": [
      "C:\\Users\\utilisateur\\Documents\\MPSIS\\IPT\\WinPython-64bit-3.6.3.0Qt5\\python-3.6.3.amd64\\lib\\site-packages\\urllib3\\connectionpool.py:852: InsecureRequestWarning: Unverified HTTPS request is being made. Adding certificate verification is strongly advised. See: https://urllib3.readthedocs.io/en/latest/advanced-usage.html#ssl-warnings\n",
      "  InsecureRequestWarning)\n"
     ]
    },
    {
     "name": "stdout",
     "output_type": "stream",
     "text": [
      "https://euw1.api.riotgames.com/lol/league/v4/leagues/8bf9f930-2289-11e9-8fc4-c81f66dd0e0d?api_key=RGAPI-a8b115a1-d191-4fab-b57c-0a7a5dd665c1\n",
      "39\n"
     ]
    },
    {
     "name": "stderr",
     "output_type": "stream",
     "text": [
      "C:\\Users\\utilisateur\\Documents\\MPSIS\\IPT\\WinPython-64bit-3.6.3.0Qt5\\python-3.6.3.amd64\\lib\\site-packages\\urllib3\\connectionpool.py:852: InsecureRequestWarning: Unverified HTTPS request is being made. Adding certificate verification is strongly advised. See: https://urllib3.readthedocs.io/en/latest/advanced-usage.html#ssl-warnings\n",
      "  InsecureRequestWarning)\n"
     ]
    },
    {
     "name": "stdout",
     "output_type": "stream",
     "text": [
      "https://euw1.api.riotgames.com/lol/league/v4/leagues/bfc86af0-200c-11e9-9b9b-c81f66db01ef?api_key=RGAPI-a8b115a1-d191-4fab-b57c-0a7a5dd665c1\n",
      "40\n"
     ]
    },
    {
     "name": "stderr",
     "output_type": "stream",
     "text": [
      "C:\\Users\\utilisateur\\Documents\\MPSIS\\IPT\\WinPython-64bit-3.6.3.0Qt5\\python-3.6.3.amd64\\lib\\site-packages\\urllib3\\connectionpool.py:852: InsecureRequestWarning: Unverified HTTPS request is being made. Adding certificate verification is strongly advised. See: https://urllib3.readthedocs.io/en/latest/advanced-usage.html#ssl-warnings\n",
      "  InsecureRequestWarning)\n"
     ]
    },
    {
     "name": "stdout",
     "output_type": "stream",
     "text": [
      "https://euw1.api.riotgames.com/lol/league/v4/leagues/7e607150-21f3-11e9-8c3b-c81f66dd2a8f?api_key=RGAPI-a8b115a1-d191-4fab-b57c-0a7a5dd665c1\n",
      "41\n"
     ]
    },
    {
     "name": "stderr",
     "output_type": "stream",
     "text": [
      "C:\\Users\\utilisateur\\Documents\\MPSIS\\IPT\\WinPython-64bit-3.6.3.0Qt5\\python-3.6.3.amd64\\lib\\site-packages\\urllib3\\connectionpool.py:852: InsecureRequestWarning: Unverified HTTPS request is being made. Adding certificate verification is strongly advised. See: https://urllib3.readthedocs.io/en/latest/advanced-usage.html#ssl-warnings\n",
      "  InsecureRequestWarning)\n"
     ]
    },
    {
     "name": "stdout",
     "output_type": "stream",
     "text": [
      "https://euw1.api.riotgames.com/lol/league/v4/leagues/71a1bf90-1fdd-11e9-9adc-c81f66dacb22?api_key=RGAPI-a8b115a1-d191-4fab-b57c-0a7a5dd665c1\n",
      "42\n"
     ]
    },
    {
     "name": "stderr",
     "output_type": "stream",
     "text": [
      "C:\\Users\\utilisateur\\Documents\\MPSIS\\IPT\\WinPython-64bit-3.6.3.0Qt5\\python-3.6.3.amd64\\lib\\site-packages\\urllib3\\connectionpool.py:852: InsecureRequestWarning: Unverified HTTPS request is being made. Adding certificate verification is strongly advised. See: https://urllib3.readthedocs.io/en/latest/advanced-usage.html#ssl-warnings\n",
      "  InsecureRequestWarning)\n"
     ]
    },
    {
     "name": "stdout",
     "output_type": "stream",
     "text": [
      "https://euw1.api.riotgames.com/lol/league/v4/leagues/797b0030-2728-11e9-853c-c81f66dd0e0d?api_key=RGAPI-a8b115a1-d191-4fab-b57c-0a7a5dd665c1\n",
      "43\n"
     ]
    },
    {
     "name": "stderr",
     "output_type": "stream",
     "text": [
      "C:\\Users\\utilisateur\\Documents\\MPSIS\\IPT\\WinPython-64bit-3.6.3.0Qt5\\python-3.6.3.amd64\\lib\\site-packages\\urllib3\\connectionpool.py:852: InsecureRequestWarning: Unverified HTTPS request is being made. Adding certificate verification is strongly advised. See: https://urllib3.readthedocs.io/en/latest/advanced-usage.html#ssl-warnings\n",
      "  InsecureRequestWarning)\n"
     ]
    },
    {
     "name": "stdout",
     "output_type": "stream",
     "text": [
      "https://euw1.api.riotgames.com/lol/league/v4/leagues/289a2af0-1fb3-11e9-8ff7-c81f66dd0e0d?api_key=RGAPI-a8b115a1-d191-4fab-b57c-0a7a5dd665c1\n",
      "44\n"
     ]
    },
    {
     "name": "stderr",
     "output_type": "stream",
     "text": [
      "C:\\Users\\utilisateur\\Documents\\MPSIS\\IPT\\WinPython-64bit-3.6.3.0Qt5\\python-3.6.3.amd64\\lib\\site-packages\\urllib3\\connectionpool.py:852: InsecureRequestWarning: Unverified HTTPS request is being made. Adding certificate verification is strongly advised. See: https://urllib3.readthedocs.io/en/latest/advanced-usage.html#ssl-warnings\n",
      "  InsecureRequestWarning)\n"
     ]
    },
    {
     "name": "stdout",
     "output_type": "stream",
     "text": [
      "https://euw1.api.riotgames.com/lol/league/v4/leagues/815d9fc0-2006-11e9-b945-c81f66dd2a8f?api_key=RGAPI-a8b115a1-d191-4fab-b57c-0a7a5dd665c1\n",
      "45\n"
     ]
    },
    {
     "name": "stderr",
     "output_type": "stream",
     "text": [
      "C:\\Users\\utilisateur\\Documents\\MPSIS\\IPT\\WinPython-64bit-3.6.3.0Qt5\\python-3.6.3.amd64\\lib\\site-packages\\urllib3\\connectionpool.py:852: InsecureRequestWarning: Unverified HTTPS request is being made. Adding certificate verification is strongly advised. See: https://urllib3.readthedocs.io/en/latest/advanced-usage.html#ssl-warnings\n",
      "  InsecureRequestWarning)\n"
     ]
    },
    {
     "name": "stdout",
     "output_type": "stream",
     "text": [
      "https://euw1.api.riotgames.com/lol/league/v4/leagues/d8e0fe70-1fe0-11e9-b919-c81f66dd0e0d?api_key=RGAPI-a8b115a1-d191-4fab-b57c-0a7a5dd665c1\n",
      "46\n"
     ]
    },
    {
     "name": "stderr",
     "output_type": "stream",
     "text": [
      "C:\\Users\\utilisateur\\Documents\\MPSIS\\IPT\\WinPython-64bit-3.6.3.0Qt5\\python-3.6.3.amd64\\lib\\site-packages\\urllib3\\connectionpool.py:852: InsecureRequestWarning: Unverified HTTPS request is being made. Adding certificate verification is strongly advised. See: https://urllib3.readthedocs.io/en/latest/advanced-usage.html#ssl-warnings\n",
      "  InsecureRequestWarning)\n"
     ]
    },
    {
     "name": "stdout",
     "output_type": "stream",
     "text": [
      "https://euw1.api.riotgames.com/lol/league/v4/leagues/df5ce590-45c2-11e9-ae65-c81f66dacb22?api_key=RGAPI-a8b115a1-d191-4fab-b57c-0a7a5dd665c1\n",
      "47\n"
     ]
    },
    {
     "name": "stderr",
     "output_type": "stream",
     "text": [
      "C:\\Users\\utilisateur\\Documents\\MPSIS\\IPT\\WinPython-64bit-3.6.3.0Qt5\\python-3.6.3.amd64\\lib\\site-packages\\urllib3\\connectionpool.py:852: InsecureRequestWarning: Unverified HTTPS request is being made. Adding certificate verification is strongly advised. See: https://urllib3.readthedocs.io/en/latest/advanced-usage.html#ssl-warnings\n",
      "  InsecureRequestWarning)\n"
     ]
    },
    {
     "name": "stdout",
     "output_type": "stream",
     "text": [
      "https://euw1.api.riotgames.com/lol/league/v4/leagues/294ae750-21b6-11e9-9101-c81f66db01ef?api_key=RGAPI-a8b115a1-d191-4fab-b57c-0a7a5dd665c1\n",
      "48\n"
     ]
    },
    {
     "name": "stderr",
     "output_type": "stream",
     "text": [
      "C:\\Users\\utilisateur\\Documents\\MPSIS\\IPT\\WinPython-64bit-3.6.3.0Qt5\\python-3.6.3.amd64\\lib\\site-packages\\urllib3\\connectionpool.py:852: InsecureRequestWarning: Unverified HTTPS request is being made. Adding certificate verification is strongly advised. See: https://urllib3.readthedocs.io/en/latest/advanced-usage.html#ssl-warnings\n",
      "  InsecureRequestWarning)\n"
     ]
    },
    {
     "name": "stdout",
     "output_type": "stream",
     "text": [
      "https://euw1.api.riotgames.com/lol/league/v4/leagues/57cc2b30-1fe9-11e9-a553-c81f66dacb22?api_key=RGAPI-a8b115a1-d191-4fab-b57c-0a7a5dd665c1\n",
      "49\n"
     ]
    },
    {
     "name": "stderr",
     "output_type": "stream",
     "text": [
      "C:\\Users\\utilisateur\\Documents\\MPSIS\\IPT\\WinPython-64bit-3.6.3.0Qt5\\python-3.6.3.amd64\\lib\\site-packages\\urllib3\\connectionpool.py:852: InsecureRequestWarning: Unverified HTTPS request is being made. Adding certificate verification is strongly advised. See: https://urllib3.readthedocs.io/en/latest/advanced-usage.html#ssl-warnings\n",
      "  InsecureRequestWarning)\n"
     ]
    },
    {
     "name": "stdout",
     "output_type": "stream",
     "text": [
      "https://euw1.api.riotgames.com/lol/league/v4/leagues/a38cb300-1fcb-11e9-a30f-c81f66dd0e0d?api_key=RGAPI-a8b115a1-d191-4fab-b57c-0a7a5dd665c1\n",
      "50\n"
     ]
    },
    {
     "name": "stderr",
     "output_type": "stream",
     "text": [
      "C:\\Users\\utilisateur\\Documents\\MPSIS\\IPT\\WinPython-64bit-3.6.3.0Qt5\\python-3.6.3.amd64\\lib\\site-packages\\urllib3\\connectionpool.py:852: InsecureRequestWarning: Unverified HTTPS request is being made. Adding certificate verification is strongly advised. See: https://urllib3.readthedocs.io/en/latest/advanced-usage.html#ssl-warnings\n",
      "  InsecureRequestWarning)\n"
     ]
    },
    {
     "name": "stdout",
     "output_type": "stream",
     "text": [
      "https://euw1.api.riotgames.com/lol/league/v4/leagues/943c01d0-1fd0-11e9-9dcb-c81f66dd0e0d?api_key=RGAPI-a8b115a1-d191-4fab-b57c-0a7a5dd665c1\n",
      "51\n"
     ]
    },
    {
     "name": "stderr",
     "output_type": "stream",
     "text": [
      "C:\\Users\\utilisateur\\Documents\\MPSIS\\IPT\\WinPython-64bit-3.6.3.0Qt5\\python-3.6.3.amd64\\lib\\site-packages\\urllib3\\connectionpool.py:852: InsecureRequestWarning: Unverified HTTPS request is being made. Adding certificate verification is strongly advised. See: https://urllib3.readthedocs.io/en/latest/advanced-usage.html#ssl-warnings\n",
      "  InsecureRequestWarning)\n"
     ]
    },
    {
     "name": "stdout",
     "output_type": "stream",
     "text": [
      "https://euw1.api.riotgames.com/lol/league/v4/leagues/f32baae0-2018-11e9-a441-c81f66db01ef?api_key=RGAPI-a8b115a1-d191-4fab-b57c-0a7a5dd665c1\n",
      "52\n"
     ]
    },
    {
     "name": "stderr",
     "output_type": "stream",
     "text": [
      "C:\\Users\\utilisateur\\Documents\\MPSIS\\IPT\\WinPython-64bit-3.6.3.0Qt5\\python-3.6.3.amd64\\lib\\site-packages\\urllib3\\connectionpool.py:852: InsecureRequestWarning: Unverified HTTPS request is being made. Adding certificate verification is strongly advised. See: https://urllib3.readthedocs.io/en/latest/advanced-usage.html#ssl-warnings\n",
      "  InsecureRequestWarning)\n"
     ]
    },
    {
     "name": "stdout",
     "output_type": "stream",
     "text": [
      "https://euw1.api.riotgames.com/lol/league/v4/leagues/a1c91b20-1ff9-11e9-8c6b-c81f66db01ef?api_key=RGAPI-a8b115a1-d191-4fab-b57c-0a7a5dd665c1\n",
      "53\n"
     ]
    },
    {
     "name": "stderr",
     "output_type": "stream",
     "text": [
      "C:\\Users\\utilisateur\\Documents\\MPSIS\\IPT\\WinPython-64bit-3.6.3.0Qt5\\python-3.6.3.amd64\\lib\\site-packages\\urllib3\\connectionpool.py:852: InsecureRequestWarning: Unverified HTTPS request is being made. Adding certificate verification is strongly advised. See: https://urllib3.readthedocs.io/en/latest/advanced-usage.html#ssl-warnings\n",
      "  InsecureRequestWarning)\n"
     ]
    },
    {
     "name": "stdout",
     "output_type": "stream",
     "text": [
      "https://euw1.api.riotgames.com/lol/league/v4/leagues/be0663b0-1fcc-11e9-9adc-c81f66dacb22?api_key=RGAPI-a8b115a1-d191-4fab-b57c-0a7a5dd665c1\n",
      "54\n"
     ]
    },
    {
     "name": "stderr",
     "output_type": "stream",
     "text": [
      "C:\\Users\\utilisateur\\Documents\\MPSIS\\IPT\\WinPython-64bit-3.6.3.0Qt5\\python-3.6.3.amd64\\lib\\site-packages\\urllib3\\connectionpool.py:852: InsecureRequestWarning: Unverified HTTPS request is being made. Adding certificate verification is strongly advised. See: https://urllib3.readthedocs.io/en/latest/advanced-usage.html#ssl-warnings\n",
      "  InsecureRequestWarning)\n"
     ]
    },
    {
     "name": "stdout",
     "output_type": "stream",
     "text": [
      "https://euw1.api.riotgames.com/lol/league/v4/leagues/81ae8c80-2404-11e9-a977-c81f66dd2a8f?api_key=RGAPI-a8b115a1-d191-4fab-b57c-0a7a5dd665c1\n",
      "55\n"
     ]
    },
    {
     "name": "stderr",
     "output_type": "stream",
     "text": [
      "C:\\Users\\utilisateur\\Documents\\MPSIS\\IPT\\WinPython-64bit-3.6.3.0Qt5\\python-3.6.3.amd64\\lib\\site-packages\\urllib3\\connectionpool.py:852: InsecureRequestWarning: Unverified HTTPS request is being made. Adding certificate verification is strongly advised. See: https://urllib3.readthedocs.io/en/latest/advanced-usage.html#ssl-warnings\n",
      "  InsecureRequestWarning)\n"
     ]
    },
    {
     "name": "stdout",
     "output_type": "stream",
     "text": [
      "https://euw1.api.riotgames.com/lol/league/v4/leagues/3bd4d200-2026-11e9-a553-c81f66dacb22?api_key=RGAPI-a8b115a1-d191-4fab-b57c-0a7a5dd665c1\n",
      "56\n"
     ]
    },
    {
     "name": "stderr",
     "output_type": "stream",
     "text": [
      "C:\\Users\\utilisateur\\Documents\\MPSIS\\IPT\\WinPython-64bit-3.6.3.0Qt5\\python-3.6.3.amd64\\lib\\site-packages\\urllib3\\connectionpool.py:852: InsecureRequestWarning: Unverified HTTPS request is being made. Adding certificate verification is strongly advised. See: https://urllib3.readthedocs.io/en/latest/advanced-usage.html#ssl-warnings\n",
      "  InsecureRequestWarning)\n"
     ]
    },
    {
     "name": "stdout",
     "output_type": "stream",
     "text": [
      "https://euw1.api.riotgames.com/lol/league/v4/leagues/99748370-2016-11e9-b945-c81f66dd2a8f?api_key=RGAPI-a8b115a1-d191-4fab-b57c-0a7a5dd665c1\n",
      "57\n"
     ]
    },
    {
     "name": "stderr",
     "output_type": "stream",
     "text": [
      "C:\\Users\\utilisateur\\Documents\\MPSIS\\IPT\\WinPython-64bit-3.6.3.0Qt5\\python-3.6.3.amd64\\lib\\site-packages\\urllib3\\connectionpool.py:852: InsecureRequestWarning: Unverified HTTPS request is being made. Adding certificate verification is strongly advised. See: https://urllib3.readthedocs.io/en/latest/advanced-usage.html#ssl-warnings\n",
      "  InsecureRequestWarning)\n"
     ]
    },
    {
     "name": "stdout",
     "output_type": "stream",
     "text": [
      "https://euw1.api.riotgames.com/lol/league/v4/leagues/bfc86af0-200c-11e9-9b9b-c81f66db01ef?api_key=RGAPI-a8b115a1-d191-4fab-b57c-0a7a5dd665c1\n",
      "58\n"
     ]
    },
    {
     "name": "stderr",
     "output_type": "stream",
     "text": [
      "C:\\Users\\utilisateur\\Documents\\MPSIS\\IPT\\WinPython-64bit-3.6.3.0Qt5\\python-3.6.3.amd64\\lib\\site-packages\\urllib3\\connectionpool.py:852: InsecureRequestWarning: Unverified HTTPS request is being made. Adding certificate verification is strongly advised. See: https://urllib3.readthedocs.io/en/latest/advanced-usage.html#ssl-warnings\n",
      "  InsecureRequestWarning)\n"
     ]
    },
    {
     "name": "stdout",
     "output_type": "stream",
     "text": [
      "https://euw1.api.riotgames.com/lol/league/v4/leagues/72b827e0-1ff9-11e9-a553-c81f66dacb22?api_key=RGAPI-a8b115a1-d191-4fab-b57c-0a7a5dd665c1\n",
      "59\n"
     ]
    },
    {
     "name": "stderr",
     "output_type": "stream",
     "text": [
      "C:\\Users\\utilisateur\\Documents\\MPSIS\\IPT\\WinPython-64bit-3.6.3.0Qt5\\python-3.6.3.amd64\\lib\\site-packages\\urllib3\\connectionpool.py:852: InsecureRequestWarning: Unverified HTTPS request is being made. Adding certificate verification is strongly advised. See: https://urllib3.readthedocs.io/en/latest/advanced-usage.html#ssl-warnings\n",
      "  InsecureRequestWarning)\n"
     ]
    },
    {
     "name": "stdout",
     "output_type": "stream",
     "text": [
      "https://euw1.api.riotgames.com/lol/league/v4/leagues/87a344e0-1ffa-11e9-9dcb-c81f66dd0e0d?api_key=RGAPI-a8b115a1-d191-4fab-b57c-0a7a5dd665c1\n",
      "60\n"
     ]
    },
    {
     "name": "stderr",
     "output_type": "stream",
     "text": [
      "C:\\Users\\utilisateur\\Documents\\MPSIS\\IPT\\WinPython-64bit-3.6.3.0Qt5\\python-3.6.3.amd64\\lib\\site-packages\\urllib3\\connectionpool.py:852: InsecureRequestWarning: Unverified HTTPS request is being made. Adding certificate verification is strongly advised. See: https://urllib3.readthedocs.io/en/latest/advanced-usage.html#ssl-warnings\n",
      "  InsecureRequestWarning)\n"
     ]
    },
    {
     "name": "stdout",
     "output_type": "stream",
     "text": [
      "https://euw1.api.riotgames.com/lol/league/v4/leagues/e572f670-202b-11e9-99ab-c81f66dd2a8f?api_key=RGAPI-a8b115a1-d191-4fab-b57c-0a7a5dd665c1\n",
      "61\n"
     ]
    },
    {
     "name": "stderr",
     "output_type": "stream",
     "text": [
      "C:\\Users\\utilisateur\\Documents\\MPSIS\\IPT\\WinPython-64bit-3.6.3.0Qt5\\python-3.6.3.amd64\\lib\\site-packages\\urllib3\\connectionpool.py:852: InsecureRequestWarning: Unverified HTTPS request is being made. Adding certificate verification is strongly advised. See: https://urllib3.readthedocs.io/en/latest/advanced-usage.html#ssl-warnings\n",
      "  InsecureRequestWarning)\n"
     ]
    },
    {
     "name": "stdout",
     "output_type": "stream",
     "text": [
      "https://euw1.api.riotgames.com/lol/league/v4/leagues/f8b71c00-1ff1-11e9-b945-c81f66dd2a8f?api_key=RGAPI-a8b115a1-d191-4fab-b57c-0a7a5dd665c1\n",
      "62\n"
     ]
    },
    {
     "name": "stderr",
     "output_type": "stream",
     "text": [
      "C:\\Users\\utilisateur\\Documents\\MPSIS\\IPT\\WinPython-64bit-3.6.3.0Qt5\\python-3.6.3.amd64\\lib\\site-packages\\urllib3\\connectionpool.py:852: InsecureRequestWarning: Unverified HTTPS request is being made. Adding certificate verification is strongly advised. See: https://urllib3.readthedocs.io/en/latest/advanced-usage.html#ssl-warnings\n",
      "  InsecureRequestWarning)\n"
     ]
    },
    {
     "name": "stdout",
     "output_type": "stream",
     "text": [
      "https://euw1.api.riotgames.com/lol/league/v4/leagues/4f6e7680-202c-11e9-a553-c81f66dacb22?api_key=RGAPI-a8b115a1-d191-4fab-b57c-0a7a5dd665c1\n",
      "63\n"
     ]
    },
    {
     "name": "stderr",
     "output_type": "stream",
     "text": [
      "C:\\Users\\utilisateur\\Documents\\MPSIS\\IPT\\WinPython-64bit-3.6.3.0Qt5\\python-3.6.3.amd64\\lib\\site-packages\\urllib3\\connectionpool.py:852: InsecureRequestWarning: Unverified HTTPS request is being made. Adding certificate verification is strongly advised. See: https://urllib3.readthedocs.io/en/latest/advanced-usage.html#ssl-warnings\n",
      "  InsecureRequestWarning)\n"
     ]
    },
    {
     "name": "stdout",
     "output_type": "stream",
     "text": [
      "https://euw1.api.riotgames.com/lol/league/v4/leagues/b7dc1fe0-2006-11e9-b001-c81f66dacb22?api_key=RGAPI-a8b115a1-d191-4fab-b57c-0a7a5dd665c1\n",
      "64\n"
     ]
    },
    {
     "name": "stderr",
     "output_type": "stream",
     "text": [
      "C:\\Users\\utilisateur\\Documents\\MPSIS\\IPT\\WinPython-64bit-3.6.3.0Qt5\\python-3.6.3.amd64\\lib\\site-packages\\urllib3\\connectionpool.py:852: InsecureRequestWarning: Unverified HTTPS request is being made. Adding certificate verification is strongly advised. See: https://urllib3.readthedocs.io/en/latest/advanced-usage.html#ssl-warnings\n",
      "  InsecureRequestWarning)\n"
     ]
    },
    {
     "name": "stdout",
     "output_type": "stream",
     "text": [
      "https://euw1.api.riotgames.com/lol/league/v4/leagues/e190f000-1fd8-11e9-9dcb-c81f66dd0e0d?api_key=RGAPI-a8b115a1-d191-4fab-b57c-0a7a5dd665c1\n",
      "65\n"
     ]
    },
    {
     "name": "stderr",
     "output_type": "stream",
     "text": [
      "C:\\Users\\utilisateur\\Documents\\MPSIS\\IPT\\WinPython-64bit-3.6.3.0Qt5\\python-3.6.3.amd64\\lib\\site-packages\\urllib3\\connectionpool.py:852: InsecureRequestWarning: Unverified HTTPS request is being made. Adding certificate verification is strongly advised. See: https://urllib3.readthedocs.io/en/latest/advanced-usage.html#ssl-warnings\n",
      "  InsecureRequestWarning)\n"
     ]
    },
    {
     "name": "stdout",
     "output_type": "stream",
     "text": [
      "https://euw1.api.riotgames.com/lol/league/v4/leagues/bfc86af0-200c-11e9-9b9b-c81f66db01ef?api_key=RGAPI-a8b115a1-d191-4fab-b57c-0a7a5dd665c1\n",
      "66\n"
     ]
    },
    {
     "name": "stderr",
     "output_type": "stream",
     "text": [
      "C:\\Users\\utilisateur\\Documents\\MPSIS\\IPT\\WinPython-64bit-3.6.3.0Qt5\\python-3.6.3.amd64\\lib\\site-packages\\urllib3\\connectionpool.py:852: InsecureRequestWarning: Unverified HTTPS request is being made. Adding certificate verification is strongly advised. See: https://urllib3.readthedocs.io/en/latest/advanced-usage.html#ssl-warnings\n",
      "  InsecureRequestWarning)\n"
     ]
    },
    {
     "name": "stdout",
     "output_type": "stream",
     "text": [
      "https://euw1.api.riotgames.com/lol/league/v4/leagues/f5c16c30-1fb0-11e9-b001-c81f66dacb22?api_key=RGAPI-a8b115a1-d191-4fab-b57c-0a7a5dd665c1\n",
      "67\n"
     ]
    },
    {
     "name": "stderr",
     "output_type": "stream",
     "text": [
      "C:\\Users\\utilisateur\\Documents\\MPSIS\\IPT\\WinPython-64bit-3.6.3.0Qt5\\python-3.6.3.amd64\\lib\\site-packages\\urllib3\\connectionpool.py:852: InsecureRequestWarning: Unverified HTTPS request is being made. Adding certificate verification is strongly advised. See: https://urllib3.readthedocs.io/en/latest/advanced-usage.html#ssl-warnings\n",
      "  InsecureRequestWarning)\n"
     ]
    },
    {
     "name": "stdout",
     "output_type": "stream",
     "text": [
      "https://euw1.api.riotgames.com/lol/league/v4/leagues/5a49b960-2d52-11e9-8e56-c81f66dd0e0d?api_key=RGAPI-a8b115a1-d191-4fab-b57c-0a7a5dd665c1\n",
      "68\n"
     ]
    },
    {
     "name": "stderr",
     "output_type": "stream",
     "text": [
      "C:\\Users\\utilisateur\\Documents\\MPSIS\\IPT\\WinPython-64bit-3.6.3.0Qt5\\python-3.6.3.amd64\\lib\\site-packages\\urllib3\\connectionpool.py:852: InsecureRequestWarning: Unverified HTTPS request is being made. Adding certificate verification is strongly advised. See: https://urllib3.readthedocs.io/en/latest/advanced-usage.html#ssl-warnings\n",
      "  InsecureRequestWarning)\n"
     ]
    },
    {
     "name": "stdout",
     "output_type": "stream",
     "text": [
      "https://euw1.api.riotgames.com/lol/league/v4/leagues/b263e1e0-1fdb-11e9-a30f-c81f66dd0e0d?api_key=RGAPI-a8b115a1-d191-4fab-b57c-0a7a5dd665c1\n",
      "69\n"
     ]
    },
    {
     "name": "stderr",
     "output_type": "stream",
     "text": [
      "C:\\Users\\utilisateur\\Documents\\MPSIS\\IPT\\WinPython-64bit-3.6.3.0Qt5\\python-3.6.3.amd64\\lib\\site-packages\\urllib3\\connectionpool.py:852: InsecureRequestWarning: Unverified HTTPS request is being made. Adding certificate verification is strongly advised. See: https://urllib3.readthedocs.io/en/latest/advanced-usage.html#ssl-warnings\n",
      "  InsecureRequestWarning)\n"
     ]
    },
    {
     "name": "stdout",
     "output_type": "stream",
     "text": [
      "https://euw1.api.riotgames.com/lol/league/v4/leagues/39958cd0-1fd8-11e9-b001-c81f66dacb22?api_key=RGAPI-a8b115a1-d191-4fab-b57c-0a7a5dd665c1\n",
      "70\n"
     ]
    },
    {
     "name": "stderr",
     "output_type": "stream",
     "text": [
      "C:\\Users\\utilisateur\\Documents\\MPSIS\\IPT\\WinPython-64bit-3.6.3.0Qt5\\python-3.6.3.amd64\\lib\\site-packages\\urllib3\\connectionpool.py:852: InsecureRequestWarning: Unverified HTTPS request is being made. Adding certificate verification is strongly advised. See: https://urllib3.readthedocs.io/en/latest/advanced-usage.html#ssl-warnings\n",
      "  InsecureRequestWarning)\n"
     ]
    },
    {
     "name": "stdout",
     "output_type": "stream",
     "text": [
      "https://euw1.api.riotgames.com/lol/league/v4/leagues/bef0bcb0-2019-11e9-bcbc-c81f66dd2a8f?api_key=RGAPI-a8b115a1-d191-4fab-b57c-0a7a5dd665c1\n",
      "71\n"
     ]
    },
    {
     "name": "stderr",
     "output_type": "stream",
     "text": [
      "C:\\Users\\utilisateur\\Documents\\MPSIS\\IPT\\WinPython-64bit-3.6.3.0Qt5\\python-3.6.3.amd64\\lib\\site-packages\\urllib3\\connectionpool.py:852: InsecureRequestWarning: Unverified HTTPS request is being made. Adding certificate verification is strongly advised. See: https://urllib3.readthedocs.io/en/latest/advanced-usage.html#ssl-warnings\n",
      "  InsecureRequestWarning)\n"
     ]
    },
    {
     "name": "stdout",
     "output_type": "stream",
     "text": [
      "https://euw1.api.riotgames.com/lol/league/v4/leagues/36048790-1fbc-11e9-9b9b-c81f66db01ef?api_key=RGAPI-a8b115a1-d191-4fab-b57c-0a7a5dd665c1\n",
      "72\n"
     ]
    },
    {
     "name": "stderr",
     "output_type": "stream",
     "text": [
      "C:\\Users\\utilisateur\\Documents\\MPSIS\\IPT\\WinPython-64bit-3.6.3.0Qt5\\python-3.6.3.amd64\\lib\\site-packages\\urllib3\\connectionpool.py:852: InsecureRequestWarning: Unverified HTTPS request is being made. Adding certificate verification is strongly advised. See: https://urllib3.readthedocs.io/en/latest/advanced-usage.html#ssl-warnings\n",
      "  InsecureRequestWarning)\n"
     ]
    },
    {
     "name": "stdout",
     "output_type": "stream",
     "text": [
      "https://euw1.api.riotgames.com/lol/league/v4/leagues/72b827e0-1ff9-11e9-a553-c81f66dacb22?api_key=RGAPI-a8b115a1-d191-4fab-b57c-0a7a5dd665c1\n",
      "73\n"
     ]
    },
    {
     "name": "stderr",
     "output_type": "stream",
     "text": [
      "C:\\Users\\utilisateur\\Documents\\MPSIS\\IPT\\WinPython-64bit-3.6.3.0Qt5\\python-3.6.3.amd64\\lib\\site-packages\\urllib3\\connectionpool.py:852: InsecureRequestWarning: Unverified HTTPS request is being made. Adding certificate verification is strongly advised. See: https://urllib3.readthedocs.io/en/latest/advanced-usage.html#ssl-warnings\n",
      "  InsecureRequestWarning)\n"
     ]
    },
    {
     "name": "stdout",
     "output_type": "stream",
     "text": [
      "https://euw1.api.riotgames.com/lol/league/v4/leagues/ba2fe3d0-201a-11e9-9adc-c81f66dacb22?api_key=RGAPI-a8b115a1-d191-4fab-b57c-0a7a5dd665c1\n",
      "74\n"
     ]
    },
    {
     "name": "stderr",
     "output_type": "stream",
     "text": [
      "C:\\Users\\utilisateur\\Documents\\MPSIS\\IPT\\WinPython-64bit-3.6.3.0Qt5\\python-3.6.3.amd64\\lib\\site-packages\\urllib3\\connectionpool.py:852: InsecureRequestWarning: Unverified HTTPS request is being made. Adding certificate verification is strongly advised. See: https://urllib3.readthedocs.io/en/latest/advanced-usage.html#ssl-warnings\n",
      "  InsecureRequestWarning)\n"
     ]
    },
    {
     "name": "stdout",
     "output_type": "stream",
     "text": [
      "https://euw1.api.riotgames.com/lol/league/v4/leagues/89361650-221d-11e9-bc51-c81f66dd2a8f?api_key=RGAPI-a8b115a1-d191-4fab-b57c-0a7a5dd665c1\n",
      "75\n"
     ]
    },
    {
     "name": "stderr",
     "output_type": "stream",
     "text": [
      "C:\\Users\\utilisateur\\Documents\\MPSIS\\IPT\\WinPython-64bit-3.6.3.0Qt5\\python-3.6.3.amd64\\lib\\site-packages\\urllib3\\connectionpool.py:852: InsecureRequestWarning: Unverified HTTPS request is being made. Adding certificate verification is strongly advised. See: https://urllib3.readthedocs.io/en/latest/advanced-usage.html#ssl-warnings\n",
      "  InsecureRequestWarning)\n"
     ]
    },
    {
     "name": "stdout",
     "output_type": "stream",
     "text": [
      "https://euw1.api.riotgames.com/lol/league/v4/leagues/9d42cc40-2305-11e9-8b03-c81f66dd0e0d?api_key=RGAPI-a8b115a1-d191-4fab-b57c-0a7a5dd665c1\n",
      "76\n"
     ]
    },
    {
     "name": "stderr",
     "output_type": "stream",
     "text": [
      "C:\\Users\\utilisateur\\Documents\\MPSIS\\IPT\\WinPython-64bit-3.6.3.0Qt5\\python-3.6.3.amd64\\lib\\site-packages\\urllib3\\connectionpool.py:852: InsecureRequestWarning: Unverified HTTPS request is being made. Adding certificate verification is strongly advised. See: https://urllib3.readthedocs.io/en/latest/advanced-usage.html#ssl-warnings\n",
      "  InsecureRequestWarning)\n"
     ]
    },
    {
     "name": "stdout",
     "output_type": "stream",
     "text": [
      "https://euw1.api.riotgames.com/lol/league/v4/leagues/2a262aa0-208e-11e9-863d-c81f66dacb22?api_key=RGAPI-a8b115a1-d191-4fab-b57c-0a7a5dd665c1\n",
      "77\n"
     ]
    },
    {
     "name": "stderr",
     "output_type": "stream",
     "text": [
      "C:\\Users\\utilisateur\\Documents\\MPSIS\\IPT\\WinPython-64bit-3.6.3.0Qt5\\python-3.6.3.amd64\\lib\\site-packages\\urllib3\\connectionpool.py:852: InsecureRequestWarning: Unverified HTTPS request is being made. Adding certificate verification is strongly advised. See: https://urllib3.readthedocs.io/en/latest/advanced-usage.html#ssl-warnings\n",
      "  InsecureRequestWarning)\n"
     ]
    },
    {
     "name": "stdout",
     "output_type": "stream",
     "text": [
      "https://euw1.api.riotgames.com/lol/league/v4/leagues/cdf87580-21aa-11e9-9d00-c81f66dacb22?api_key=RGAPI-a8b115a1-d191-4fab-b57c-0a7a5dd665c1\n",
      "78\n"
     ]
    },
    {
     "name": "stderr",
     "output_type": "stream",
     "text": [
      "C:\\Users\\utilisateur\\Documents\\MPSIS\\IPT\\WinPython-64bit-3.6.3.0Qt5\\python-3.6.3.amd64\\lib\\site-packages\\urllib3\\connectionpool.py:852: InsecureRequestWarning: Unverified HTTPS request is being made. Adding certificate verification is strongly advised. See: https://urllib3.readthedocs.io/en/latest/advanced-usage.html#ssl-warnings\n",
      "  InsecureRequestWarning)\n"
     ]
    },
    {
     "name": "stdout",
     "output_type": "stream",
     "text": [
      "https://euw1.api.riotgames.com/lol/league/v4/leagues/f3637e20-20a4-11e9-b350-c81f66dd2a8f?api_key=RGAPI-a8b115a1-d191-4fab-b57c-0a7a5dd665c1\n",
      "79\n"
     ]
    },
    {
     "name": "stderr",
     "output_type": "stream",
     "text": [
      "C:\\Users\\utilisateur\\Documents\\MPSIS\\IPT\\WinPython-64bit-3.6.3.0Qt5\\python-3.6.3.amd64\\lib\\site-packages\\urllib3\\connectionpool.py:852: InsecureRequestWarning: Unverified HTTPS request is being made. Adding certificate verification is strongly advised. See: https://urllib3.readthedocs.io/en/latest/advanced-usage.html#ssl-warnings\n",
      "  InsecureRequestWarning)\n"
     ]
    },
    {
     "name": "stdout",
     "output_type": "stream",
     "text": [
      "https://euw1.api.riotgames.com/lol/league/v4/leagues/5fe16af0-2003-11e9-9b9b-c81f66db01ef?api_key=RGAPI-a8b115a1-d191-4fab-b57c-0a7a5dd665c1\n",
      "80\n"
     ]
    },
    {
     "name": "stderr",
     "output_type": "stream",
     "text": [
      "C:\\Users\\utilisateur\\Documents\\MPSIS\\IPT\\WinPython-64bit-3.6.3.0Qt5\\python-3.6.3.amd64\\lib\\site-packages\\urllib3\\connectionpool.py:852: InsecureRequestWarning: Unverified HTTPS request is being made. Adding certificate verification is strongly advised. See: https://urllib3.readthedocs.io/en/latest/advanced-usage.html#ssl-warnings\n",
      "  InsecureRequestWarning)\n"
     ]
    },
    {
     "name": "stdout",
     "output_type": "stream",
     "text": [
      "https://euw1.api.riotgames.com/lol/league/v4/leagues/53750f70-1fd0-11e9-9adc-c81f66dacb22?api_key=RGAPI-a8b115a1-d191-4fab-b57c-0a7a5dd665c1\n",
      "81\n"
     ]
    },
    {
     "name": "stderr",
     "output_type": "stream",
     "text": [
      "C:\\Users\\utilisateur\\Documents\\MPSIS\\IPT\\WinPython-64bit-3.6.3.0Qt5\\python-3.6.3.amd64\\lib\\site-packages\\urllib3\\connectionpool.py:852: InsecureRequestWarning: Unverified HTTPS request is being made. Adding certificate verification is strongly advised. See: https://urllib3.readthedocs.io/en/latest/advanced-usage.html#ssl-warnings\n",
      "  InsecureRequestWarning)\n"
     ]
    },
    {
     "name": "stdout",
     "output_type": "stream",
     "text": [
      "https://euw1.api.riotgames.com/lol/league/v4/leagues/4e73c070-1ff8-11e9-b001-c81f66dacb22?api_key=RGAPI-a8b115a1-d191-4fab-b57c-0a7a5dd665c1\n",
      "82\n"
     ]
    },
    {
     "name": "stderr",
     "output_type": "stream",
     "text": [
      "C:\\Users\\utilisateur\\Documents\\MPSIS\\IPT\\WinPython-64bit-3.6.3.0Qt5\\python-3.6.3.amd64\\lib\\site-packages\\urllib3\\connectionpool.py:852: InsecureRequestWarning: Unverified HTTPS request is being made. Adding certificate verification is strongly advised. See: https://urllib3.readthedocs.io/en/latest/advanced-usage.html#ssl-warnings\n",
      "  InsecureRequestWarning)\n"
     ]
    },
    {
     "name": "stdout",
     "output_type": "stream",
     "text": [
      "https://euw1.api.riotgames.com/lol/league/v4/leagues/0bd4daf0-2283-11e9-b16a-c81f66dd2a8f?api_key=RGAPI-a8b115a1-d191-4fab-b57c-0a7a5dd665c1\n",
      "83\n"
     ]
    },
    {
     "name": "stderr",
     "output_type": "stream",
     "text": [
      "C:\\Users\\utilisateur\\Documents\\MPSIS\\IPT\\WinPython-64bit-3.6.3.0Qt5\\python-3.6.3.amd64\\lib\\site-packages\\urllib3\\connectionpool.py:852: InsecureRequestWarning: Unverified HTTPS request is being made. Adding certificate verification is strongly advised. See: https://urllib3.readthedocs.io/en/latest/advanced-usage.html#ssl-warnings\n",
      "  InsecureRequestWarning)\n"
     ]
    },
    {
     "name": "stdout",
     "output_type": "stream",
     "text": [
      "https://euw1.api.riotgames.com/lol/league/v4/leagues/92e7d3c0-1fe1-11e9-8c6b-c81f66db01ef?api_key=RGAPI-a8b115a1-d191-4fab-b57c-0a7a5dd665c1\n",
      "84\n"
     ]
    },
    {
     "name": "stderr",
     "output_type": "stream",
     "text": [
      "C:\\Users\\utilisateur\\Documents\\MPSIS\\IPT\\WinPython-64bit-3.6.3.0Qt5\\python-3.6.3.amd64\\lib\\site-packages\\urllib3\\connectionpool.py:852: InsecureRequestWarning: Unverified HTTPS request is being made. Adding certificate verification is strongly advised. See: https://urllib3.readthedocs.io/en/latest/advanced-usage.html#ssl-warnings\n",
      "  InsecureRequestWarning)\n"
     ]
    },
    {
     "name": "stdout",
     "output_type": "stream",
     "text": [
      "https://euw1.api.riotgames.com/lol/league/v4/leagues/b2f26570-200b-11e9-b001-c81f66dacb22?api_key=RGAPI-a8b115a1-d191-4fab-b57c-0a7a5dd665c1\n",
      "85\n"
     ]
    },
    {
     "name": "stderr",
     "output_type": "stream",
     "text": [
      "C:\\Users\\utilisateur\\Documents\\MPSIS\\IPT\\WinPython-64bit-3.6.3.0Qt5\\python-3.6.3.amd64\\lib\\site-packages\\urllib3\\connectionpool.py:852: InsecureRequestWarning: Unverified HTTPS request is being made. Adding certificate verification is strongly advised. See: https://urllib3.readthedocs.io/en/latest/advanced-usage.html#ssl-warnings\n",
      "  InsecureRequestWarning)\n"
     ]
    },
    {
     "name": "stdout",
     "output_type": "stream",
     "text": [
      "https://euw1.api.riotgames.com/lol/league/v4/leagues/0764e400-1fcd-11e9-a553-c81f66dacb22?api_key=RGAPI-a8b115a1-d191-4fab-b57c-0a7a5dd665c1\n",
      "86\n"
     ]
    },
    {
     "name": "stderr",
     "output_type": "stream",
     "text": [
      "C:\\Users\\utilisateur\\Documents\\MPSIS\\IPT\\WinPython-64bit-3.6.3.0Qt5\\python-3.6.3.amd64\\lib\\site-packages\\urllib3\\connectionpool.py:852: InsecureRequestWarning: Unverified HTTPS request is being made. Adding certificate verification is strongly advised. See: https://urllib3.readthedocs.io/en/latest/advanced-usage.html#ssl-warnings\n",
      "  InsecureRequestWarning)\n"
     ]
    },
    {
     "name": "stdout",
     "output_type": "stream",
     "text": [
      "https://euw1.api.riotgames.com/lol/league/v4/leagues/c3868370-21c4-11e9-af82-c81f66dacb22?api_key=RGAPI-a8b115a1-d191-4fab-b57c-0a7a5dd665c1\n",
      "87\n"
     ]
    },
    {
     "name": "stderr",
     "output_type": "stream",
     "text": [
      "C:\\Users\\utilisateur\\Documents\\MPSIS\\IPT\\WinPython-64bit-3.6.3.0Qt5\\python-3.6.3.amd64\\lib\\site-packages\\urllib3\\connectionpool.py:852: InsecureRequestWarning: Unverified HTTPS request is being made. Adding certificate verification is strongly advised. See: https://urllib3.readthedocs.io/en/latest/advanced-usage.html#ssl-warnings\n",
      "  InsecureRequestWarning)\n"
     ]
    },
    {
     "name": "stdout",
     "output_type": "stream",
     "text": [
      "https://euw1.api.riotgames.com/lol/league/v4/leagues/e6b58800-1fbc-11e9-8c6b-c81f66db01ef?api_key=RGAPI-a8b115a1-d191-4fab-b57c-0a7a5dd665c1\n",
      "88\n"
     ]
    },
    {
     "name": "stderr",
     "output_type": "stream",
     "text": [
      "C:\\Users\\utilisateur\\Documents\\MPSIS\\IPT\\WinPython-64bit-3.6.3.0Qt5\\python-3.6.3.amd64\\lib\\site-packages\\urllib3\\connectionpool.py:852: InsecureRequestWarning: Unverified HTTPS request is being made. Adding certificate verification is strongly advised. See: https://urllib3.readthedocs.io/en/latest/advanced-usage.html#ssl-warnings\n",
      "  InsecureRequestWarning)\n"
     ]
    },
    {
     "name": "stdout",
     "output_type": "stream",
     "text": [
      "https://euw1.api.riotgames.com/lol/league/v4/leagues/307d44e0-1fd2-11e9-bcbc-c81f66dd2a8f?api_key=RGAPI-a8b115a1-d191-4fab-b57c-0a7a5dd665c1\n",
      "89\n"
     ]
    },
    {
     "name": "stderr",
     "output_type": "stream",
     "text": [
      "C:\\Users\\utilisateur\\Documents\\MPSIS\\IPT\\WinPython-64bit-3.6.3.0Qt5\\python-3.6.3.amd64\\lib\\site-packages\\urllib3\\connectionpool.py:852: InsecureRequestWarning: Unverified HTTPS request is being made. Adding certificate verification is strongly advised. See: https://urllib3.readthedocs.io/en/latest/advanced-usage.html#ssl-warnings\n",
      "  InsecureRequestWarning)\n"
     ]
    },
    {
     "name": "stdout",
     "output_type": "stream",
     "text": [
      "https://euw1.api.riotgames.com/lol/league/v4/leagues/11bbc010-1fcb-11e9-9adc-c81f66dacb22?api_key=RGAPI-a8b115a1-d191-4fab-b57c-0a7a5dd665c1\n",
      "90\n"
     ]
    },
    {
     "name": "stderr",
     "output_type": "stream",
     "text": [
      "C:\\Users\\utilisateur\\Documents\\MPSIS\\IPT\\WinPython-64bit-3.6.3.0Qt5\\python-3.6.3.amd64\\lib\\site-packages\\urllib3\\connectionpool.py:852: InsecureRequestWarning: Unverified HTTPS request is being made. Adding certificate verification is strongly advised. See: https://urllib3.readthedocs.io/en/latest/advanced-usage.html#ssl-warnings\n",
      "  InsecureRequestWarning)\n"
     ]
    },
    {
     "name": "stdout",
     "output_type": "stream",
     "text": [
      "https://euw1.api.riotgames.com/lol/league/v4/leagues/3641fca0-21a7-11e9-8b03-c81f66dd0e0d?api_key=RGAPI-a8b115a1-d191-4fab-b57c-0a7a5dd665c1\n",
      "91\n"
     ]
    },
    {
     "name": "stderr",
     "output_type": "stream",
     "text": [
      "C:\\Users\\utilisateur\\Documents\\MPSIS\\IPT\\WinPython-64bit-3.6.3.0Qt5\\python-3.6.3.amd64\\lib\\site-packages\\urllib3\\connectionpool.py:852: InsecureRequestWarning: Unverified HTTPS request is being made. Adding certificate verification is strongly advised. See: https://urllib3.readthedocs.io/en/latest/advanced-usage.html#ssl-warnings\n",
      "  InsecureRequestWarning)\n"
     ]
    },
    {
     "name": "stdout",
     "output_type": "stream",
     "text": [
      "https://euw1.api.riotgames.com/lol/league/v4/leagues/8364de70-2027-11e9-9e7e-c81f66dacb22?api_key=RGAPI-a8b115a1-d191-4fab-b57c-0a7a5dd665c1\n",
      "92\n"
     ]
    },
    {
     "name": "stderr",
     "output_type": "stream",
     "text": [
      "C:\\Users\\utilisateur\\Documents\\MPSIS\\IPT\\WinPython-64bit-3.6.3.0Qt5\\python-3.6.3.amd64\\lib\\site-packages\\urllib3\\connectionpool.py:852: InsecureRequestWarning: Unverified HTTPS request is being made. Adding certificate verification is strongly advised. See: https://urllib3.readthedocs.io/en/latest/advanced-usage.html#ssl-warnings\n",
      "  InsecureRequestWarning)\n"
     ]
    },
    {
     "name": "stdout",
     "output_type": "stream",
     "text": [
      "https://euw1.api.riotgames.com/lol/league/v4/leagues/cd9d2b20-1fb2-11e9-b001-c81f66dacb22?api_key=RGAPI-a8b115a1-d191-4fab-b57c-0a7a5dd665c1\n",
      "93\n"
     ]
    },
    {
     "name": "stderr",
     "output_type": "stream",
     "text": [
      "C:\\Users\\utilisateur\\Documents\\MPSIS\\IPT\\WinPython-64bit-3.6.3.0Qt5\\python-3.6.3.amd64\\lib\\site-packages\\urllib3\\connectionpool.py:852: InsecureRequestWarning: Unverified HTTPS request is being made. Adding certificate verification is strongly advised. See: https://urllib3.readthedocs.io/en/latest/advanced-usage.html#ssl-warnings\n",
      "  InsecureRequestWarning)\n"
     ]
    },
    {
     "name": "stdout",
     "output_type": "stream",
     "text": [
      "https://euw1.api.riotgames.com/lol/league/v4/leagues/fbc90c50-20b4-11e9-b807-c81f66dacb22?api_key=RGAPI-a8b115a1-d191-4fab-b57c-0a7a5dd665c1\n"
     ]
    },
    {
     "name": "stderr",
     "output_type": "stream",
     "text": [
      "C:\\Users\\utilisateur\\Documents\\MPSIS\\IPT\\WinPython-64bit-3.6.3.0Qt5\\python-3.6.3.amd64\\lib\\site-packages\\urllib3\\connectionpool.py:852: InsecureRequestWarning: Unverified HTTPS request is being made. Adding certificate verification is strongly advised. See: https://urllib3.readthedocs.io/en/latest/advanced-usage.html#ssl-warnings\n",
      "  InsecureRequestWarning)\n",
      "C:\\Users\\utilisateur\\Documents\\MPSIS\\IPT\\WinPython-64bit-3.6.3.0Qt5\\python-3.6.3.amd64\\lib\\site-packages\\urllib3\\connectionpool.py:852: InsecureRequestWarning: Unverified HTTPS request is being made. Adding certificate verification is strongly advised. See: https://urllib3.readthedocs.io/en/latest/advanced-usage.html#ssl-warnings\n",
      "  InsecureRequestWarning)\n"
     ]
    },
    {
     "name": "stdout",
     "output_type": "stream",
     "text": [
      "94\n",
      "https://euw1.api.riotgames.com/lol/league/v4/leagues/91af4420-20db-11e9-8ff2-c81f66dd0e0d?api_key=RGAPI-a8b115a1-d191-4fab-b57c-0a7a5dd665c1\n",
      "95\n"
     ]
    },
    {
     "name": "stderr",
     "output_type": "stream",
     "text": [
      "C:\\Users\\utilisateur\\Documents\\MPSIS\\IPT\\WinPython-64bit-3.6.3.0Qt5\\python-3.6.3.amd64\\lib\\site-packages\\urllib3\\connectionpool.py:852: InsecureRequestWarning: Unverified HTTPS request is being made. Adding certificate verification is strongly advised. See: https://urllib3.readthedocs.io/en/latest/advanced-usage.html#ssl-warnings\n",
      "  InsecureRequestWarning)\n"
     ]
    },
    {
     "name": "stdout",
     "output_type": "stream",
     "text": [
      "https://euw1.api.riotgames.com/lol/league/v4/leagues/d1af4540-2255-11e9-8d6c-c81f66dacb22?api_key=RGAPI-a8b115a1-d191-4fab-b57c-0a7a5dd665c1\n",
      "96\n"
     ]
    },
    {
     "name": "stderr",
     "output_type": "stream",
     "text": [
      "C:\\Users\\utilisateur\\Documents\\MPSIS\\IPT\\WinPython-64bit-3.6.3.0Qt5\\python-3.6.3.amd64\\lib\\site-packages\\urllib3\\connectionpool.py:852: InsecureRequestWarning: Unverified HTTPS request is being made. Adding certificate verification is strongly advised. See: https://urllib3.readthedocs.io/en/latest/advanced-usage.html#ssl-warnings\n",
      "  InsecureRequestWarning)\n"
     ]
    },
    {
     "name": "stdout",
     "output_type": "stream",
     "text": [
      "https://euw1.api.riotgames.com/lol/league/v4/leagues/4f82fc70-1fca-11e9-99ab-c81f66dd2a8f?api_key=RGAPI-a8b115a1-d191-4fab-b57c-0a7a5dd665c1\n",
      "97\n"
     ]
    },
    {
     "name": "stderr",
     "output_type": "stream",
     "text": [
      "C:\\Users\\utilisateur\\Documents\\MPSIS\\IPT\\WinPython-64bit-3.6.3.0Qt5\\python-3.6.3.amd64\\lib\\site-packages\\urllib3\\connectionpool.py:852: InsecureRequestWarning: Unverified HTTPS request is being made. Adding certificate verification is strongly advised. See: https://urllib3.readthedocs.io/en/latest/advanced-usage.html#ssl-warnings\n",
      "  InsecureRequestWarning)\n"
     ]
    },
    {
     "name": "stdout",
     "output_type": "stream",
     "text": [
      "https://euw1.api.riotgames.com/lol/league/v4/leagues/012b0010-2018-11e9-a441-c81f66db01ef?api_key=RGAPI-a8b115a1-d191-4fab-b57c-0a7a5dd665c1\n",
      "98\n"
     ]
    },
    {
     "name": "stderr",
     "output_type": "stream",
     "text": [
      "C:\\Users\\utilisateur\\Documents\\MPSIS\\IPT\\WinPython-64bit-3.6.3.0Qt5\\python-3.6.3.amd64\\lib\\site-packages\\urllib3\\connectionpool.py:852: InsecureRequestWarning: Unverified HTTPS request is being made. Adding certificate verification is strongly advised. See: https://urllib3.readthedocs.io/en/latest/advanced-usage.html#ssl-warnings\n",
      "  InsecureRequestWarning)\n"
     ]
    },
    {
     "name": "stdout",
     "output_type": "stream",
     "text": [
      "https://euw1.api.riotgames.com/lol/league/v4/leagues/c8a84720-1ff9-11e9-b001-c81f66dacb22?api_key=RGAPI-a8b115a1-d191-4fab-b57c-0a7a5dd665c1\n",
      "99\n"
     ]
    },
    {
     "name": "stderr",
     "output_type": "stream",
     "text": [
      "C:\\Users\\utilisateur\\Documents\\MPSIS\\IPT\\WinPython-64bit-3.6.3.0Qt5\\python-3.6.3.amd64\\lib\\site-packages\\urllib3\\connectionpool.py:852: InsecureRequestWarning: Unverified HTTPS request is being made. Adding certificate verification is strongly advised. See: https://urllib3.readthedocs.io/en/latest/advanced-usage.html#ssl-warnings\n",
      "  InsecureRequestWarning)\n"
     ]
    },
    {
     "name": "stdout",
     "output_type": "stream",
     "text": [
      "https://euw1.api.riotgames.com/lol/league/v4/leagues/f9135320-1fac-11e9-9adc-c81f66dacb22?api_key=RGAPI-a8b115a1-d191-4fab-b57c-0a7a5dd665c1\n",
      "100\n"
     ]
    },
    {
     "name": "stderr",
     "output_type": "stream",
     "text": [
      "C:\\Users\\utilisateur\\Documents\\MPSIS\\IPT\\WinPython-64bit-3.6.3.0Qt5\\python-3.6.3.amd64\\lib\\site-packages\\urllib3\\connectionpool.py:852: InsecureRequestWarning: Unverified HTTPS request is being made. Adding certificate verification is strongly advised. See: https://urllib3.readthedocs.io/en/latest/advanced-usage.html#ssl-warnings\n",
      "  InsecureRequestWarning)\n"
     ]
    },
    {
     "name": "stdout",
     "output_type": "stream",
     "text": [
      "https://euw1.api.riotgames.com/lol/league/v4/leagues/aa701af0-2010-11e9-b945-c81f66dd2a8f?api_key=RGAPI-a8b115a1-d191-4fab-b57c-0a7a5dd665c1\n",
      "101\n"
     ]
    },
    {
     "name": "stderr",
     "output_type": "stream",
     "text": [
      "C:\\Users\\utilisateur\\Documents\\MPSIS\\IPT\\WinPython-64bit-3.6.3.0Qt5\\python-3.6.3.amd64\\lib\\site-packages\\urllib3\\connectionpool.py:852: InsecureRequestWarning: Unverified HTTPS request is being made. Adding certificate verification is strongly advised. See: https://urllib3.readthedocs.io/en/latest/advanced-usage.html#ssl-warnings\n",
      "  InsecureRequestWarning)\n"
     ]
    },
    {
     "name": "stdout",
     "output_type": "stream",
     "text": [
      "https://euw1.api.riotgames.com/lol/league/v4/leagues/2fcde650-1fb7-11e9-bb10-c81f66dd2a8f?api_key=RGAPI-a8b115a1-d191-4fab-b57c-0a7a5dd665c1\n",
      "102\n"
     ]
    },
    {
     "name": "stderr",
     "output_type": "stream",
     "text": [
      "C:\\Users\\utilisateur\\Documents\\MPSIS\\IPT\\WinPython-64bit-3.6.3.0Qt5\\python-3.6.3.amd64\\lib\\site-packages\\urllib3\\connectionpool.py:852: InsecureRequestWarning: Unverified HTTPS request is being made. Adding certificate verification is strongly advised. See: https://urllib3.readthedocs.io/en/latest/advanced-usage.html#ssl-warnings\n",
      "  InsecureRequestWarning)\n"
     ]
    },
    {
     "name": "stdout",
     "output_type": "stream",
     "text": [
      "https://euw1.api.riotgames.com/lol/league/v4/leagues/2fac6940-2c68-11e9-8e56-c81f66dd0e0d?api_key=RGAPI-a8b115a1-d191-4fab-b57c-0a7a5dd665c1\n",
      "103\n"
     ]
    },
    {
     "name": "stderr",
     "output_type": "stream",
     "text": [
      "C:\\Users\\utilisateur\\Documents\\MPSIS\\IPT\\WinPython-64bit-3.6.3.0Qt5\\python-3.6.3.amd64\\lib\\site-packages\\urllib3\\connectionpool.py:852: InsecureRequestWarning: Unverified HTTPS request is being made. Adding certificate verification is strongly advised. See: https://urllib3.readthedocs.io/en/latest/advanced-usage.html#ssl-warnings\n",
      "  InsecureRequestWarning)\n"
     ]
    },
    {
     "name": "stdout",
     "output_type": "stream",
     "text": [
      "https://euw1.api.riotgames.com/lol/league/v4/leagues/7b903b80-1f9c-11e9-99ab-c81f66dd2a8f?api_key=RGAPI-a8b115a1-d191-4fab-b57c-0a7a5dd665c1\n",
      "104\n"
     ]
    },
    {
     "name": "stderr",
     "output_type": "stream",
     "text": [
      "C:\\Users\\utilisateur\\Documents\\MPSIS\\IPT\\WinPython-64bit-3.6.3.0Qt5\\python-3.6.3.amd64\\lib\\site-packages\\urllib3\\connectionpool.py:852: InsecureRequestWarning: Unverified HTTPS request is being made. Adding certificate verification is strongly advised. See: https://urllib3.readthedocs.io/en/latest/advanced-usage.html#ssl-warnings\n",
      "  InsecureRequestWarning)\n"
     ]
    },
    {
     "name": "stdout",
     "output_type": "stream",
     "text": [
      "https://euw1.api.riotgames.com/lol/league/v4/leagues/30558b00-2598-11e9-9101-c81f66db01ef?api_key=RGAPI-a8b115a1-d191-4fab-b57c-0a7a5dd665c1\n",
      "105\n"
     ]
    },
    {
     "name": "stderr",
     "output_type": "stream",
     "text": [
      "C:\\Users\\utilisateur\\Documents\\MPSIS\\IPT\\WinPython-64bit-3.6.3.0Qt5\\python-3.6.3.amd64\\lib\\site-packages\\urllib3\\connectionpool.py:852: InsecureRequestWarning: Unverified HTTPS request is being made. Adding certificate verification is strongly advised. See: https://urllib3.readthedocs.io/en/latest/advanced-usage.html#ssl-warnings\n",
      "  InsecureRequestWarning)\n"
     ]
    },
    {
     "name": "stdout",
     "output_type": "stream",
     "text": [
      "https://euw1.api.riotgames.com/lol/league/v4/leagues/bc87c620-2191-11e9-8c3b-c81f66dd2a8f?api_key=RGAPI-a8b115a1-d191-4fab-b57c-0a7a5dd665c1\n",
      "106\n"
     ]
    },
    {
     "name": "stderr",
     "output_type": "stream",
     "text": [
      "C:\\Users\\utilisateur\\Documents\\MPSIS\\IPT\\WinPython-64bit-3.6.3.0Qt5\\python-3.6.3.amd64\\lib\\site-packages\\urllib3\\connectionpool.py:852: InsecureRequestWarning: Unverified HTTPS request is being made. Adding certificate verification is strongly advised. See: https://urllib3.readthedocs.io/en/latest/advanced-usage.html#ssl-warnings\n",
      "  InsecureRequestWarning)\n"
     ]
    },
    {
     "name": "stdout",
     "output_type": "stream",
     "text": [
      "https://euw1.api.riotgames.com/lol/league/v4/leagues/14c80850-2010-11e9-9dcb-c81f66dd0e0d?api_key=RGAPI-a8b115a1-d191-4fab-b57c-0a7a5dd665c1\n",
      "107\n"
     ]
    },
    {
     "name": "stderr",
     "output_type": "stream",
     "text": [
      "C:\\Users\\utilisateur\\Documents\\MPSIS\\IPT\\WinPython-64bit-3.6.3.0Qt5\\python-3.6.3.amd64\\lib\\site-packages\\urllib3\\connectionpool.py:852: InsecureRequestWarning: Unverified HTTPS request is being made. Adding certificate verification is strongly advised. See: https://urllib3.readthedocs.io/en/latest/advanced-usage.html#ssl-warnings\n",
      "  InsecureRequestWarning)\n"
     ]
    },
    {
     "name": "stdout",
     "output_type": "stream",
     "text": [
      "https://euw1.api.riotgames.com/lol/league/v4/leagues/eff9c1e0-2086-11e9-975f-c81f66dacb22?api_key=RGAPI-a8b115a1-d191-4fab-b57c-0a7a5dd665c1\n",
      "108\n"
     ]
    },
    {
     "name": "stderr",
     "output_type": "stream",
     "text": [
      "C:\\Users\\utilisateur\\Documents\\MPSIS\\IPT\\WinPython-64bit-3.6.3.0Qt5\\python-3.6.3.amd64\\lib\\site-packages\\urllib3\\connectionpool.py:852: InsecureRequestWarning: Unverified HTTPS request is being made. Adding certificate verification is strongly advised. See: https://urllib3.readthedocs.io/en/latest/advanced-usage.html#ssl-warnings\n",
      "  InsecureRequestWarning)\n"
     ]
    },
    {
     "name": "stdout",
     "output_type": "stream",
     "text": [
      "https://euw1.api.riotgames.com/lol/league/v4/leagues/da7ce710-1fd3-11e9-9dcb-c81f66dd0e0d?api_key=RGAPI-a8b115a1-d191-4fab-b57c-0a7a5dd665c1\n",
      "109\n"
     ]
    },
    {
     "name": "stderr",
     "output_type": "stream",
     "text": [
      "C:\\Users\\utilisateur\\Documents\\MPSIS\\IPT\\WinPython-64bit-3.6.3.0Qt5\\python-3.6.3.amd64\\lib\\site-packages\\urllib3\\connectionpool.py:852: InsecureRequestWarning: Unverified HTTPS request is being made. Adding certificate verification is strongly advised. See: https://urllib3.readthedocs.io/en/latest/advanced-usage.html#ssl-warnings\n",
      "  InsecureRequestWarning)\n"
     ]
    },
    {
     "name": "stdout",
     "output_type": "stream",
     "text": [
      "https://euw1.api.riotgames.com/lol/league/v4/leagues/bca5d7c0-2018-11e9-99ab-c81f66dd2a8f?api_key=RGAPI-a8b115a1-d191-4fab-b57c-0a7a5dd665c1\n",
      "110\n"
     ]
    },
    {
     "name": "stderr",
     "output_type": "stream",
     "text": [
      "C:\\Users\\utilisateur\\Documents\\MPSIS\\IPT\\WinPython-64bit-3.6.3.0Qt5\\python-3.6.3.amd64\\lib\\site-packages\\urllib3\\connectionpool.py:852: InsecureRequestWarning: Unverified HTTPS request is being made. Adding certificate verification is strongly advised. See: https://urllib3.readthedocs.io/en/latest/advanced-usage.html#ssl-warnings\n",
      "  InsecureRequestWarning)\n"
     ]
    },
    {
     "name": "stdout",
     "output_type": "stream",
     "text": [
      "https://euw1.api.riotgames.com/lol/league/v4/leagues/aa8c4d90-1fa4-11e9-b945-c81f66dd2a8f?api_key=RGAPI-a8b115a1-d191-4fab-b57c-0a7a5dd665c1\n",
      "111\n"
     ]
    },
    {
     "name": "stderr",
     "output_type": "stream",
     "text": [
      "C:\\Users\\utilisateur\\Documents\\MPSIS\\IPT\\WinPython-64bit-3.6.3.0Qt5\\python-3.6.3.amd64\\lib\\site-packages\\urllib3\\connectionpool.py:852: InsecureRequestWarning: Unverified HTTPS request is being made. Adding certificate verification is strongly advised. See: https://urllib3.readthedocs.io/en/latest/advanced-usage.html#ssl-warnings\n",
      "  InsecureRequestWarning)\n"
     ]
    },
    {
     "name": "stdout",
     "output_type": "stream",
     "text": [
      "https://euw1.api.riotgames.com/lol/league/v4/leagues/dd638510-1ffb-11e9-af08-c81f66db01ef?api_key=RGAPI-a8b115a1-d191-4fab-b57c-0a7a5dd665c1\n",
      "112\n"
     ]
    },
    {
     "name": "stderr",
     "output_type": "stream",
     "text": [
      "C:\\Users\\utilisateur\\Documents\\MPSIS\\IPT\\WinPython-64bit-3.6.3.0Qt5\\python-3.6.3.amd64\\lib\\site-packages\\urllib3\\connectionpool.py:852: InsecureRequestWarning: Unverified HTTPS request is being made. Adding certificate verification is strongly advised. See: https://urllib3.readthedocs.io/en/latest/advanced-usage.html#ssl-warnings\n",
      "  InsecureRequestWarning)\n"
     ]
    },
    {
     "name": "stdout",
     "output_type": "stream",
     "text": [
      "https://euw1.api.riotgames.com/lol/league/v4/leagues/b8ff5080-2232-11e9-9d00-c81f66dacb22?api_key=RGAPI-a8b115a1-d191-4fab-b57c-0a7a5dd665c1\n",
      "113\n"
     ]
    },
    {
     "name": "stderr",
     "output_type": "stream",
     "text": [
      "C:\\Users\\utilisateur\\Documents\\MPSIS\\IPT\\WinPython-64bit-3.6.3.0Qt5\\python-3.6.3.amd64\\lib\\site-packages\\urllib3\\connectionpool.py:852: InsecureRequestWarning: Unverified HTTPS request is being made. Adding certificate verification is strongly advised. See: https://urllib3.readthedocs.io/en/latest/advanced-usage.html#ssl-warnings\n",
      "  InsecureRequestWarning)\n"
     ]
    },
    {
     "name": "stdout",
     "output_type": "stream",
     "text": [
      "https://euw1.api.riotgames.com/lol/league/v4/leagues/4e0d4930-1fc6-11e9-99ab-c81f66dd2a8f?api_key=RGAPI-a8b115a1-d191-4fab-b57c-0a7a5dd665c1\n",
      "114\n"
     ]
    },
    {
     "name": "stderr",
     "output_type": "stream",
     "text": [
      "C:\\Users\\utilisateur\\Documents\\MPSIS\\IPT\\WinPython-64bit-3.6.3.0Qt5\\python-3.6.3.amd64\\lib\\site-packages\\urllib3\\connectionpool.py:852: InsecureRequestWarning: Unverified HTTPS request is being made. Adding certificate verification is strongly advised. See: https://urllib3.readthedocs.io/en/latest/advanced-usage.html#ssl-warnings\n",
      "  InsecureRequestWarning)\n"
     ]
    },
    {
     "name": "stdout",
     "output_type": "stream",
     "text": [
      "https://euw1.api.riotgames.com/lol/league/v4/leagues/007ef5e0-204a-11e9-afeb-c81f66db01ef?api_key=RGAPI-a8b115a1-d191-4fab-b57c-0a7a5dd665c1\n",
      "115\n"
     ]
    },
    {
     "name": "stderr",
     "output_type": "stream",
     "text": [
      "C:\\Users\\utilisateur\\Documents\\MPSIS\\IPT\\WinPython-64bit-3.6.3.0Qt5\\python-3.6.3.amd64\\lib\\site-packages\\urllib3\\connectionpool.py:852: InsecureRequestWarning: Unverified HTTPS request is being made. Adding certificate verification is strongly advised. See: https://urllib3.readthedocs.io/en/latest/advanced-usage.html#ssl-warnings\n",
      "  InsecureRequestWarning)\n"
     ]
    },
    {
     "name": "stdout",
     "output_type": "stream",
     "text": [
      "https://euw1.api.riotgames.com/lol/league/v4/leagues/7e104780-201c-11e9-af08-c81f66db01ef?api_key=RGAPI-a8b115a1-d191-4fab-b57c-0a7a5dd665c1\n",
      "116\n"
     ]
    },
    {
     "name": "stderr",
     "output_type": "stream",
     "text": [
      "C:\\Users\\utilisateur\\Documents\\MPSIS\\IPT\\WinPython-64bit-3.6.3.0Qt5\\python-3.6.3.amd64\\lib\\site-packages\\urllib3\\connectionpool.py:852: InsecureRequestWarning: Unverified HTTPS request is being made. Adding certificate verification is strongly advised. See: https://urllib3.readthedocs.io/en/latest/advanced-usage.html#ssl-warnings\n",
      "  InsecureRequestWarning)\n"
     ]
    },
    {
     "name": "stdout",
     "output_type": "stream",
     "text": [
      "https://euw1.api.riotgames.com/lol/league/v4/leagues/b77a4f70-1fc7-11e9-bcbc-c81f66dd2a8f?api_key=RGAPI-a8b115a1-d191-4fab-b57c-0a7a5dd665c1\n",
      "117\n"
     ]
    },
    {
     "name": "stderr",
     "output_type": "stream",
     "text": [
      "C:\\Users\\utilisateur\\Documents\\MPSIS\\IPT\\WinPython-64bit-3.6.3.0Qt5\\python-3.6.3.amd64\\lib\\site-packages\\urllib3\\connectionpool.py:852: InsecureRequestWarning: Unverified HTTPS request is being made. Adding certificate verification is strongly advised. See: https://urllib3.readthedocs.io/en/latest/advanced-usage.html#ssl-warnings\n",
      "  InsecureRequestWarning)\n"
     ]
    },
    {
     "name": "stdout",
     "output_type": "stream",
     "text": [
      "https://euw1.api.riotgames.com/lol/league/v4/leagues/ac45bcf0-201e-11e9-9e7e-c81f66dacb22?api_key=RGAPI-a8b115a1-d191-4fab-b57c-0a7a5dd665c1\n",
      "118\n"
     ]
    },
    {
     "name": "stderr",
     "output_type": "stream",
     "text": [
      "C:\\Users\\utilisateur\\Documents\\MPSIS\\IPT\\WinPython-64bit-3.6.3.0Qt5\\python-3.6.3.amd64\\lib\\site-packages\\urllib3\\connectionpool.py:852: InsecureRequestWarning: Unverified HTTPS request is being made. Adding certificate verification is strongly advised. See: https://urllib3.readthedocs.io/en/latest/advanced-usage.html#ssl-warnings\n",
      "  InsecureRequestWarning)\n"
     ]
    },
    {
     "name": "stdout",
     "output_type": "stream",
     "text": [
      "https://euw1.api.riotgames.com/lol/league/v4/leagues/19de9fb0-22eb-11e9-8b03-c81f66dd0e0d?api_key=RGAPI-a8b115a1-d191-4fab-b57c-0a7a5dd665c1\n",
      "119\n"
     ]
    },
    {
     "name": "stderr",
     "output_type": "stream",
     "text": [
      "C:\\Users\\utilisateur\\Documents\\MPSIS\\IPT\\WinPython-64bit-3.6.3.0Qt5\\python-3.6.3.amd64\\lib\\site-packages\\urllib3\\connectionpool.py:852: InsecureRequestWarning: Unverified HTTPS request is being made. Adding certificate verification is strongly advised. See: https://urllib3.readthedocs.io/en/latest/advanced-usage.html#ssl-warnings\n",
      "  InsecureRequestWarning)\n"
     ]
    },
    {
     "name": "stdout",
     "output_type": "stream",
     "text": [
      "https://euw1.api.riotgames.com/lol/league/v4/leagues/394fe620-2079-11e9-883e-c81f66db01ef?api_key=RGAPI-a8b115a1-d191-4fab-b57c-0a7a5dd665c1\n",
      "120\n"
     ]
    },
    {
     "name": "stderr",
     "output_type": "stream",
     "text": [
      "C:\\Users\\utilisateur\\Documents\\MPSIS\\IPT\\WinPython-64bit-3.6.3.0Qt5\\python-3.6.3.amd64\\lib\\site-packages\\urllib3\\connectionpool.py:852: InsecureRequestWarning: Unverified HTTPS request is being made. Adding certificate verification is strongly advised. See: https://urllib3.readthedocs.io/en/latest/advanced-usage.html#ssl-warnings\n",
      "  InsecureRequestWarning)\n"
     ]
    },
    {
     "name": "stdout",
     "output_type": "stream",
     "text": [
      "https://euw1.api.riotgames.com/lol/league/v4/leagues/ad1ac530-1fe7-11e9-b945-c81f66dd2a8f?api_key=RGAPI-a8b115a1-d191-4fab-b57c-0a7a5dd665c1\n",
      "121\n"
     ]
    },
    {
     "name": "stderr",
     "output_type": "stream",
     "text": [
      "C:\\Users\\utilisateur\\Documents\\MPSIS\\IPT\\WinPython-64bit-3.6.3.0Qt5\\python-3.6.3.amd64\\lib\\site-packages\\urllib3\\connectionpool.py:852: InsecureRequestWarning: Unverified HTTPS request is being made. Adding certificate verification is strongly advised. See: https://urllib3.readthedocs.io/en/latest/advanced-usage.html#ssl-warnings\n",
      "  InsecureRequestWarning)\n"
     ]
    },
    {
     "name": "stdout",
     "output_type": "stream",
     "text": [
      "https://euw1.api.riotgames.com/lol/league/v4/leagues/693436a0-2666-11e9-b404-c81f66dacb22?api_key=RGAPI-a8b115a1-d191-4fab-b57c-0a7a5dd665c1\n",
      "122\n"
     ]
    },
    {
     "name": "stderr",
     "output_type": "stream",
     "text": [
      "C:\\Users\\utilisateur\\Documents\\MPSIS\\IPT\\WinPython-64bit-3.6.3.0Qt5\\python-3.6.3.amd64\\lib\\site-packages\\urllib3\\connectionpool.py:852: InsecureRequestWarning: Unverified HTTPS request is being made. Adding certificate verification is strongly advised. See: https://urllib3.readthedocs.io/en/latest/advanced-usage.html#ssl-warnings\n",
      "  InsecureRequestWarning)\n"
     ]
    },
    {
     "name": "stdout",
     "output_type": "stream",
     "text": [
      "https://euw1.api.riotgames.com/lol/league/v4/leagues/28160d60-1fe0-11e9-9adc-c81f66dacb22?api_key=RGAPI-a8b115a1-d191-4fab-b57c-0a7a5dd665c1\n",
      "123\n"
     ]
    },
    {
     "name": "stderr",
     "output_type": "stream",
     "text": [
      "C:\\Users\\utilisateur\\Documents\\MPSIS\\IPT\\WinPython-64bit-3.6.3.0Qt5\\python-3.6.3.amd64\\lib\\site-packages\\urllib3\\connectionpool.py:852: InsecureRequestWarning: Unverified HTTPS request is being made. Adding certificate verification is strongly advised. See: https://urllib3.readthedocs.io/en/latest/advanced-usage.html#ssl-warnings\n",
      "  InsecureRequestWarning)\n"
     ]
    },
    {
     "name": "stdout",
     "output_type": "stream",
     "text": [
      "https://euw1.api.riotgames.com/lol/league/v4/leagues/943c01d0-1fd0-11e9-9dcb-c81f66dd0e0d?api_key=RGAPI-a8b115a1-d191-4fab-b57c-0a7a5dd665c1\n",
      "124\n"
     ]
    },
    {
     "name": "stderr",
     "output_type": "stream",
     "text": [
      "C:\\Users\\utilisateur\\Documents\\MPSIS\\IPT\\WinPython-64bit-3.6.3.0Qt5\\python-3.6.3.amd64\\lib\\site-packages\\urllib3\\connectionpool.py:852: InsecureRequestWarning: Unverified HTTPS request is being made. Adding certificate verification is strongly advised. See: https://urllib3.readthedocs.io/en/latest/advanced-usage.html#ssl-warnings\n",
      "  InsecureRequestWarning)\n"
     ]
    },
    {
     "name": "stdout",
     "output_type": "stream",
     "text": [
      "https://euw1.api.riotgames.com/lol/league/v4/leagues/1bcbc030-221b-11e9-9093-c81f66db01ef?api_key=RGAPI-a8b115a1-d191-4fab-b57c-0a7a5dd665c1\n",
      "125\n"
     ]
    },
    {
     "name": "stderr",
     "output_type": "stream",
     "text": [
      "C:\\Users\\utilisateur\\Documents\\MPSIS\\IPT\\WinPython-64bit-3.6.3.0Qt5\\python-3.6.3.amd64\\lib\\site-packages\\urllib3\\connectionpool.py:852: InsecureRequestWarning: Unverified HTTPS request is being made. Adding certificate verification is strongly advised. See: https://urllib3.readthedocs.io/en/latest/advanced-usage.html#ssl-warnings\n",
      "  InsecureRequestWarning)\n"
     ]
    },
    {
     "name": "stdout",
     "output_type": "stream",
     "text": [
      "https://euw1.api.riotgames.com/lol/league/v4/leagues/dd638510-1ffb-11e9-af08-c81f66db01ef?api_key=RGAPI-a8b115a1-d191-4fab-b57c-0a7a5dd665c1\n",
      "126\n"
     ]
    },
    {
     "name": "stderr",
     "output_type": "stream",
     "text": [
      "C:\\Users\\utilisateur\\Documents\\MPSIS\\IPT\\WinPython-64bit-3.6.3.0Qt5\\python-3.6.3.amd64\\lib\\site-packages\\urllib3\\connectionpool.py:852: InsecureRequestWarning: Unverified HTTPS request is being made. Adding certificate verification is strongly advised. See: https://urllib3.readthedocs.io/en/latest/advanced-usage.html#ssl-warnings\n",
      "  InsecureRequestWarning)\n"
     ]
    },
    {
     "name": "stdout",
     "output_type": "stream",
     "text": [
      "https://euw1.api.riotgames.com/lol/league/v4/leagues/340c5d10-1fe8-11e9-b945-c81f66dd2a8f?api_key=RGAPI-a8b115a1-d191-4fab-b57c-0a7a5dd665c1\n",
      "127\n"
     ]
    },
    {
     "name": "stderr",
     "output_type": "stream",
     "text": [
      "C:\\Users\\utilisateur\\Documents\\MPSIS\\IPT\\WinPython-64bit-3.6.3.0Qt5\\python-3.6.3.amd64\\lib\\site-packages\\urllib3\\connectionpool.py:852: InsecureRequestWarning: Unverified HTTPS request is being made. Adding certificate verification is strongly advised. See: https://urllib3.readthedocs.io/en/latest/advanced-usage.html#ssl-warnings\n",
      "  InsecureRequestWarning)\n"
     ]
    },
    {
     "name": "stdout",
     "output_type": "stream",
     "text": [
      "https://euw1.api.riotgames.com/lol/league/v4/leagues/a64d9e80-2a91-11e9-8193-c81f66db01ef?api_key=RGAPI-a8b115a1-d191-4fab-b57c-0a7a5dd665c1\n",
      "128\n"
     ]
    },
    {
     "name": "stderr",
     "output_type": "stream",
     "text": [
      "C:\\Users\\utilisateur\\Documents\\MPSIS\\IPT\\WinPython-64bit-3.6.3.0Qt5\\python-3.6.3.amd64\\lib\\site-packages\\urllib3\\connectionpool.py:852: InsecureRequestWarning: Unverified HTTPS request is being made. Adding certificate verification is strongly advised. See: https://urllib3.readthedocs.io/en/latest/advanced-usage.html#ssl-warnings\n",
      "  InsecureRequestWarning)\n"
     ]
    },
    {
     "name": "stdout",
     "output_type": "stream",
     "text": [
      "https://euw1.api.riotgames.com/lol/league/v4/leagues/ed018730-1fdb-11e9-9dcb-c81f66dd0e0d?api_key=RGAPI-a8b115a1-d191-4fab-b57c-0a7a5dd665c1\n",
      "129\n"
     ]
    },
    {
     "name": "stderr",
     "output_type": "stream",
     "text": [
      "C:\\Users\\utilisateur\\Documents\\MPSIS\\IPT\\WinPython-64bit-3.6.3.0Qt5\\python-3.6.3.amd64\\lib\\site-packages\\urllib3\\connectionpool.py:852: InsecureRequestWarning: Unverified HTTPS request is being made. Adding certificate verification is strongly advised. See: https://urllib3.readthedocs.io/en/latest/advanced-usage.html#ssl-warnings\n",
      "  InsecureRequestWarning)\n"
     ]
    },
    {
     "name": "stdout",
     "output_type": "stream",
     "text": [
      "https://euw1.api.riotgames.com/lol/league/v4/leagues/90dbbdd0-1fe6-11e9-b919-c81f66dd0e0d?api_key=RGAPI-a8b115a1-d191-4fab-b57c-0a7a5dd665c1\n",
      "130\n"
     ]
    },
    {
     "name": "stderr",
     "output_type": "stream",
     "text": [
      "C:\\Users\\utilisateur\\Documents\\MPSIS\\IPT\\WinPython-64bit-3.6.3.0Qt5\\python-3.6.3.amd64\\lib\\site-packages\\urllib3\\connectionpool.py:852: InsecureRequestWarning: Unverified HTTPS request is being made. Adding certificate verification is strongly advised. See: https://urllib3.readthedocs.io/en/latest/advanced-usage.html#ssl-warnings\n",
      "  InsecureRequestWarning)\n"
     ]
    },
    {
     "name": "stdout",
     "output_type": "stream",
     "text": [
      "https://euw1.api.riotgames.com/lol/league/v4/leagues/701e57e0-1fb1-11e9-bcbc-c81f66dd2a8f?api_key=RGAPI-a8b115a1-d191-4fab-b57c-0a7a5dd665c1\n",
      "131\n"
     ]
    },
    {
     "name": "stderr",
     "output_type": "stream",
     "text": [
      "C:\\Users\\utilisateur\\Documents\\MPSIS\\IPT\\WinPython-64bit-3.6.3.0Qt5\\python-3.6.3.amd64\\lib\\site-packages\\urllib3\\connectionpool.py:852: InsecureRequestWarning: Unverified HTTPS request is being made. Adding certificate verification is strongly advised. See: https://urllib3.readthedocs.io/en/latest/advanced-usage.html#ssl-warnings\n",
      "  InsecureRequestWarning)\n"
     ]
    },
    {
     "name": "stdout",
     "output_type": "stream",
     "text": [
      "https://euw1.api.riotgames.com/lol/league/v4/leagues/aa701af0-2010-11e9-b945-c81f66dd2a8f?api_key=RGAPI-a8b115a1-d191-4fab-b57c-0a7a5dd665c1\n",
      "132\n"
     ]
    },
    {
     "name": "stderr",
     "output_type": "stream",
     "text": [
      "C:\\Users\\utilisateur\\Documents\\MPSIS\\IPT\\WinPython-64bit-3.6.3.0Qt5\\python-3.6.3.amd64\\lib\\site-packages\\urllib3\\connectionpool.py:852: InsecureRequestWarning: Unverified HTTPS request is being made. Adding certificate verification is strongly advised. See: https://urllib3.readthedocs.io/en/latest/advanced-usage.html#ssl-warnings\n",
      "  InsecureRequestWarning)\n"
     ]
    },
    {
     "name": "stdout",
     "output_type": "stream",
     "text": [
      "https://euw1.api.riotgames.com/lol/league/v4/leagues/44725400-1fd1-11e9-99ab-c81f66dd2a8f?api_key=RGAPI-a8b115a1-d191-4fab-b57c-0a7a5dd665c1\n",
      "133\n"
     ]
    },
    {
     "name": "stderr",
     "output_type": "stream",
     "text": [
      "C:\\Users\\utilisateur\\Documents\\MPSIS\\IPT\\WinPython-64bit-3.6.3.0Qt5\\python-3.6.3.amd64\\lib\\site-packages\\urllib3\\connectionpool.py:852: InsecureRequestWarning: Unverified HTTPS request is being made. Adding certificate verification is strongly advised. See: https://urllib3.readthedocs.io/en/latest/advanced-usage.html#ssl-warnings\n",
      "  InsecureRequestWarning)\n"
     ]
    },
    {
     "name": "stdout",
     "output_type": "stream",
     "text": [
      "https://euw1.api.riotgames.com/lol/league/v4/leagues/7b903b80-1f9c-11e9-99ab-c81f66dd2a8f?api_key=RGAPI-a8b115a1-d191-4fab-b57c-0a7a5dd665c1\n",
      "134\n"
     ]
    },
    {
     "name": "stderr",
     "output_type": "stream",
     "text": [
      "C:\\Users\\utilisateur\\Documents\\MPSIS\\IPT\\WinPython-64bit-3.6.3.0Qt5\\python-3.6.3.amd64\\lib\\site-packages\\urllib3\\connectionpool.py:852: InsecureRequestWarning: Unverified HTTPS request is being made. Adding certificate verification is strongly advised. See: https://urllib3.readthedocs.io/en/latest/advanced-usage.html#ssl-warnings\n",
      "  InsecureRequestWarning)\n"
     ]
    },
    {
     "name": "stdout",
     "output_type": "stream",
     "text": [
      "https://euw1.api.riotgames.com/lol/league/v4/leagues/25b063f0-388a-11e9-b8e6-c81f66dd0e0d?api_key=RGAPI-a8b115a1-d191-4fab-b57c-0a7a5dd665c1\n",
      "135\n"
     ]
    },
    {
     "name": "stderr",
     "output_type": "stream",
     "text": [
      "C:\\Users\\utilisateur\\Documents\\MPSIS\\IPT\\WinPython-64bit-3.6.3.0Qt5\\python-3.6.3.amd64\\lib\\site-packages\\urllib3\\connectionpool.py:852: InsecureRequestWarning: Unverified HTTPS request is being made. Adding certificate verification is strongly advised. See: https://urllib3.readthedocs.io/en/latest/advanced-usage.html#ssl-warnings\n",
      "  InsecureRequestWarning)\n"
     ]
    },
    {
     "name": "stdout",
     "output_type": "stream",
     "text": [
      "https://euw1.api.riotgames.com/lol/league/v4/leagues/47d06290-2012-11e9-9b9b-c81f66db01ef?api_key=RGAPI-a8b115a1-d191-4fab-b57c-0a7a5dd665c1\n",
      "136\n"
     ]
    },
    {
     "name": "stderr",
     "output_type": "stream",
     "text": [
      "C:\\Users\\utilisateur\\Documents\\MPSIS\\IPT\\WinPython-64bit-3.6.3.0Qt5\\python-3.6.3.amd64\\lib\\site-packages\\urllib3\\connectionpool.py:852: InsecureRequestWarning: Unverified HTTPS request is being made. Adding certificate verification is strongly advised. See: https://urllib3.readthedocs.io/en/latest/advanced-usage.html#ssl-warnings\n",
      "  InsecureRequestWarning)\n"
     ]
    },
    {
     "name": "stdout",
     "output_type": "stream",
     "text": [
      "https://euw1.api.riotgames.com/lol/league/v4/leagues/bc6ef470-1fc4-11e9-9b9b-c81f66db01ef?api_key=RGAPI-a8b115a1-d191-4fab-b57c-0a7a5dd665c1\n",
      "137\n"
     ]
    },
    {
     "name": "stderr",
     "output_type": "stream",
     "text": [
      "C:\\Users\\utilisateur\\Documents\\MPSIS\\IPT\\WinPython-64bit-3.6.3.0Qt5\\python-3.6.3.amd64\\lib\\site-packages\\urllib3\\connectionpool.py:852: InsecureRequestWarning: Unverified HTTPS request is being made. Adding certificate verification is strongly advised. See: https://urllib3.readthedocs.io/en/latest/advanced-usage.html#ssl-warnings\n",
      "  InsecureRequestWarning)\n"
     ]
    },
    {
     "name": "stdout",
     "output_type": "stream",
     "text": [
      "https://euw1.api.riotgames.com/lol/league/v4/leagues/b7dc1fe0-2006-11e9-b001-c81f66dacb22?api_key=RGAPI-a8b115a1-d191-4fab-b57c-0a7a5dd665c1\n",
      "138\n"
     ]
    },
    {
     "name": "stderr",
     "output_type": "stream",
     "text": [
      "C:\\Users\\utilisateur\\Documents\\MPSIS\\IPT\\WinPython-64bit-3.6.3.0Qt5\\python-3.6.3.amd64\\lib\\site-packages\\urllib3\\connectionpool.py:852: InsecureRequestWarning: Unverified HTTPS request is being made. Adding certificate verification is strongly advised. See: https://urllib3.readthedocs.io/en/latest/advanced-usage.html#ssl-warnings\n",
      "  InsecureRequestWarning)\n"
     ]
    },
    {
     "name": "stdout",
     "output_type": "stream",
     "text": [
      "https://euw1.api.riotgames.com/lol/league/v4/leagues/9a7db5e0-1ff1-11e9-b919-c81f66dd0e0d?api_key=RGAPI-a8b115a1-d191-4fab-b57c-0a7a5dd665c1\n",
      "139\n"
     ]
    },
    {
     "name": "stderr",
     "output_type": "stream",
     "text": [
      "C:\\Users\\utilisateur\\Documents\\MPSIS\\IPT\\WinPython-64bit-3.6.3.0Qt5\\python-3.6.3.amd64\\lib\\site-packages\\urllib3\\connectionpool.py:852: InsecureRequestWarning: Unverified HTTPS request is being made. Adding certificate verification is strongly advised. See: https://urllib3.readthedocs.io/en/latest/advanced-usage.html#ssl-warnings\n",
      "  InsecureRequestWarning)\n"
     ]
    },
    {
     "name": "stdout",
     "output_type": "stream",
     "text": [
      "https://euw1.api.riotgames.com/lol/league/v4/leagues/36048790-1fbc-11e9-9b9b-c81f66db01ef?api_key=RGAPI-a8b115a1-d191-4fab-b57c-0a7a5dd665c1\n",
      "140\n"
     ]
    },
    {
     "name": "stderr",
     "output_type": "stream",
     "text": [
      "C:\\Users\\utilisateur\\Documents\\MPSIS\\IPT\\WinPython-64bit-3.6.3.0Qt5\\python-3.6.3.amd64\\lib\\site-packages\\urllib3\\connectionpool.py:852: InsecureRequestWarning: Unverified HTTPS request is being made. Adding certificate verification is strongly advised. See: https://urllib3.readthedocs.io/en/latest/advanced-usage.html#ssl-warnings\n",
      "  InsecureRequestWarning)\n"
     ]
    },
    {
     "name": "stdout",
     "output_type": "stream",
     "text": [
      "https://euw1.api.riotgames.com/lol/league/v4/leagues/d0badd80-1fc0-11e9-99ab-c81f66dd2a8f?api_key=RGAPI-a8b115a1-d191-4fab-b57c-0a7a5dd665c1\n",
      "141\n"
     ]
    },
    {
     "name": "stderr",
     "output_type": "stream",
     "text": [
      "C:\\Users\\utilisateur\\Documents\\MPSIS\\IPT\\WinPython-64bit-3.6.3.0Qt5\\python-3.6.3.amd64\\lib\\site-packages\\urllib3\\connectionpool.py:852: InsecureRequestWarning: Unverified HTTPS request is being made. Adding certificate verification is strongly advised. See: https://urllib3.readthedocs.io/en/latest/advanced-usage.html#ssl-warnings\n",
      "  InsecureRequestWarning)\n"
     ]
    },
    {
     "name": "stdout",
     "output_type": "stream",
     "text": [
      "https://euw1.api.riotgames.com/lol/league/v4/leagues/84132ad0-1fae-11e9-9e7e-c81f66dacb22?api_key=RGAPI-a8b115a1-d191-4fab-b57c-0a7a5dd665c1\n",
      "142\n"
     ]
    },
    {
     "name": "stderr",
     "output_type": "stream",
     "text": [
      "C:\\Users\\utilisateur\\Documents\\MPSIS\\IPT\\WinPython-64bit-3.6.3.0Qt5\\python-3.6.3.amd64\\lib\\site-packages\\urllib3\\connectionpool.py:852: InsecureRequestWarning: Unverified HTTPS request is being made. Adding certificate verification is strongly advised. See: https://urllib3.readthedocs.io/en/latest/advanced-usage.html#ssl-warnings\n",
      "  InsecureRequestWarning)\n"
     ]
    },
    {
     "name": "stdout",
     "output_type": "stream",
     "text": [
      "https://euw1.api.riotgames.com/lol/league/v4/leagues/928f8b80-1fea-11e9-8ff7-c81f66dd0e0d?api_key=RGAPI-a8b115a1-d191-4fab-b57c-0a7a5dd665c1\n",
      "143\n"
     ]
    },
    {
     "name": "stderr",
     "output_type": "stream",
     "text": [
      "C:\\Users\\utilisateur\\Documents\\MPSIS\\IPT\\WinPython-64bit-3.6.3.0Qt5\\python-3.6.3.amd64\\lib\\site-packages\\urllib3\\connectionpool.py:852: InsecureRequestWarning: Unverified HTTPS request is being made. Adding certificate verification is strongly advised. See: https://urllib3.readthedocs.io/en/latest/advanced-usage.html#ssl-warnings\n",
      "  InsecureRequestWarning)\n"
     ]
    },
    {
     "name": "stdout",
     "output_type": "stream",
     "text": [
      "https://euw1.api.riotgames.com/lol/league/v4/leagues/6c092680-1fed-11e9-9e7e-c81f66dacb22?api_key=RGAPI-a8b115a1-d191-4fab-b57c-0a7a5dd665c1\n",
      "144\n"
     ]
    },
    {
     "name": "stderr",
     "output_type": "stream",
     "text": [
      "C:\\Users\\utilisateur\\Documents\\MPSIS\\IPT\\WinPython-64bit-3.6.3.0Qt5\\python-3.6.3.amd64\\lib\\site-packages\\urllib3\\connectionpool.py:852: InsecureRequestWarning: Unverified HTTPS request is being made. Adding certificate verification is strongly advised. See: https://urllib3.readthedocs.io/en/latest/advanced-usage.html#ssl-warnings\n",
      "  InsecureRequestWarning)\n"
     ]
    },
    {
     "name": "stdout",
     "output_type": "stream",
     "text": [
      "https://euw1.api.riotgames.com/lol/league/v4/leagues/e4567570-1fd4-11e9-b945-c81f66dd2a8f?api_key=RGAPI-a8b115a1-d191-4fab-b57c-0a7a5dd665c1\n",
      "145\n"
     ]
    },
    {
     "name": "stderr",
     "output_type": "stream",
     "text": [
      "C:\\Users\\utilisateur\\Documents\\MPSIS\\IPT\\WinPython-64bit-3.6.3.0Qt5\\python-3.6.3.amd64\\lib\\site-packages\\urllib3\\connectionpool.py:852: InsecureRequestWarning: Unverified HTTPS request is being made. Adding certificate verification is strongly advised. See: https://urllib3.readthedocs.io/en/latest/advanced-usage.html#ssl-warnings\n",
      "  InsecureRequestWarning)\n"
     ]
    },
    {
     "name": "stdout",
     "output_type": "stream",
     "text": [
      "https://euw1.api.riotgames.com/lol/league/v4/leagues/97194110-1fe4-11e9-9adc-c81f66dacb22?api_key=RGAPI-a8b115a1-d191-4fab-b57c-0a7a5dd665c1\n",
      "146\n"
     ]
    },
    {
     "name": "stderr",
     "output_type": "stream",
     "text": [
      "C:\\Users\\utilisateur\\Documents\\MPSIS\\IPT\\WinPython-64bit-3.6.3.0Qt5\\python-3.6.3.amd64\\lib\\site-packages\\urllib3\\connectionpool.py:852: InsecureRequestWarning: Unverified HTTPS request is being made. Adding certificate verification is strongly advised. See: https://urllib3.readthedocs.io/en/latest/advanced-usage.html#ssl-warnings\n",
      "  InsecureRequestWarning)\n"
     ]
    },
    {
     "name": "stdout",
     "output_type": "stream",
     "text": [
      "https://euw1.api.riotgames.com/lol/league/v4/leagues/607b5be0-59e9-11e9-9e86-c81f66dacb22?api_key=RGAPI-a8b115a1-d191-4fab-b57c-0a7a5dd665c1\n",
      "147\n"
     ]
    },
    {
     "name": "stderr",
     "output_type": "stream",
     "text": [
      "C:\\Users\\utilisateur\\Documents\\MPSIS\\IPT\\WinPython-64bit-3.6.3.0Qt5\\python-3.6.3.amd64\\lib\\site-packages\\urllib3\\connectionpool.py:852: InsecureRequestWarning: Unverified HTTPS request is being made. Adding certificate verification is strongly advised. See: https://urllib3.readthedocs.io/en/latest/advanced-usage.html#ssl-warnings\n",
      "  InsecureRequestWarning)\n"
     ]
    },
    {
     "name": "stdout",
     "output_type": "stream",
     "text": [
      "https://euw1.api.riotgames.com/lol/league/v4/leagues/95305bd0-1fef-11e9-a553-c81f66dacb22?api_key=RGAPI-a8b115a1-d191-4fab-b57c-0a7a5dd665c1\n",
      "148\n"
     ]
    },
    {
     "name": "stderr",
     "output_type": "stream",
     "text": [
      "C:\\Users\\utilisateur\\Documents\\MPSIS\\IPT\\WinPython-64bit-3.6.3.0Qt5\\python-3.6.3.amd64\\lib\\site-packages\\urllib3\\connectionpool.py:852: InsecureRequestWarning: Unverified HTTPS request is being made. Adding certificate verification is strongly advised. See: https://urllib3.readthedocs.io/en/latest/advanced-usage.html#ssl-warnings\n",
      "  InsecureRequestWarning)\n"
     ]
    },
    {
     "name": "stdout",
     "output_type": "stream",
     "text": [
      "https://euw1.api.riotgames.com/lol/league/v4/leagues/d2f689c0-1fcd-11e9-99ab-c81f66dd2a8f?api_key=RGAPI-a8b115a1-d191-4fab-b57c-0a7a5dd665c1\n",
      "149\n"
     ]
    },
    {
     "name": "stderr",
     "output_type": "stream",
     "text": [
      "C:\\Users\\utilisateur\\Documents\\MPSIS\\IPT\\WinPython-64bit-3.6.3.0Qt5\\python-3.6.3.amd64\\lib\\site-packages\\urllib3\\connectionpool.py:852: InsecureRequestWarning: Unverified HTTPS request is being made. Adding certificate verification is strongly advised. See: https://urllib3.readthedocs.io/en/latest/advanced-usage.html#ssl-warnings\n",
      "  InsecureRequestWarning)\n"
     ]
    },
    {
     "name": "stdout",
     "output_type": "stream",
     "text": [
      "https://euw1.api.riotgames.com/lol/league/v4/leagues/282d17a0-1fbb-11e9-b001-c81f66dacb22?api_key=RGAPI-a8b115a1-d191-4fab-b57c-0a7a5dd665c1\n",
      "150\n"
     ]
    },
    {
     "name": "stderr",
     "output_type": "stream",
     "text": [
      "C:\\Users\\utilisateur\\Documents\\MPSIS\\IPT\\WinPython-64bit-3.6.3.0Qt5\\python-3.6.3.amd64\\lib\\site-packages\\urllib3\\connectionpool.py:852: InsecureRequestWarning: Unverified HTTPS request is being made. Adding certificate verification is strongly advised. See: https://urllib3.readthedocs.io/en/latest/advanced-usage.html#ssl-warnings\n",
      "  InsecureRequestWarning)\n"
     ]
    },
    {
     "name": "stdout",
     "output_type": "stream",
     "text": [
      "https://euw1.api.riotgames.com/lol/league/v4/leagues/44196520-1ffe-11e9-bcbc-c81f66dd2a8f?api_key=RGAPI-a8b115a1-d191-4fab-b57c-0a7a5dd665c1\n",
      "151\n"
     ]
    },
    {
     "name": "stderr",
     "output_type": "stream",
     "text": [
      "C:\\Users\\utilisateur\\Documents\\MPSIS\\IPT\\WinPython-64bit-3.6.3.0Qt5\\python-3.6.3.amd64\\lib\\site-packages\\urllib3\\connectionpool.py:852: InsecureRequestWarning: Unverified HTTPS request is being made. Adding certificate verification is strongly advised. See: https://urllib3.readthedocs.io/en/latest/advanced-usage.html#ssl-warnings\n",
      "  InsecureRequestWarning)\n"
     ]
    },
    {
     "name": "stdout",
     "output_type": "stream",
     "text": [
      "https://euw1.api.riotgames.com/lol/league/v4/leagues/d52be270-2582-11e9-b404-c81f66dacb22?api_key=RGAPI-a8b115a1-d191-4fab-b57c-0a7a5dd665c1\n",
      "152\n"
     ]
    },
    {
     "name": "stderr",
     "output_type": "stream",
     "text": [
      "C:\\Users\\utilisateur\\Documents\\MPSIS\\IPT\\WinPython-64bit-3.6.3.0Qt5\\python-3.6.3.amd64\\lib\\site-packages\\urllib3\\connectionpool.py:852: InsecureRequestWarning: Unverified HTTPS request is being made. Adding certificate verification is strongly advised. See: https://urllib3.readthedocs.io/en/latest/advanced-usage.html#ssl-warnings\n",
      "  InsecureRequestWarning)\n"
     ]
    },
    {
     "name": "stdout",
     "output_type": "stream",
     "text": [
      "https://euw1.api.riotgames.com/lol/league/v4/leagues/2445dba0-2019-11e9-8c6b-c81f66db01ef?api_key=RGAPI-a8b115a1-d191-4fab-b57c-0a7a5dd665c1\n",
      "153\n"
     ]
    },
    {
     "name": "stderr",
     "output_type": "stream",
     "text": [
      "C:\\Users\\utilisateur\\Documents\\MPSIS\\IPT\\WinPython-64bit-3.6.3.0Qt5\\python-3.6.3.amd64\\lib\\site-packages\\urllib3\\connectionpool.py:852: InsecureRequestWarning: Unverified HTTPS request is being made. Adding certificate verification is strongly advised. See: https://urllib3.readthedocs.io/en/latest/advanced-usage.html#ssl-warnings\n",
      "  InsecureRequestWarning)\n"
     ]
    },
    {
     "name": "stdout",
     "output_type": "stream",
     "text": [
      "https://euw1.api.riotgames.com/lol/league/v4/leagues/31641190-23e7-11e9-8fc4-c81f66dd0e0d?api_key=RGAPI-a8b115a1-d191-4fab-b57c-0a7a5dd665c1\n",
      "154\n"
     ]
    },
    {
     "name": "stderr",
     "output_type": "stream",
     "text": [
      "C:\\Users\\utilisateur\\Documents\\MPSIS\\IPT\\WinPython-64bit-3.6.3.0Qt5\\python-3.6.3.amd64\\lib\\site-packages\\urllib3\\connectionpool.py:852: InsecureRequestWarning: Unverified HTTPS request is being made. Adding certificate verification is strongly advised. See: https://urllib3.readthedocs.io/en/latest/advanced-usage.html#ssl-warnings\n",
      "  InsecureRequestWarning)\n"
     ]
    },
    {
     "name": "stdout",
     "output_type": "stream",
     "text": [
      "https://euw1.api.riotgames.com/lol/league/v4/leagues/5f517c10-1fb8-11e9-a441-c81f66db01ef?api_key=RGAPI-a8b115a1-d191-4fab-b57c-0a7a5dd665c1\n",
      "155\n"
     ]
    },
    {
     "name": "stderr",
     "output_type": "stream",
     "text": [
      "C:\\Users\\utilisateur\\Documents\\MPSIS\\IPT\\WinPython-64bit-3.6.3.0Qt5\\python-3.6.3.amd64\\lib\\site-packages\\urllib3\\connectionpool.py:852: InsecureRequestWarning: Unverified HTTPS request is being made. Adding certificate verification is strongly advised. See: https://urllib3.readthedocs.io/en/latest/advanced-usage.html#ssl-warnings\n",
      "  InsecureRequestWarning)\n"
     ]
    },
    {
     "name": "stdout",
     "output_type": "stream",
     "text": [
      "https://euw1.api.riotgames.com/lol/league/v4/leagues/5fd076a0-1fe5-11e9-9dcb-c81f66dd0e0d?api_key=RGAPI-a8b115a1-d191-4fab-b57c-0a7a5dd665c1\n",
      "156\n"
     ]
    },
    {
     "name": "stderr",
     "output_type": "stream",
     "text": [
      "C:\\Users\\utilisateur\\Documents\\MPSIS\\IPT\\WinPython-64bit-3.6.3.0Qt5\\python-3.6.3.amd64\\lib\\site-packages\\urllib3\\connectionpool.py:852: InsecureRequestWarning: Unverified HTTPS request is being made. Adding certificate verification is strongly advised. See: https://urllib3.readthedocs.io/en/latest/advanced-usage.html#ssl-warnings\n",
      "  InsecureRequestWarning)\n"
     ]
    },
    {
     "name": "stdout",
     "output_type": "stream",
     "text": [
      "https://euw1.api.riotgames.com/lol/league/v4/leagues/19ca10c0-2b03-11e9-8f0b-c81f66dd2a8f?api_key=RGAPI-a8b115a1-d191-4fab-b57c-0a7a5dd665c1\n",
      "157\n"
     ]
    },
    {
     "name": "stderr",
     "output_type": "stream",
     "text": [
      "C:\\Users\\utilisateur\\Documents\\MPSIS\\IPT\\WinPython-64bit-3.6.3.0Qt5\\python-3.6.3.amd64\\lib\\site-packages\\urllib3\\connectionpool.py:852: InsecureRequestWarning: Unverified HTTPS request is being made. Adding certificate verification is strongly advised. See: https://urllib3.readthedocs.io/en/latest/advanced-usage.html#ssl-warnings\n",
      "  InsecureRequestWarning)\n"
     ]
    },
    {
     "name": "stdout",
     "output_type": "stream",
     "text": [
      "https://euw1.api.riotgames.com/lol/league/v4/leagues/fc2e3370-1fc7-11e9-a30f-c81f66dd0e0d?api_key=RGAPI-a8b115a1-d191-4fab-b57c-0a7a5dd665c1\n",
      "158\n"
     ]
    },
    {
     "name": "stderr",
     "output_type": "stream",
     "text": [
      "C:\\Users\\utilisateur\\Documents\\MPSIS\\IPT\\WinPython-64bit-3.6.3.0Qt5\\python-3.6.3.amd64\\lib\\site-packages\\urllib3\\connectionpool.py:852: InsecureRequestWarning: Unverified HTTPS request is being made. Adding certificate verification is strongly advised. See: https://urllib3.readthedocs.io/en/latest/advanced-usage.html#ssl-warnings\n",
      "  InsecureRequestWarning)\n"
     ]
    },
    {
     "name": "stdout",
     "output_type": "stream",
     "text": [
      "https://euw1.api.riotgames.com/lol/league/v4/leagues/c205fcd0-20e6-11e9-8305-c81f66dd0e0d?api_key=RGAPI-a8b115a1-d191-4fab-b57c-0a7a5dd665c1\n",
      "159\n"
     ]
    },
    {
     "name": "stderr",
     "output_type": "stream",
     "text": [
      "C:\\Users\\utilisateur\\Documents\\MPSIS\\IPT\\WinPython-64bit-3.6.3.0Qt5\\python-3.6.3.amd64\\lib\\site-packages\\urllib3\\connectionpool.py:852: InsecureRequestWarning: Unverified HTTPS request is being made. Adding certificate verification is strongly advised. See: https://urllib3.readthedocs.io/en/latest/advanced-usage.html#ssl-warnings\n",
      "  InsecureRequestWarning)\n"
     ]
    },
    {
     "name": "stdout",
     "output_type": "stream",
     "text": [
      "https://euw1.api.riotgames.com/lol/league/v4/leagues/aa8c4d90-1fa4-11e9-b945-c81f66dd2a8f?api_key=RGAPI-a8b115a1-d191-4fab-b57c-0a7a5dd665c1\n",
      "160\n"
     ]
    },
    {
     "name": "stderr",
     "output_type": "stream",
     "text": [
      "C:\\Users\\utilisateur\\Documents\\MPSIS\\IPT\\WinPython-64bit-3.6.3.0Qt5\\python-3.6.3.amd64\\lib\\site-packages\\urllib3\\connectionpool.py:852: InsecureRequestWarning: Unverified HTTPS request is being made. Adding certificate verification is strongly advised. See: https://urllib3.readthedocs.io/en/latest/advanced-usage.html#ssl-warnings\n",
      "  InsecureRequestWarning)\n"
     ]
    },
    {
     "name": "stdout",
     "output_type": "stream",
     "text": [
      "https://euw1.api.riotgames.com/lol/league/v4/leagues/975ef110-1fee-11e9-a441-c81f66db01ef?api_key=RGAPI-a8b115a1-d191-4fab-b57c-0a7a5dd665c1\n",
      "161\n"
     ]
    },
    {
     "name": "stderr",
     "output_type": "stream",
     "text": [
      "C:\\Users\\utilisateur\\Documents\\MPSIS\\IPT\\WinPython-64bit-3.6.3.0Qt5\\python-3.6.3.amd64\\lib\\site-packages\\urllib3\\connectionpool.py:852: InsecureRequestWarning: Unverified HTTPS request is being made. Adding certificate verification is strongly advised. See: https://urllib3.readthedocs.io/en/latest/advanced-usage.html#ssl-warnings\n",
      "  InsecureRequestWarning)\n"
     ]
    },
    {
     "name": "stdout",
     "output_type": "stream",
     "text": [
      "https://euw1.api.riotgames.com/lol/league/v4/leagues/1efe14c0-1ff4-11e9-a30f-c81f66dd0e0d?api_key=RGAPI-a8b115a1-d191-4fab-b57c-0a7a5dd665c1\n",
      "162\n"
     ]
    },
    {
     "name": "stderr",
     "output_type": "stream",
     "text": [
      "C:\\Users\\utilisateur\\Documents\\MPSIS\\IPT\\WinPython-64bit-3.6.3.0Qt5\\python-3.6.3.amd64\\lib\\site-packages\\urllib3\\connectionpool.py:852: InsecureRequestWarning: Unverified HTTPS request is being made. Adding certificate verification is strongly advised. See: https://urllib3.readthedocs.io/en/latest/advanced-usage.html#ssl-warnings\n",
      "  InsecureRequestWarning)\n"
     ]
    },
    {
     "name": "stdout",
     "output_type": "stream",
     "text": [
      "https://euw1.api.riotgames.com/lol/league/v4/leagues/1f330fc0-20aa-11e9-afeb-c81f66db01ef?api_key=RGAPI-a8b115a1-d191-4fab-b57c-0a7a5dd665c1\n",
      "163\n"
     ]
    },
    {
     "name": "stderr",
     "output_type": "stream",
     "text": [
      "C:\\Users\\utilisateur\\Documents\\MPSIS\\IPT\\WinPython-64bit-3.6.3.0Qt5\\python-3.6.3.amd64\\lib\\site-packages\\urllib3\\connectionpool.py:852: InsecureRequestWarning: Unverified HTTPS request is being made. Adding certificate verification is strongly advised. See: https://urllib3.readthedocs.io/en/latest/advanced-usage.html#ssl-warnings\n",
      "  InsecureRequestWarning)\n"
     ]
    },
    {
     "name": "stdout",
     "output_type": "stream",
     "text": [
      "https://euw1.api.riotgames.com/lol/league/v4/leagues/e62bc120-2015-11e9-bcbc-c81f66dd2a8f?api_key=RGAPI-a8b115a1-d191-4fab-b57c-0a7a5dd665c1\n",
      "164\n"
     ]
    },
    {
     "name": "stderr",
     "output_type": "stream",
     "text": [
      "C:\\Users\\utilisateur\\Documents\\MPSIS\\IPT\\WinPython-64bit-3.6.3.0Qt5\\python-3.6.3.amd64\\lib\\site-packages\\urllib3\\connectionpool.py:852: InsecureRequestWarning: Unverified HTTPS request is being made. Adding certificate verification is strongly advised. See: https://urllib3.readthedocs.io/en/latest/advanced-usage.html#ssl-warnings\n",
      "  InsecureRequestWarning)\n"
     ]
    },
    {
     "name": "stdout",
     "output_type": "stream",
     "text": [
      "https://euw1.api.riotgames.com/lol/league/v4/leagues/fbc9ba20-22d9-11e9-853c-c81f66dd0e0d?api_key=RGAPI-a8b115a1-d191-4fab-b57c-0a7a5dd665c1\n",
      "165\n"
     ]
    },
    {
     "name": "stderr",
     "output_type": "stream",
     "text": [
      "C:\\Users\\utilisateur\\Documents\\MPSIS\\IPT\\WinPython-64bit-3.6.3.0Qt5\\python-3.6.3.amd64\\lib\\site-packages\\urllib3\\connectionpool.py:852: InsecureRequestWarning: Unverified HTTPS request is being made. Adding certificate verification is strongly advised. See: https://urllib3.readthedocs.io/en/latest/advanced-usage.html#ssl-warnings\n",
      "  InsecureRequestWarning)\n"
     ]
    },
    {
     "name": "stdout",
     "output_type": "stream",
     "text": [
      "https://euw1.api.riotgames.com/lol/league/v4/leagues/c6c090b0-23f1-11e9-9093-c81f66db01ef?api_key=RGAPI-a8b115a1-d191-4fab-b57c-0a7a5dd665c1\n",
      "166\n"
     ]
    },
    {
     "name": "stderr",
     "output_type": "stream",
     "text": [
      "C:\\Users\\utilisateur\\Documents\\MPSIS\\IPT\\WinPython-64bit-3.6.3.0Qt5\\python-3.6.3.amd64\\lib\\site-packages\\urllib3\\connectionpool.py:852: InsecureRequestWarning: Unverified HTTPS request is being made. Adding certificate verification is strongly advised. See: https://urllib3.readthedocs.io/en/latest/advanced-usage.html#ssl-warnings\n",
      "  InsecureRequestWarning)\n"
     ]
    },
    {
     "name": "stdout",
     "output_type": "stream",
     "text": [
      "https://euw1.api.riotgames.com/lol/league/v4/leagues/c4f37dd0-20fc-11e9-9883-c81f66dd2a8f?api_key=RGAPI-a8b115a1-d191-4fab-b57c-0a7a5dd665c1\n",
      "167\n"
     ]
    },
    {
     "name": "stderr",
     "output_type": "stream",
     "text": [
      "C:\\Users\\utilisateur\\Documents\\MPSIS\\IPT\\WinPython-64bit-3.6.3.0Qt5\\python-3.6.3.amd64\\lib\\site-packages\\urllib3\\connectionpool.py:852: InsecureRequestWarning: Unverified HTTPS request is being made. Adding certificate verification is strongly advised. See: https://urllib3.readthedocs.io/en/latest/advanced-usage.html#ssl-warnings\n",
      "  InsecureRequestWarning)\n"
     ]
    },
    {
     "name": "stdout",
     "output_type": "stream",
     "text": [
      "https://euw1.api.riotgames.com/lol/league/v4/leagues/5e80ad00-2004-11e9-9adc-c81f66dacb22?api_key=RGAPI-a8b115a1-d191-4fab-b57c-0a7a5dd665c1\n",
      "168\n"
     ]
    },
    {
     "name": "stderr",
     "output_type": "stream",
     "text": [
      "C:\\Users\\utilisateur\\Documents\\MPSIS\\IPT\\WinPython-64bit-3.6.3.0Qt5\\python-3.6.3.amd64\\lib\\site-packages\\urllib3\\connectionpool.py:852: InsecureRequestWarning: Unverified HTTPS request is being made. Adding certificate verification is strongly advised. See: https://urllib3.readthedocs.io/en/latest/advanced-usage.html#ssl-warnings\n",
      "  InsecureRequestWarning)\n"
     ]
    },
    {
     "name": "stdout",
     "output_type": "stream",
     "text": [
      "https://euw1.api.riotgames.com/lol/league/v4/leagues/d2f689c0-1fcd-11e9-99ab-c81f66dd2a8f?api_key=RGAPI-a8b115a1-d191-4fab-b57c-0a7a5dd665c1\n",
      "169\n"
     ]
    },
    {
     "name": "stderr",
     "output_type": "stream",
     "text": [
      "C:\\Users\\utilisateur\\Documents\\MPSIS\\IPT\\WinPython-64bit-3.6.3.0Qt5\\python-3.6.3.amd64\\lib\\site-packages\\urllib3\\connectionpool.py:852: InsecureRequestWarning: Unverified HTTPS request is being made. Adding certificate verification is strongly advised. See: https://urllib3.readthedocs.io/en/latest/advanced-usage.html#ssl-warnings\n",
      "  InsecureRequestWarning)\n"
     ]
    },
    {
     "name": "stdout",
     "output_type": "stream",
     "text": [
      "https://euw1.api.riotgames.com/lol/league/v4/leagues/669f8540-20c4-11e9-9c08-c81f66db01ef?api_key=RGAPI-a8b115a1-d191-4fab-b57c-0a7a5dd665c1\n",
      "170\n"
     ]
    },
    {
     "name": "stderr",
     "output_type": "stream",
     "text": [
      "C:\\Users\\utilisateur\\Documents\\MPSIS\\IPT\\WinPython-64bit-3.6.3.0Qt5\\python-3.6.3.amd64\\lib\\site-packages\\urllib3\\connectionpool.py:852: InsecureRequestWarning: Unverified HTTPS request is being made. Adding certificate verification is strongly advised. See: https://urllib3.readthedocs.io/en/latest/advanced-usage.html#ssl-warnings\n",
      "  InsecureRequestWarning)\n"
     ]
    },
    {
     "name": "stdout",
     "output_type": "stream",
     "text": [
      "https://euw1.api.riotgames.com/lol/league/v4/leagues/f07cfcb0-1fb7-11e9-b919-c81f66dd0e0d?api_key=RGAPI-a8b115a1-d191-4fab-b57c-0a7a5dd665c1\n",
      "171\n"
     ]
    },
    {
     "name": "stderr",
     "output_type": "stream",
     "text": [
      "C:\\Users\\utilisateur\\Documents\\MPSIS\\IPT\\WinPython-64bit-3.6.3.0Qt5\\python-3.6.3.amd64\\lib\\site-packages\\urllib3\\connectionpool.py:852: InsecureRequestWarning: Unverified HTTPS request is being made. Adding certificate verification is strongly advised. See: https://urllib3.readthedocs.io/en/latest/advanced-usage.html#ssl-warnings\n",
      "  InsecureRequestWarning)\n"
     ]
    },
    {
     "name": "stdout",
     "output_type": "stream",
     "text": [
      "https://euw1.api.riotgames.com/lol/league/v4/leagues/b95e1580-1fc5-11e9-bb10-c81f66dd2a8f?api_key=RGAPI-a8b115a1-d191-4fab-b57c-0a7a5dd665c1\n",
      "172\n"
     ]
    },
    {
     "name": "stderr",
     "output_type": "stream",
     "text": [
      "C:\\Users\\utilisateur\\Documents\\MPSIS\\IPT\\WinPython-64bit-3.6.3.0Qt5\\python-3.6.3.amd64\\lib\\site-packages\\urllib3\\connectionpool.py:852: InsecureRequestWarning: Unverified HTTPS request is being made. Adding certificate verification is strongly advised. See: https://urllib3.readthedocs.io/en/latest/advanced-usage.html#ssl-warnings\n",
      "  InsecureRequestWarning)\n"
     ]
    },
    {
     "name": "stdout",
     "output_type": "stream",
     "text": [
      "https://euw1.api.riotgames.com/lol/league/v4/leagues/e6570df0-1fb4-11e9-99ab-c81f66dd2a8f?api_key=RGAPI-a8b115a1-d191-4fab-b57c-0a7a5dd665c1\n",
      "173\n"
     ]
    },
    {
     "name": "stderr",
     "output_type": "stream",
     "text": [
      "C:\\Users\\utilisateur\\Documents\\MPSIS\\IPT\\WinPython-64bit-3.6.3.0Qt5\\python-3.6.3.amd64\\lib\\site-packages\\urllib3\\connectionpool.py:852: InsecureRequestWarning: Unverified HTTPS request is being made. Adding certificate verification is strongly advised. See: https://urllib3.readthedocs.io/en/latest/advanced-usage.html#ssl-warnings\n",
      "  InsecureRequestWarning)\n"
     ]
    },
    {
     "name": "stdout",
     "output_type": "stream",
     "text": [
      "https://euw1.api.riotgames.com/lol/league/v4/leagues/fee24630-1fe3-11e9-bcbc-c81f66dd2a8f?api_key=RGAPI-a8b115a1-d191-4fab-b57c-0a7a5dd665c1\n",
      "174\n"
     ]
    },
    {
     "name": "stderr",
     "output_type": "stream",
     "text": [
      "C:\\Users\\utilisateur\\Documents\\MPSIS\\IPT\\WinPython-64bit-3.6.3.0Qt5\\python-3.6.3.amd64\\lib\\site-packages\\urllib3\\connectionpool.py:852: InsecureRequestWarning: Unverified HTTPS request is being made. Adding certificate verification is strongly advised. See: https://urllib3.readthedocs.io/en/latest/advanced-usage.html#ssl-warnings\n",
      "  InsecureRequestWarning)\n"
     ]
    },
    {
     "name": "stdout",
     "output_type": "stream",
     "text": [
      "https://euw1.api.riotgames.com/lol/league/v4/leagues/6ff00ca0-21b9-11e9-b16a-c81f66dd2a8f?api_key=RGAPI-a8b115a1-d191-4fab-b57c-0a7a5dd665c1\n",
      "175\n"
     ]
    },
    {
     "name": "stderr",
     "output_type": "stream",
     "text": [
      "C:\\Users\\utilisateur\\Documents\\MPSIS\\IPT\\WinPython-64bit-3.6.3.0Qt5\\python-3.6.3.amd64\\lib\\site-packages\\urllib3\\connectionpool.py:852: InsecureRequestWarning: Unverified HTTPS request is being made. Adding certificate verification is strongly advised. See: https://urllib3.readthedocs.io/en/latest/advanced-usage.html#ssl-warnings\n",
      "  InsecureRequestWarning)\n"
     ]
    },
    {
     "name": "stdout",
     "output_type": "stream",
     "text": [
      "https://euw1.api.riotgames.com/lol/league/v4/leagues/2fac6940-2c68-11e9-8e56-c81f66dd0e0d?api_key=RGAPI-a8b115a1-d191-4fab-b57c-0a7a5dd665c1\n",
      "176\n"
     ]
    },
    {
     "name": "stderr",
     "output_type": "stream",
     "text": [
      "C:\\Users\\utilisateur\\Documents\\MPSIS\\IPT\\WinPython-64bit-3.6.3.0Qt5\\python-3.6.3.amd64\\lib\\site-packages\\urllib3\\connectionpool.py:852: InsecureRequestWarning: Unverified HTTPS request is being made. Adding certificate verification is strongly advised. See: https://urllib3.readthedocs.io/en/latest/advanced-usage.html#ssl-warnings\n",
      "  InsecureRequestWarning)\n"
     ]
    },
    {
     "name": "stdout",
     "output_type": "stream",
     "text": [
      "https://euw1.api.riotgames.com/lol/league/v4/leagues/3942c0c0-20bb-11e9-a55c-c81f66dd2a8f?api_key=RGAPI-a8b115a1-d191-4fab-b57c-0a7a5dd665c1\n",
      "177\n"
     ]
    },
    {
     "name": "stderr",
     "output_type": "stream",
     "text": [
      "C:\\Users\\utilisateur\\Documents\\MPSIS\\IPT\\WinPython-64bit-3.6.3.0Qt5\\python-3.6.3.amd64\\lib\\site-packages\\urllib3\\connectionpool.py:852: InsecureRequestWarning: Unverified HTTPS request is being made. Adding certificate verification is strongly advised. See: https://urllib3.readthedocs.io/en/latest/advanced-usage.html#ssl-warnings\n",
      "  InsecureRequestWarning)\n"
     ]
    },
    {
     "name": "stdout",
     "output_type": "stream",
     "text": [
      "https://euw1.api.riotgames.com/lol/league/v4/leagues/aa8c4d90-1fa4-11e9-b945-c81f66dd2a8f?api_key=RGAPI-a8b115a1-d191-4fab-b57c-0a7a5dd665c1\n",
      "178\n"
     ]
    },
    {
     "name": "stderr",
     "output_type": "stream",
     "text": [
      "C:\\Users\\utilisateur\\Documents\\MPSIS\\IPT\\WinPython-64bit-3.6.3.0Qt5\\python-3.6.3.amd64\\lib\\site-packages\\urllib3\\connectionpool.py:852: InsecureRequestWarning: Unverified HTTPS request is being made. Adding certificate verification is strongly advised. See: https://urllib3.readthedocs.io/en/latest/advanced-usage.html#ssl-warnings\n",
      "  InsecureRequestWarning)\n"
     ]
    },
    {
     "name": "stdout",
     "output_type": "stream",
     "text": [
      "https://euw1.api.riotgames.com/lol/league/v4/leagues/319c7710-1fff-11e9-99ab-c81f66dd2a8f?api_key=RGAPI-a8b115a1-d191-4fab-b57c-0a7a5dd665c1\n",
      "179\n"
     ]
    },
    {
     "name": "stderr",
     "output_type": "stream",
     "text": [
      "C:\\Users\\utilisateur\\Documents\\MPSIS\\IPT\\WinPython-64bit-3.6.3.0Qt5\\python-3.6.3.amd64\\lib\\site-packages\\urllib3\\connectionpool.py:852: InsecureRequestWarning: Unverified HTTPS request is being made. Adding certificate verification is strongly advised. See: https://urllib3.readthedocs.io/en/latest/advanced-usage.html#ssl-warnings\n",
      "  InsecureRequestWarning)\n"
     ]
    },
    {
     "name": "stdout",
     "output_type": "stream",
     "text": [
      "https://euw1.api.riotgames.com/lol/league/v4/leagues/c194bc90-297a-11e9-a977-c81f66dd2a8f?api_key=RGAPI-a8b115a1-d191-4fab-b57c-0a7a5dd665c1\n",
      "180\n"
     ]
    },
    {
     "name": "stderr",
     "output_type": "stream",
     "text": [
      "C:\\Users\\utilisateur\\Documents\\MPSIS\\IPT\\WinPython-64bit-3.6.3.0Qt5\\python-3.6.3.amd64\\lib\\site-packages\\urllib3\\connectionpool.py:852: InsecureRequestWarning: Unverified HTTPS request is being made. Adding certificate verification is strongly advised. See: https://urllib3.readthedocs.io/en/latest/advanced-usage.html#ssl-warnings\n",
      "  InsecureRequestWarning)\n"
     ]
    },
    {
     "name": "stdout",
     "output_type": "stream",
     "text": [
      "https://euw1.api.riotgames.com/lol/league/v4/leagues/9feaa8c0-215a-11e9-9093-c81f66db01ef?api_key=RGAPI-a8b115a1-d191-4fab-b57c-0a7a5dd665c1\n",
      "181\n"
     ]
    },
    {
     "name": "stderr",
     "output_type": "stream",
     "text": [
      "C:\\Users\\utilisateur\\Documents\\MPSIS\\IPT\\WinPython-64bit-3.6.3.0Qt5\\python-3.6.3.amd64\\lib\\site-packages\\urllib3\\connectionpool.py:852: InsecureRequestWarning: Unverified HTTPS request is being made. Adding certificate verification is strongly advised. See: https://urllib3.readthedocs.io/en/latest/advanced-usage.html#ssl-warnings\n",
      "  InsecureRequestWarning)\n"
     ]
    },
    {
     "name": "stdout",
     "output_type": "stream",
     "text": [
      "https://euw1.api.riotgames.com/lol/league/v4/leagues/b263e1e0-1fdb-11e9-a30f-c81f66dd0e0d?api_key=RGAPI-a8b115a1-d191-4fab-b57c-0a7a5dd665c1\n",
      "182\n"
     ]
    },
    {
     "name": "stderr",
     "output_type": "stream",
     "text": [
      "C:\\Users\\utilisateur\\Documents\\MPSIS\\IPT\\WinPython-64bit-3.6.3.0Qt5\\python-3.6.3.amd64\\lib\\site-packages\\urllib3\\connectionpool.py:852: InsecureRequestWarning: Unverified HTTPS request is being made. Adding certificate verification is strongly advised. See: https://urllib3.readthedocs.io/en/latest/advanced-usage.html#ssl-warnings\n",
      "  InsecureRequestWarning)\n"
     ]
    },
    {
     "name": "stdout",
     "output_type": "stream",
     "text": [
      "https://euw1.api.riotgames.com/lol/league/v4/leagues/ebda4350-219e-11e9-8c3b-c81f66dd2a8f?api_key=RGAPI-a8b115a1-d191-4fab-b57c-0a7a5dd665c1\n",
      "183\n"
     ]
    },
    {
     "name": "stderr",
     "output_type": "stream",
     "text": [
      "C:\\Users\\utilisateur\\Documents\\MPSIS\\IPT\\WinPython-64bit-3.6.3.0Qt5\\python-3.6.3.amd64\\lib\\site-packages\\urllib3\\connectionpool.py:852: InsecureRequestWarning: Unverified HTTPS request is being made. Adding certificate verification is strongly advised. See: https://urllib3.readthedocs.io/en/latest/advanced-usage.html#ssl-warnings\n",
      "  InsecureRequestWarning)\n"
     ]
    },
    {
     "name": "stdout",
     "output_type": "stream",
     "text": [
      "https://euw1.api.riotgames.com/lol/league/v4/leagues/f9135320-1fac-11e9-9adc-c81f66dacb22?api_key=RGAPI-a8b115a1-d191-4fab-b57c-0a7a5dd665c1\n",
      "184\n"
     ]
    },
    {
     "name": "stderr",
     "output_type": "stream",
     "text": [
      "C:\\Users\\utilisateur\\Documents\\MPSIS\\IPT\\WinPython-64bit-3.6.3.0Qt5\\python-3.6.3.amd64\\lib\\site-packages\\urllib3\\connectionpool.py:852: InsecureRequestWarning: Unverified HTTPS request is being made. Adding certificate verification is strongly advised. See: https://urllib3.readthedocs.io/en/latest/advanced-usage.html#ssl-warnings\n",
      "  InsecureRequestWarning)\n"
     ]
    },
    {
     "name": "stdout",
     "output_type": "stream",
     "text": [
      "https://euw1.api.riotgames.com/lol/league/v4/leagues/db7f44a0-200f-11e9-9adc-c81f66dacb22?api_key=RGAPI-a8b115a1-d191-4fab-b57c-0a7a5dd665c1\n",
      "185\n"
     ]
    },
    {
     "name": "stderr",
     "output_type": "stream",
     "text": [
      "C:\\Users\\utilisateur\\Documents\\MPSIS\\IPT\\WinPython-64bit-3.6.3.0Qt5\\python-3.6.3.amd64\\lib\\site-packages\\urllib3\\connectionpool.py:852: InsecureRequestWarning: Unverified HTTPS request is being made. Adding certificate verification is strongly advised. See: https://urllib3.readthedocs.io/en/latest/advanced-usage.html#ssl-warnings\n",
      "  InsecureRequestWarning)\n"
     ]
    },
    {
     "name": "stdout",
     "output_type": "stream",
     "text": [
      "https://euw1.api.riotgames.com/lol/league/v4/leagues/dd638510-1ffb-11e9-af08-c81f66db01ef?api_key=RGAPI-a8b115a1-d191-4fab-b57c-0a7a5dd665c1\n",
      "186\n"
     ]
    },
    {
     "name": "stderr",
     "output_type": "stream",
     "text": [
      "C:\\Users\\utilisateur\\Documents\\MPSIS\\IPT\\WinPython-64bit-3.6.3.0Qt5\\python-3.6.3.amd64\\lib\\site-packages\\urllib3\\connectionpool.py:852: InsecureRequestWarning: Unverified HTTPS request is being made. Adding certificate verification is strongly advised. See: https://urllib3.readthedocs.io/en/latest/advanced-usage.html#ssl-warnings\n",
      "  InsecureRequestWarning)\n"
     ]
    },
    {
     "name": "stdout",
     "output_type": "stream",
     "text": [
      "https://euw1.api.riotgames.com/lol/league/v4/leagues/b2fc2cb0-21bc-11e9-bc51-c81f66dd2a8f?api_key=RGAPI-a8b115a1-d191-4fab-b57c-0a7a5dd665c1\n",
      "187\n"
     ]
    },
    {
     "name": "stderr",
     "output_type": "stream",
     "text": [
      "C:\\Users\\utilisateur\\Documents\\MPSIS\\IPT\\WinPython-64bit-3.6.3.0Qt5\\python-3.6.3.amd64\\lib\\site-packages\\urllib3\\connectionpool.py:852: InsecureRequestWarning: Unverified HTTPS request is being made. Adding certificate verification is strongly advised. See: https://urllib3.readthedocs.io/en/latest/advanced-usage.html#ssl-warnings\n",
      "  InsecureRequestWarning)\n"
     ]
    },
    {
     "name": "stdout",
     "output_type": "stream",
     "text": [
      "https://euw1.api.riotgames.com/lol/league/v4/leagues/521e4df0-21d1-11e9-8726-c81f66db01ef?api_key=RGAPI-a8b115a1-d191-4fab-b57c-0a7a5dd665c1\n",
      "188\n"
     ]
    },
    {
     "name": "stderr",
     "output_type": "stream",
     "text": [
      "C:\\Users\\utilisateur\\Documents\\MPSIS\\IPT\\WinPython-64bit-3.6.3.0Qt5\\python-3.6.3.amd64\\lib\\site-packages\\urllib3\\connectionpool.py:852: InsecureRequestWarning: Unverified HTTPS request is being made. Adding certificate verification is strongly advised. See: https://urllib3.readthedocs.io/en/latest/advanced-usage.html#ssl-warnings\n",
      "  InsecureRequestWarning)\n"
     ]
    },
    {
     "name": "stdout",
     "output_type": "stream",
     "text": [
      "https://euw1.api.riotgames.com/lol/league/v4/leagues/283929f0-1fd9-11e9-a441-c81f66db01ef?api_key=RGAPI-a8b115a1-d191-4fab-b57c-0a7a5dd665c1\n",
      "189\n"
     ]
    },
    {
     "name": "stderr",
     "output_type": "stream",
     "text": [
      "C:\\Users\\utilisateur\\Documents\\MPSIS\\IPT\\WinPython-64bit-3.6.3.0Qt5\\python-3.6.3.amd64\\lib\\site-packages\\urllib3\\connectionpool.py:852: InsecureRequestWarning: Unverified HTTPS request is being made. Adding certificate verification is strongly advised. See: https://urllib3.readthedocs.io/en/latest/advanced-usage.html#ssl-warnings\n",
      "  InsecureRequestWarning)\n"
     ]
    },
    {
     "name": "stdout",
     "output_type": "stream",
     "text": [
      "https://euw1.api.riotgames.com/lol/league/v4/leagues/6e4e73b0-1fce-11e9-bcbc-c81f66dd2a8f?api_key=RGAPI-a8b115a1-d191-4fab-b57c-0a7a5dd665c1\n",
      "190\n"
     ]
    },
    {
     "name": "stderr",
     "output_type": "stream",
     "text": [
      "C:\\Users\\utilisateur\\Documents\\MPSIS\\IPT\\WinPython-64bit-3.6.3.0Qt5\\python-3.6.3.amd64\\lib\\site-packages\\urllib3\\connectionpool.py:852: InsecureRequestWarning: Unverified HTTPS request is being made. Adding certificate verification is strongly advised. See: https://urllib3.readthedocs.io/en/latest/advanced-usage.html#ssl-warnings\n",
      "  InsecureRequestWarning)\n"
     ]
    },
    {
     "name": "stdout",
     "output_type": "stream",
     "text": [
      "https://euw1.api.riotgames.com/lol/league/v4/leagues/76c2c720-27ae-11e9-9093-c81f66db01ef?api_key=RGAPI-a8b115a1-d191-4fab-b57c-0a7a5dd665c1\n",
      "191\n"
     ]
    },
    {
     "name": "stderr",
     "output_type": "stream",
     "text": [
      "C:\\Users\\utilisateur\\Documents\\MPSIS\\IPT\\WinPython-64bit-3.6.3.0Qt5\\python-3.6.3.amd64\\lib\\site-packages\\urllib3\\connectionpool.py:852: InsecureRequestWarning: Unverified HTTPS request is being made. Adding certificate verification is strongly advised. See: https://urllib3.readthedocs.io/en/latest/advanced-usage.html#ssl-warnings\n",
      "  InsecureRequestWarning)\n"
     ]
    },
    {
     "name": "stdout",
     "output_type": "stream",
     "text": [
      "https://euw1.api.riotgames.com/lol/league/v4/leagues/8b9c86d0-1fdf-11e9-9b9b-c81f66db01ef?api_key=RGAPI-a8b115a1-d191-4fab-b57c-0a7a5dd665c1\n",
      "192\n"
     ]
    },
    {
     "name": "stderr",
     "output_type": "stream",
     "text": [
      "C:\\Users\\utilisateur\\Documents\\MPSIS\\IPT\\WinPython-64bit-3.6.3.0Qt5\\python-3.6.3.amd64\\lib\\site-packages\\urllib3\\connectionpool.py:852: InsecureRequestWarning: Unverified HTTPS request is being made. Adding certificate verification is strongly advised. See: https://urllib3.readthedocs.io/en/latest/advanced-usage.html#ssl-warnings\n",
      "  InsecureRequestWarning)\n"
     ]
    },
    {
     "name": "stdout",
     "output_type": "stream",
     "text": [
      "https://euw1.api.riotgames.com/lol/league/v4/leagues/95305bd0-1fef-11e9-a553-c81f66dacb22?api_key=RGAPI-a8b115a1-d191-4fab-b57c-0a7a5dd665c1\n",
      "193\n"
     ]
    },
    {
     "name": "stderr",
     "output_type": "stream",
     "text": [
      "C:\\Users\\utilisateur\\Documents\\MPSIS\\IPT\\WinPython-64bit-3.6.3.0Qt5\\python-3.6.3.amd64\\lib\\site-packages\\urllib3\\connectionpool.py:852: InsecureRequestWarning: Unverified HTTPS request is being made. Adding certificate verification is strongly advised. See: https://urllib3.readthedocs.io/en/latest/advanced-usage.html#ssl-warnings\n",
      "  InsecureRequestWarning)\n"
     ]
    },
    {
     "name": "stdout",
     "output_type": "stream",
     "text": [
      "https://euw1.api.riotgames.com/lol/league/v4/leagues/944b0160-2630-11e9-af82-c81f66dacb22?api_key=RGAPI-a8b115a1-d191-4fab-b57c-0a7a5dd665c1\n"
     ]
    },
    {
     "name": "stderr",
     "output_type": "stream",
     "text": [
      "C:\\Users\\utilisateur\\Documents\\MPSIS\\IPT\\WinPython-64bit-3.6.3.0Qt5\\python-3.6.3.amd64\\lib\\site-packages\\urllib3\\connectionpool.py:852: InsecureRequestWarning: Unverified HTTPS request is being made. Adding certificate verification is strongly advised. See: https://urllib3.readthedocs.io/en/latest/advanced-usage.html#ssl-warnings\n",
      "  InsecureRequestWarning)\n",
      "C:\\Users\\utilisateur\\Documents\\MPSIS\\IPT\\WinPython-64bit-3.6.3.0Qt5\\python-3.6.3.amd64\\lib\\site-packages\\urllib3\\connectionpool.py:852: InsecureRequestWarning: Unverified HTTPS request is being made. Adding certificate verification is strongly advised. See: https://urllib3.readthedocs.io/en/latest/advanced-usage.html#ssl-warnings\n",
      "  InsecureRequestWarning)\n"
     ]
    },
    {
     "name": "stdout",
     "output_type": "stream",
     "text": [
      "194\n",
      "https://euw1.api.riotgames.com/lol/league/v4/leagues/289a2af0-1fb3-11e9-8ff7-c81f66dd0e0d?api_key=RGAPI-a8b115a1-d191-4fab-b57c-0a7a5dd665c1\n",
      "195\n"
     ]
    },
    {
     "name": "stderr",
     "output_type": "stream",
     "text": [
      "C:\\Users\\utilisateur\\Documents\\MPSIS\\IPT\\WinPython-64bit-3.6.3.0Qt5\\python-3.6.3.amd64\\lib\\site-packages\\urllib3\\connectionpool.py:852: InsecureRequestWarning: Unverified HTTPS request is being made. Adding certificate verification is strongly advised. See: https://urllib3.readthedocs.io/en/latest/advanced-usage.html#ssl-warnings\n",
      "  InsecureRequestWarning)\n"
     ]
    },
    {
     "name": "stdout",
     "output_type": "stream",
     "text": [
      "https://euw1.api.riotgames.com/lol/league/v4/leagues/2fcde650-1fb7-11e9-bb10-c81f66dd2a8f?api_key=RGAPI-a8b115a1-d191-4fab-b57c-0a7a5dd665c1\n",
      "196\n"
     ]
    },
    {
     "name": "stderr",
     "output_type": "stream",
     "text": [
      "C:\\Users\\utilisateur\\Documents\\MPSIS\\IPT\\WinPython-64bit-3.6.3.0Qt5\\python-3.6.3.amd64\\lib\\site-packages\\urllib3\\connectionpool.py:852: InsecureRequestWarning: Unverified HTTPS request is being made. Adding certificate verification is strongly advised. See: https://urllib3.readthedocs.io/en/latest/advanced-usage.html#ssl-warnings\n",
      "  InsecureRequestWarning)\n"
     ]
    },
    {
     "name": "stdout",
     "output_type": "stream",
     "text": [
      "https://euw1.api.riotgames.com/lol/league/v4/leagues/19854210-1feb-11e9-8c6b-c81f66db01ef?api_key=RGAPI-a8b115a1-d191-4fab-b57c-0a7a5dd665c1\n",
      "197\n"
     ]
    },
    {
     "name": "stderr",
     "output_type": "stream",
     "text": [
      "C:\\Users\\utilisateur\\Documents\\MPSIS\\IPT\\WinPython-64bit-3.6.3.0Qt5\\python-3.6.3.amd64\\lib\\site-packages\\urllib3\\connectionpool.py:852: InsecureRequestWarning: Unverified HTTPS request is being made. Adding certificate verification is strongly advised. See: https://urllib3.readthedocs.io/en/latest/advanced-usage.html#ssl-warnings\n",
      "  InsecureRequestWarning)\n"
     ]
    },
    {
     "name": "stdout",
     "output_type": "stream",
     "text": [
      "https://euw1.api.riotgames.com/lol/league/v4/leagues/180e77f0-2098-11e9-b350-c81f66dd2a8f?api_key=RGAPI-a8b115a1-d191-4fab-b57c-0a7a5dd665c1\n",
      "198\n"
     ]
    },
    {
     "name": "stderr",
     "output_type": "stream",
     "text": [
      "C:\\Users\\utilisateur\\Documents\\MPSIS\\IPT\\WinPython-64bit-3.6.3.0Qt5\\python-3.6.3.amd64\\lib\\site-packages\\urllib3\\connectionpool.py:852: InsecureRequestWarning: Unverified HTTPS request is being made. Adding certificate verification is strongly advised. See: https://urllib3.readthedocs.io/en/latest/advanced-usage.html#ssl-warnings\n",
      "  InsecureRequestWarning)\n"
     ]
    },
    {
     "name": "stdout",
     "output_type": "stream",
     "text": [
      "https://euw1.api.riotgames.com/lol/league/v4/leagues/2445dba0-2019-11e9-8c6b-c81f66db01ef?api_key=RGAPI-a8b115a1-d191-4fab-b57c-0a7a5dd665c1\n",
      "199\n"
     ]
    },
    {
     "name": "stderr",
     "output_type": "stream",
     "text": [
      "C:\\Users\\utilisateur\\Documents\\MPSIS\\IPT\\WinPython-64bit-3.6.3.0Qt5\\python-3.6.3.amd64\\lib\\site-packages\\urllib3\\connectionpool.py:852: InsecureRequestWarning: Unverified HTTPS request is being made. Adding certificate verification is strongly advised. See: https://urllib3.readthedocs.io/en/latest/advanced-usage.html#ssl-warnings\n",
      "  InsecureRequestWarning)\n"
     ]
    },
    {
     "name": "stdout",
     "output_type": "stream",
     "text": [
      "https://euw1.api.riotgames.com/lol/league/v4/leagues/a8a75230-1faa-11e9-9adc-c81f66dacb22?api_key=RGAPI-a8b115a1-d191-4fab-b57c-0a7a5dd665c1\n",
      "200\n"
     ]
    },
    {
     "name": "stderr",
     "output_type": "stream",
     "text": [
      "C:\\Users\\utilisateur\\Documents\\MPSIS\\IPT\\WinPython-64bit-3.6.3.0Qt5\\python-3.6.3.amd64\\lib\\site-packages\\urllib3\\connectionpool.py:852: InsecureRequestWarning: Unverified HTTPS request is being made. Adding certificate verification is strongly advised. See: https://urllib3.readthedocs.io/en/latest/advanced-usage.html#ssl-warnings\n",
      "  InsecureRequestWarning)\n"
     ]
    },
    {
     "name": "stdout",
     "output_type": "stream",
     "text": [
      "https://euw1.api.riotgames.com/lol/league/v4/leagues/975c6220-2074-11e9-b350-c81f66dd2a8f?api_key=RGAPI-a8b115a1-d191-4fab-b57c-0a7a5dd665c1\n",
      "201\n"
     ]
    },
    {
     "name": "stderr",
     "output_type": "stream",
     "text": [
      "C:\\Users\\utilisateur\\Documents\\MPSIS\\IPT\\WinPython-64bit-3.6.3.0Qt5\\python-3.6.3.amd64\\lib\\site-packages\\urllib3\\connectionpool.py:852: InsecureRequestWarning: Unverified HTTPS request is being made. Adding certificate verification is strongly advised. See: https://urllib3.readthedocs.io/en/latest/advanced-usage.html#ssl-warnings\n",
      "  InsecureRequestWarning)\n"
     ]
    },
    {
     "name": "stdout",
     "output_type": "stream",
     "text": [
      "https://euw1.api.riotgames.com/lol/league/v4/leagues/fdf1ec90-2000-11e9-a553-c81f66dacb22?api_key=RGAPI-a8b115a1-d191-4fab-b57c-0a7a5dd665c1\n",
      "202\n"
     ]
    },
    {
     "name": "stderr",
     "output_type": "stream",
     "text": [
      "C:\\Users\\utilisateur\\Documents\\MPSIS\\IPT\\WinPython-64bit-3.6.3.0Qt5\\python-3.6.3.amd64\\lib\\site-packages\\urllib3\\connectionpool.py:852: InsecureRequestWarning: Unverified HTTPS request is being made. Adding certificate verification is strongly advised. See: https://urllib3.readthedocs.io/en/latest/advanced-usage.html#ssl-warnings\n",
      "  InsecureRequestWarning)\n"
     ]
    },
    {
     "name": "stdout",
     "output_type": "stream",
     "text": [
      "https://euw1.api.riotgames.com/lol/league/v4/leagues/c194bc90-297a-11e9-a977-c81f66dd2a8f?api_key=RGAPI-a8b115a1-d191-4fab-b57c-0a7a5dd665c1\n",
      "203\n"
     ]
    },
    {
     "name": "stderr",
     "output_type": "stream",
     "text": [
      "C:\\Users\\utilisateur\\Documents\\MPSIS\\IPT\\WinPython-64bit-3.6.3.0Qt5\\python-3.6.3.amd64\\lib\\site-packages\\urllib3\\connectionpool.py:852: InsecureRequestWarning: Unverified HTTPS request is being made. Adding certificate verification is strongly advised. See: https://urllib3.readthedocs.io/en/latest/advanced-usage.html#ssl-warnings\n",
      "  InsecureRequestWarning)\n"
     ]
    },
    {
     "name": "stdout",
     "output_type": "stream",
     "text": [
      "https://euw1.api.riotgames.com/lol/league/v4/leagues/c64a7cd0-2000-11e9-99ab-c81f66dd2a8f?api_key=RGAPI-a8b115a1-d191-4fab-b57c-0a7a5dd665c1\n",
      "204\n"
     ]
    },
    {
     "name": "stderr",
     "output_type": "stream",
     "text": [
      "C:\\Users\\utilisateur\\Documents\\MPSIS\\IPT\\WinPython-64bit-3.6.3.0Qt5\\python-3.6.3.amd64\\lib\\site-packages\\urllib3\\connectionpool.py:852: InsecureRequestWarning: Unverified HTTPS request is being made. Adding certificate verification is strongly advised. See: https://urllib3.readthedocs.io/en/latest/advanced-usage.html#ssl-warnings\n",
      "  InsecureRequestWarning)\n"
     ]
    },
    {
     "name": "stdout",
     "output_type": "stream",
     "text": [
      "https://euw1.api.riotgames.com/lol/league/v4/leagues/e1024690-1fc2-11e9-b001-c81f66dacb22?api_key=RGAPI-a8b115a1-d191-4fab-b57c-0a7a5dd665c1\n",
      "205\n"
     ]
    },
    {
     "name": "stderr",
     "output_type": "stream",
     "text": [
      "C:\\Users\\utilisateur\\Documents\\MPSIS\\IPT\\WinPython-64bit-3.6.3.0Qt5\\python-3.6.3.amd64\\lib\\site-packages\\urllib3\\connectionpool.py:852: InsecureRequestWarning: Unverified HTTPS request is being made. Adding certificate verification is strongly advised. See: https://urllib3.readthedocs.io/en/latest/advanced-usage.html#ssl-warnings\n",
      "  InsecureRequestWarning)\n"
     ]
    },
    {
     "name": "stdout",
     "output_type": "stream",
     "text": [
      "927\n"
     ]
    }
   ],
   "source": [
    "#on chasse les fer 4\n",
    "nombre_de_fer_4 = 0 \n",
    "gens = get_all_the_league_entries(\"RANKED_SOLO_5x5\",\"IRON\",\"IV\")\n",
    "league = [i[\"leagueId\"] for i in gens]\n",
    "i=0\n",
    "i_max = len(league)\n",
    "print(i_max)\n",
    "for leagueId in league : \n",
    "    r = get_league(leagueId)\n",
    "    i += 1\n",
    "    print(i)\n",
    "    if r!=None : \n",
    "        for division in r[\"entries\"] :\n",
    "            if division[\"rank\"]==\"IV\": nombre_de_fer_4 += 1 \n",
    "    tm.sleep(1)\n",
    "print(nombre_de_fer_4)\n",
    "#927 fer 4 le 3 juillet 2019"
   ]
  }
 ],
 "metadata": {
  "kernelspec": {
   "display_name": "Python 3",
   "language": "python",
   "name": "python3"
  },
  "language_info": {
   "codemirror_mode": {
    "name": "ipython",
    "version": 3
   },
   "file_extension": ".py",
   "mimetype": "text/x-python",
   "name": "python",
   "nbconvert_exporter": "python",
   "pygments_lexer": "ipython3",
   "version": "3.7.6"
  }
 },
 "nbformat": 4,
 "nbformat_minor": 2
}
