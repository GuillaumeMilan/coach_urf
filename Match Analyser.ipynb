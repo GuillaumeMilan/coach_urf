{
 "cells": [
  {
   "cell_type": "code",
   "execution_count": 1,
   "metadata": {},
   "outputs": [
    {
     "data": {
      "text/html": [
       "\n",
       "            <script>\n",
       "            require.config({\n",
       "                paths: {\n",
       "                    d3: 'https://d3js.org/d3.v5.min'\n",
       "                }\n",
       "            });\n",
       "            require(['d3'], function(d3) { window['d3']= d3})\n",
       "            </script>\n",
       "        "
      ],
      "text/plain": [
       "<utils.d3.D3Require at 0x105026d50>"
      ]
     },
     "execution_count": 1,
     "metadata": {},
     "output_type": "execute_result"
    }
   ],
   "source": [
    "import json\n",
    "from datetime import datetime\n",
    "import numpy as np\n",
    "import matplotlib.image as mpimg\n",
    "import matplotlib.pyplot as plt\n",
    "import time as tm\n",
    "from IPython.display import Image\n",
    "import base64\n",
    "import utils.d3\n",
    "utils.d3.D3Require()"
   ]
  },
  {
   "cell_type": "code",
   "execution_count": 2,
   "metadata": {},
   "outputs": [],
   "source": [
    "# Loading html utils\n",
    "import utils.html\n",
    "# Loading riot and dragon APIS\n",
    "import utils.services\n",
    "import utils.league\n",
    "import utils.dragon"
   ]
  },
  {
   "cell_type": "code",
   "execution_count": 3,
   "metadata": {},
   "outputs": [],
   "source": [
    "gameId = \"4521402554\""
   ]
  },
  {
   "cell_type": "code",
   "execution_count": 4,
   "metadata": {},
   "outputs": [
    {
     "name": "stdout",
     "output_type": "stream",
     "text": [
      "https://euw1.api.riotgames.com/lol/match/v4/matches/4521402554?api_key=RGAPI-fcd6b25c-ff14-4b81-96ba-41ee703f626b\n",
      "https://euw1.api.riotgames.com/lol/match/v4/timelines/by-match/4521402554?api_key=RGAPI-fcd6b25c-ff14-4b81-96ba-41ee703f626b\n"
     ]
    }
   ],
   "source": [
    "match = utils.league.get_match(gameId)\n",
    "match_timeline = utils.league.get_match_timeline(gameId)"
   ]
  },
  {
   "cell_type": "code",
   "execution_count": 5,
   "metadata": {},
   "outputs": [
    {
     "name": "stdout",
     "output_type": "stream",
     "text": [
      "http://ddragon.leagueoflegends.com/cdn/10.7.1/data/en_US/champion.json\n",
      "http://ddragon.leagueoflegends.com/cdn/10.7.1/data/en_US/item.json\n",
      "http://ddragon.leagueoflegends.com/cdn/10.7.1/data/en_US/summoner.json\n"
     ]
    }
   ],
   "source": [
    "import lib.session\n",
    "# Fetch data dragon cache\n",
    "patch = '.'.join(match['gameVersion'].split('.')[:2]) + '.1' #TODO Find the closest patch\n",
    "session = lib.session.Session(patch)"
   ]
  },
  {
   "cell_type": "code",
   "execution_count": 6,
   "metadata": {},
   "outputs": [
    {
     "data": {
      "text/html": [
       "\n",
       "        <h1>WIN</h1>\n",
       "        <table><thead><tr>\n",
       "                <th>Game ID</th>\n",
       "                <th>Name</th>\n",
       "                <th>Champion</th>\n",
       "                <th></th>\n",
       "                <th></th>\n",
       "                <th></th>\n",
       "                <th></th>\n",
       "                <th></th>\n",
       "                <th></th>\n",
       "                <th></th>\n",
       "                <th>K</th>\n",
       "                <th>D</th>\n",
       "                <th>A</th>\n",
       "                <th>Gold</th>\n",
       "                <th>Minions</th>\n",
       "                <th>Lane</th>\n",
       "            </tr></thead><tbody><tr>\n",
       "                <td>3</td>\n",
       "                <td>PhilBull</td>\n",
       "                <td><img src=\"http://ddragon.leagueoflegends.com/cdn/10.7.1/img/champion/Fiora.png\" height=\"50px\" width=\"50px\"/></td>\n",
       "                <td><img src=\"http://ddragon.leagueoflegends.com/cdn/10.7.1/img/item/3078.png\" height=\"30px\" width=\"30px\"/></td>\n",
       "                <td><img src=\"http://ddragon.leagueoflegends.com/cdn/10.7.1/img/item/3111.png\" height=\"30px\" width=\"30px\"/></td>\n",
       "                <td><img src=\"http://ddragon.leagueoflegends.com/cdn/10.7.1/img/item/1033.png\" height=\"30px\" width=\"30px\"/></td>\n",
       "                <td><img src=\"http://ddragon.leagueoflegends.com/cdn/10.7.1/img/item/2055.png\" height=\"30px\" width=\"30px\"/></td>\n",
       "                <td><div></div></td>\n",
       "                <td><img src=\"http://ddragon.leagueoflegends.com/cdn/10.7.1/img/item/3074.png\" height=\"30px\" width=\"30px\"/></td>\n",
       "                <td><img src=\"http://ddragon.leagueoflegends.com/cdn/10.7.1/img/item/3340.png\" height=\"30px\" width=\"30px\"/></td>\n",
       "                <td>5</td>\n",
       "                <td>3</td>\n",
       "                <td>0</td>\n",
       "                <td>10509</td>\n",
       "                <td>197</td>\n",
       "                <td>SOLO TOP</td>\n",
       "            </tr><tr>\n",
       "                <td>1</td>\n",
       "                <td>God of Bug</td>\n",
       "                <td><img src=\"http://ddragon.leagueoflegends.com/cdn/10.7.1/img/champion/Khazix.png\" height=\"50px\" width=\"50px\"/></td>\n",
       "                <td><img src=\"http://ddragon.leagueoflegends.com/cdn/10.7.1/img/item/1412.png\" height=\"30px\" width=\"30px\"/></td>\n",
       "                <td><img src=\"http://ddragon.leagueoflegends.com/cdn/10.7.1/img/item/3134.png\" height=\"30px\" width=\"30px\"/></td>\n",
       "                <td><img src=\"http://ddragon.leagueoflegends.com/cdn/10.7.1/img/item/3071.png\" height=\"30px\" width=\"30px\"/></td>\n",
       "                <td><img src=\"http://ddragon.leagueoflegends.com/cdn/10.7.1/img/item/3111.png\" height=\"30px\" width=\"30px\"/></td>\n",
       "                <td><div></div></td>\n",
       "                <td><div></div></td>\n",
       "                <td><img src=\"http://ddragon.leagueoflegends.com/cdn/10.7.1/img/item/3364.png\" height=\"30px\" width=\"30px\"/></td>\n",
       "                <td>5</td>\n",
       "                <td>1</td>\n",
       "                <td>2</td>\n",
       "                <td>9698</td>\n",
       "                <td>33</td>\n",
       "                <td>NONE JUNGLE</td>\n",
       "            </tr><tr>\n",
       "                <td>2</td>\n",
       "                <td>KirbySenpai</td>\n",
       "                <td><img src=\"http://ddragon.leagueoflegends.com/cdn/10.7.1/img/champion/Ahri.png\" height=\"50px\" width=\"50px\"/></td>\n",
       "                <td><img src=\"http://ddragon.leagueoflegends.com/cdn/10.7.1/img/item/3165.png\" height=\"30px\" width=\"30px\"/></td>\n",
       "                <td><img src=\"http://ddragon.leagueoflegends.com/cdn/10.7.1/img/item/3020.png\" height=\"30px\" width=\"30px\"/></td>\n",
       "                <td><img src=\"http://ddragon.leagueoflegends.com/cdn/10.7.1/img/item/2420.png\" height=\"30px\" width=\"30px\"/></td>\n",
       "                <td><img src=\"http://ddragon.leagueoflegends.com/cdn/10.7.1/img/item/3285.png\" height=\"30px\" width=\"30px\"/></td>\n",
       "                <td><div></div></td>\n",
       "                <td><div></div></td>\n",
       "                <td><img src=\"http://ddragon.leagueoflegends.com/cdn/10.7.1/img/item/3340.png\" height=\"30px\" width=\"30px\"/></td>\n",
       "                <td>6</td>\n",
       "                <td>1</td>\n",
       "                <td>6</td>\n",
       "                <td>9609</td>\n",
       "                <td>119</td>\n",
       "                <td>SOLO MIDDLE</td>\n",
       "            </tr><tr>\n",
       "                <td>5</td>\n",
       "                <td>ZioNMist</td>\n",
       "                <td><img src=\"http://ddragon.leagueoflegends.com/cdn/10.7.1/img/champion/Caitlyn.png\" height=\"50px\" width=\"50px\"/></td>\n",
       "                <td><img src=\"http://ddragon.leagueoflegends.com/cdn/10.7.1/img/item/2031.png\" height=\"30px\" width=\"30px\"/></td>\n",
       "                <td><img src=\"http://ddragon.leagueoflegends.com/cdn/10.7.1/img/item/1038.png\" height=\"30px\" width=\"30px\"/></td>\n",
       "                <td><img src=\"http://ddragon.leagueoflegends.com/cdn/10.7.1/img/item/1055.png\" height=\"30px\" width=\"30px\"/></td>\n",
       "                <td><img src=\"http://ddragon.leagueoflegends.com/cdn/10.7.1/img/item/3031.png\" height=\"30px\" width=\"30px\"/></td>\n",
       "                <td><img src=\"http://ddragon.leagueoflegends.com/cdn/10.7.1/img/item/3095.png\" height=\"30px\" width=\"30px\"/></td>\n",
       "                <td><img src=\"http://ddragon.leagueoflegends.com/cdn/10.7.1/img/item/3006.png\" height=\"30px\" width=\"30px\"/></td>\n",
       "                <td><img src=\"http://ddragon.leagueoflegends.com/cdn/10.7.1/img/item/3363.png\" height=\"30px\" width=\"30px\"/></td>\n",
       "                <td>4</td>\n",
       "                <td>1</td>\n",
       "                <td>9</td>\n",
       "                <td>11814</td>\n",
       "                <td>201</td>\n",
       "                <td>DUO_CARRY BOTTOM</td>\n",
       "            </tr><tr>\n",
       "                <td>4</td>\n",
       "                <td>B2Regret</td>\n",
       "                <td><img src=\"http://ddragon.leagueoflegends.com/cdn/10.7.1/img/champion/Veigar.png\" height=\"50px\" width=\"50px\"/></td>\n",
       "                <td><img src=\"http://ddragon.leagueoflegends.com/cdn/10.7.1/img/item/3040.png\" height=\"30px\" width=\"30px\"/></td>\n",
       "                <td><img src=\"http://ddragon.leagueoflegends.com/cdn/10.7.1/img/item/1058.png\" height=\"30px\" width=\"30px\"/></td>\n",
       "                <td><img src=\"http://ddragon.leagueoflegends.com/cdn/10.7.1/img/item/3853.png\" height=\"30px\" width=\"30px\"/></td>\n",
       "                <td><img src=\"http://ddragon.leagueoflegends.com/cdn/10.7.1/img/item/3111.png\" height=\"30px\" width=\"30px\"/></td>\n",
       "                <td><img src=\"http://ddragon.leagueoflegends.com/cdn/10.7.1/img/item/1058.png\" height=\"30px\" width=\"30px\"/></td>\n",
       "                <td><img src=\"http://ddragon.leagueoflegends.com/cdn/10.7.1/img/item/1026.png\" height=\"30px\" width=\"30px\"/></td>\n",
       "                <td><img src=\"http://ddragon.leagueoflegends.com/cdn/10.7.1/img/item/3364.png\" height=\"30px\" width=\"30px\"/></td>\n",
       "                <td>8</td>\n",
       "                <td>5</td>\n",
       "                <td>9</td>\n",
       "                <td>9644</td>\n",
       "                <td>26</td>\n",
       "                <td>DUO_SUPPORT BOTTOM</td>\n",
       "            </tr></tbody></table>\n",
       "        <h1>DEFEAT</h1>\n",
       "        <table><thead><tr>\n",
       "                <th>Game ID</th>\n",
       "                <th>Name</th>\n",
       "                <th>Champion</th>\n",
       "                <th></th>\n",
       "                <th></th>\n",
       "                <th></th>\n",
       "                <th></th>\n",
       "                <th></th>\n",
       "                <th></th>\n",
       "                <th></th>\n",
       "                <th>K</th>\n",
       "                <th>D</th>\n",
       "                <th>A</th>\n",
       "                <th>Gold</th>\n",
       "                <th>Minions</th>\n",
       "                <th>Lane</th>\n",
       "            </tr></thead><tbody><tr>\n",
       "                <td>10</td>\n",
       "                <td>Heyo</td>\n",
       "                <td><img src=\"http://ddragon.leagueoflegends.com/cdn/10.7.1/img/champion/Kayle.png\" height=\"50px\" width=\"50px\"/></td>\n",
       "                <td><img src=\"http://ddragon.leagueoflegends.com/cdn/10.7.1/img/item/3101.png\" height=\"30px\" width=\"30px\"/></td>\n",
       "                <td><img src=\"http://ddragon.leagueoflegends.com/cdn/10.7.1/img/item/3146.png\" height=\"30px\" width=\"30px\"/></td>\n",
       "                <td><img src=\"http://ddragon.leagueoflegends.com/cdn/10.7.1/img/item/3108.png\" height=\"30px\" width=\"30px\"/></td>\n",
       "                <td><img src=\"http://ddragon.leagueoflegends.com/cdn/10.7.1/img/item/1056.png\" height=\"30px\" width=\"30px\"/></td>\n",
       "                <td><img src=\"http://ddragon.leagueoflegends.com/cdn/10.7.1/img/item/3006.png\" height=\"30px\" width=\"30px\"/></td>\n",
       "                <td><div></div></td>\n",
       "                <td><img src=\"http://ddragon.leagueoflegends.com/cdn/10.7.1/img/item/3340.png\" height=\"30px\" width=\"30px\"/></td>\n",
       "                <td>1</td>\n",
       "                <td>4</td>\n",
       "                <td>2</td>\n",
       "                <td>7937</td>\n",
       "                <td>183</td>\n",
       "                <td>SOLO TOP</td>\n",
       "            </tr><tr>\n",
       "                <td>9</td>\n",
       "                <td>GUIGNOMES</td>\n",
       "                <td><img src=\"http://ddragon.leagueoflegends.com/cdn/10.7.1/img/champion/LeeSin.png\" height=\"50px\" width=\"50px\"/></td>\n",
       "                <td><img src=\"http://ddragon.leagueoflegends.com/cdn/10.7.1/img/item/1412.png\" height=\"30px\" width=\"30px\"/></td>\n",
       "                <td><img src=\"http://ddragon.leagueoflegends.com/cdn/10.7.1/img/item/1037.png\" height=\"30px\" width=\"30px\"/></td>\n",
       "                <td><img src=\"http://ddragon.leagueoflegends.com/cdn/10.7.1/img/item/3077.png\" height=\"30px\" width=\"30px\"/></td>\n",
       "                <td><img src=\"http://ddragon.leagueoflegends.com/cdn/10.7.1/img/item/3047.png\" height=\"30px\" width=\"30px\"/></td>\n",
       "                <td><img src=\"http://ddragon.leagueoflegends.com/cdn/10.7.1/img/item/3052.png\" height=\"30px\" width=\"30px\"/></td>\n",
       "                <td><img src=\"http://ddragon.leagueoflegends.com/cdn/10.7.1/img/item/1028.png\" height=\"30px\" width=\"30px\"/></td>\n",
       "                <td><img src=\"http://ddragon.leagueoflegends.com/cdn/10.7.1/img/item/3340.png\" height=\"30px\" width=\"30px\"/></td>\n",
       "                <td>4</td>\n",
       "                <td>7</td>\n",
       "                <td>2</td>\n",
       "                <td>8242</td>\n",
       "                <td>15</td>\n",
       "                <td>NONE JUNGLE</td>\n",
       "            </tr><tr>\n",
       "                <td>6</td>\n",
       "                <td>TRanda</td>\n",
       "                <td><img src=\"http://ddragon.leagueoflegends.com/cdn/10.7.1/img/champion/Katarina.png\" height=\"50px\" width=\"50px\"/></td>\n",
       "                <td><img src=\"http://ddragon.leagueoflegends.com/cdn/10.7.1/img/item/3020.png\" height=\"30px\" width=\"30px\"/></td>\n",
       "                <td><img src=\"http://ddragon.leagueoflegends.com/cdn/10.7.1/img/item/3146.png\" height=\"30px\" width=\"30px\"/></td>\n",
       "                <td><img src=\"http://ddragon.leagueoflegends.com/cdn/10.7.1/img/item/3916.png\" height=\"30px\" width=\"30px\"/></td>\n",
       "                <td><div></div></td>\n",
       "                <td><div></div></td>\n",
       "                <td><div></div></td>\n",
       "                <td><img src=\"http://ddragon.leagueoflegends.com/cdn/10.7.1/img/item/3340.png\" height=\"30px\" width=\"30px\"/></td>\n",
       "                <td>1</td>\n",
       "                <td>5</td>\n",
       "                <td>3</td>\n",
       "                <td>7403</td>\n",
       "                <td>153</td>\n",
       "                <td>SOLO MIDDLE</td>\n",
       "            </tr><tr>\n",
       "                <td>8</td>\n",
       "                <td>ElvenBlade</td>\n",
       "                <td><img src=\"http://ddragon.leagueoflegends.com/cdn/10.7.1/img/champion/Varus.png\" height=\"50px\" width=\"50px\"/></td>\n",
       "                <td><img src=\"http://ddragon.leagueoflegends.com/cdn/10.7.1/img/item/1054.png\" height=\"30px\" width=\"30px\"/></td>\n",
       "                <td><img src=\"http://ddragon.leagueoflegends.com/cdn/10.7.1/img/item/3153.png\" height=\"30px\" width=\"30px\"/></td>\n",
       "                <td><img src=\"http://ddragon.leagueoflegends.com/cdn/10.7.1/img/item/3006.png\" height=\"30px\" width=\"30px\"/></td>\n",
       "                <td><img src=\"http://ddragon.leagueoflegends.com/cdn/10.7.1/img/item/1043.png\" height=\"30px\" width=\"30px\"/></td>\n",
       "                <td><div></div></td>\n",
       "                <td><img src=\"http://ddragon.leagueoflegends.com/cdn/10.7.1/img/item/1037.png\" height=\"30px\" width=\"30px\"/></td>\n",
       "                <td><img src=\"http://ddragon.leagueoflegends.com/cdn/10.7.1/img/item/3363.png\" height=\"30px\" width=\"30px\"/></td>\n",
       "                <td>2</td>\n",
       "                <td>5</td>\n",
       "                <td>4</td>\n",
       "                <td>7043</td>\n",
       "                <td>131</td>\n",
       "                <td>DUO_CARRY BOTTOM</td>\n",
       "            </tr><tr>\n",
       "                <td>7</td>\n",
       "                <td>elisweet</td>\n",
       "                <td><img src=\"http://ddragon.leagueoflegends.com/cdn/10.7.1/img/champion/Zyra.png\" height=\"50px\" width=\"50px\"/></td>\n",
       "                <td><img src=\"http://ddragon.leagueoflegends.com/cdn/10.7.1/img/item/3853.png\" height=\"30px\" width=\"30px\"/></td>\n",
       "                <td><img src=\"http://ddragon.leagueoflegends.com/cdn/10.7.1/img/item/3285.png\" height=\"30px\" width=\"30px\"/></td>\n",
       "                <td><img src=\"http://ddragon.leagueoflegends.com/cdn/10.7.1/img/item/1028.png\" height=\"30px\" width=\"30px\"/></td>\n",
       "                <td><img src=\"http://ddragon.leagueoflegends.com/cdn/10.7.1/img/item/1052.png\" height=\"30px\" width=\"30px\"/></td>\n",
       "                <td><img src=\"http://ddragon.leagueoflegends.com/cdn/10.7.1/img/item/3020.png\" height=\"30px\" width=\"30px\"/></td>\n",
       "                <td><div></div></td>\n",
       "                <td><img src=\"http://ddragon.leagueoflegends.com/cdn/10.7.1/img/item/3340.png\" height=\"30px\" width=\"30px\"/></td>\n",
       "                <td>3</td>\n",
       "                <td>7</td>\n",
       "                <td>2</td>\n",
       "                <td>6453</td>\n",
       "                <td>20</td>\n",
       "                <td>DUO_SUPPORT BOTTOM</td>\n",
       "            </tr></tbody></table>\n",
       "        "
      ],
      "text/plain": [
       "<lib.summary.MatchSummary at 0x10521cfd0>"
      ]
     },
     "execution_count": 6,
     "metadata": {},
     "output_type": "execute_result"
    }
   ],
   "source": [
    "import lib.summary\n",
    "summary = lib.summary.MatchSummary(match, session)\n",
    "summary"
   ]
  },
  {
   "cell_type": "code",
   "execution_count": null,
   "metadata": {},
   "outputs": [],
   "source": [
    "%matplotlib notebook"
   ]
  },
  {
   "cell_type": "code",
   "execution_count": null,
   "metadata": {},
   "outputs": [],
   "source": [
    "look = summary.winners()"
   ]
  },
  {
   "cell_type": "code",
   "execution_count": null,
   "metadata": {},
   "outputs": [],
   "source": [
    "first_frame = match_timeline['frames'][0]['participantFrames']\n",
    "frame_id = {participant['participantId']: f_id for f_id, participant in first_frame.items()}"
   ]
  },
  {
   "cell_type": "code",
   "execution_count": null,
   "metadata": {
    "scrolled": true
   },
   "outputs": [],
   "source": [
    "xp = {}\n",
    "legend = []\n",
    "fig, axes = plt.subplots()\n",
    "for x in range(1,11):\n",
    "    linewidth = 1\n",
    "    if x in look:\n",
    "        linewidth = 3\n",
    "    xp[f\"{x}\"] = [frame['participantFrames'][frame_id[x]][\"xp\"] for frame in match_timeline['frames']]\n",
    "    line,  = axes.plot(range(0, len(xp[f\"{x}\"])), xp[f\"{x}\"], '-', linewidth = linewidth, label = f\"{x}\")\n",
    "    legend.append(line)\n",
    "    \n",
    "fig.legend(handles=legend)\n",
    "fig.show()"
   ]
  },
  {
   "cell_type": "code",
   "execution_count": null,
   "metadata": {},
   "outputs": [],
   "source": [
    "gold = {}\n",
    "legend = []\n",
    "fig, axes = plt.subplots()\n",
    "for x in range(1,11):\n",
    "    linewidth = 1\n",
    "    if x in look:\n",
    "        linewidth = 3\n",
    "    gold[f\"{x}\"] = [frame['participantFrames'][frame_id[x]][\"totalGold\"] for frame in match_timeline['frames']]\n",
    "    line,  = axes.plot(range(0, len(gold[f\"{x}\"])), gold[f\"{x}\"], '-', linewidth = linewidth, label = f\"{x}\")\n",
    "    legend.append(line)\n",
    "    \n",
    "fig.legend(handles=legend)\n",
    "fig.show()"
   ]
  },
  {
   "cell_type": "code",
   "execution_count": null,
   "metadata": {},
   "outputs": [],
   "source": [
    "gold = {}\n",
    "legend = []\n",
    "fig, axes = plt.subplots()\n",
    "for x in range(1,11):\n",
    "    linewidth = 1\n",
    "    if x in look:\n",
    "        linewidth = 3\n",
    "    gold[f\"{x}\"] = [frame['participantFrames'][frame_id[x]][\"currentGold\"] for frame in match_timeline['frames']]\n",
    "    line,  = axes.plot(range(0, len(gold[f\"{x}\"])), gold[f\"{x}\"], '-', linewidth = linewidth, label = f\"{x}\")\n",
    "    legend.append(line)\n",
    "    \n",
    "fig.legend(handles=legend)\n",
    "fig.show()"
   ]
  },
  {
   "cell_type": "code",
   "execution_count": null,
   "metadata": {},
   "outputs": [],
   "source": [
    "gold_tot = {}\n",
    "legend = []\n",
    "fig, axes = plt.subplots()\n",
    "for x in [True, False]:\n",
    "    linewidth = 1\n",
    "    label = \"DEFEAT\"\n",
    "    if x:\n",
    "        linewidth = 3\n",
    "        label = \"WIN\"\n",
    "    gold_tot[label] = [sum(\n",
    "        [participant[\"totalGold\"] for i, participant in frame['participantFrames'].items() if ((participant['participantId'] in look) == x)]\n",
    "    ) for frame in match_timeline['frames']]\n",
    "\n",
    "diff = [w - d for w,d in zip(gold_tot[\"WIN\"], gold_tot[\"DEFEAT\"])]\n",
    "line,  = axes.plot(range(0, len(diff)), diff, '-', linewidth = linewidth, label = \"GOLD DIFF\")\n",
    "line,  = axes.plot(range(0, len(diff)), [0 for x in diff], '-', linewidth = linewidth, label = \"GOLD DIFF\")\n",
    "legend.append(line)\n",
    "    \n",
    "fig.legend(handles=legend)\n",
    "fig.show()"
   ]
  },
  {
   "cell_type": "code",
   "execution_count": null,
   "metadata": {},
   "outputs": [],
   "source": [
    "# TODO \n",
    "# - Calculate gold diff\n",
    "# - Calculate power spikes\n",
    "# - Find team fights\n",
    "# - Evaluate damages"
   ]
  },
  {
   "cell_type": "code",
   "execution_count": null,
   "metadata": {},
   "outputs": [],
   "source": [
    "from ipywidgets import interact, interactive, fixed, interact_manual\n",
    "import ipywidgets as widgets\n",
    "\n",
    "winners_x = []\n",
    "winners_y = []\n",
    "winners_kills_x = []\n",
    "winners_kills_y = []\n",
    "losers_x = []\n",
    "losers_y = []\n",
    "losers_kills_x = []\n",
    "losers_kills_y = []\n",
    "\n",
    "for x in range(0,len(match_timeline['frames'])-1):\n",
    "    frame =  match_timeline['frames'][x]['participantFrames'].items()\n",
    "    events = match_timeline['frames'][x]['events']\n",
    "    winners_kills_x.append([event['position']['x'] for event in events if ((event['type'] == 'CHAMPION_KILL') and (event['killerId'] in look))])\n",
    "    winners_kills_y.append([event['position']['y'] for event in events if ((event['type'] == 'CHAMPION_KILL') and (event['killerId'] in look))])\n",
    "    winners_x.append([participant['position']['x'] for i, participant in frame if participant['participantId'] in look])\n",
    "    winners_y.append([participant['position']['y'] for i, participant in frame if participant['participantId'] in look])\n",
    "\n",
    "    losers_x.append([participant['position']['x'] for i, participant in frame if participant['participantId'] not in look])\n",
    "    losers_y.append([participant['position']['y'] for i, participant in frame if participant['participantId'] not in look])\n",
    "    losers_kills_x.append([event['position']['x'] for event in events if (event['type'] == 'CHAMPION_KILL') and (event['killerId'] not in look)])\n",
    "    losers_kills_y.append([event['position']['y'] for event in events if (event['type'] == 'CHAMPION_KILL') and (event['killerId'] not in look)])\n",
    "\n",
    "fig, axes = plt.subplots()\n",
    "\n",
    "def f(x):\n",
    "    axes.cla()\n",
    "    axes.axis(xmin=0, xmax=15000, ymin=0, ymax=15000)\n",
    "    #\n",
    "    #winners_x = [participant['position']['x'] for i, participant in frame if participant['participantId'] in look]\n",
    "    #winners_y = [participant['position']['y'] for i, participant in frame if participant['participantId'] in look]\n",
    "\n",
    "    #losers_x = [participant['position']['x'] for i, participant in frame if participant['participantId'] not in look]\n",
    "    #losers_y = [participant['position']['y'] for i, participant in frame if participant['participantId'] not in look]\n",
    "    axes.plot(winners_x[x], winners_y[x], '.', markersize = 9, color='#42b3ff')\n",
    "    axes.plot(winners_kills_x[x], winners_kills_y[x], 'x', markersize = 4, color='#ffb442')\n",
    "    axes.plot(losers_x[x],  losers_y[x], '.', markersize = 5, color='#ffb442')\n",
    "    axes.plot(losers_kills_x[x], losers_kills_y[x], 'x', markersize = 7, color='#42b3ff')\n",
    "\n",
    "#interact(f, x = (0, (len(match_timeline['frames'])-2)))\n",
    "interact(f, x=widgets.IntSlider(min=0, max=(len(match_timeline['frames'])-2), step=1, value=0));\n"
   ]
  },
  {
   "cell_type": "code",
   "execution_count": 7,
   "metadata": {},
   "outputs": [
    {
     "data": {
      "text/plain": [
       "False"
      ]
     },
     "execution_count": 7,
     "metadata": {},
     "output_type": "execute_result"
    }
   ],
   "source": [
    "summary.isWinner(accountId = )"
   ]
  },
  {
   "cell_type": "code",
   "execution_count": null,
   "metadata": {},
   "outputs": [],
   "source": []
  }
 ],
 "metadata": {
  "kernelspec": {
   "display_name": "Python 3",
   "language": "python",
   "name": "python3"
  },
  "language_info": {
   "codemirror_mode": {
    "name": "ipython",
    "version": 3
   },
   "file_extension": ".py",
   "mimetype": "text/x-python",
   "name": "python",
   "nbconvert_exporter": "python",
   "pygments_lexer": "ipython3",
   "version": "3.7.6"
  }
 },
 "nbformat": 4,
 "nbformat_minor": 2
}
