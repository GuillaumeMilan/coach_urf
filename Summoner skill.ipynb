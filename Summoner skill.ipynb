{
 "cells": [
  {
   "cell_type": "code",
   "execution_count": null,
   "metadata": {},
   "outputs": [],
   "source": [
    "import json\n",
    "from datetime import datetime\n",
    "import numpy as np\n",
    "import matplotlib.image as mpimg\n",
    "import matplotlib.pyplot as plt\n",
    "import time as tm\n",
    "from IPython.display import Image\n",
    "import base64"
   ]
  },
  {
   "cell_type": "code",
   "execution_count": null,
   "metadata": {},
   "outputs": [],
   "source": [
    "# Loading html utils\n",
    "import utils.html\n",
    "# Loading riot and dragon APIS\n",
    "import utils.services\n",
    "import utils.league\n",
    "import utils.dragon"
   ]
  },
  {
   "cell_type": "code",
   "execution_count": null,
   "metadata": {},
   "outputs": [],
   "source": [
    "# Fetch all data to cache from \n",
    "patches = utils.dragon.get_patch()\n",
    "current_patch = patches[0]\n",
    "champions = utils.dragon.get_champions_list(current_patch)\n",
    "def champion_name_from_id(championId):\n",
    "    for name,body in champions[\"data\"].items():\n",
    "        if int(body[\"key\"])==championId : return name\n",
    "    return \"Unknown\"\n",
    "\n",
    "def id_from_champion_name(champion_name):\n",
    "    for name,body in champions[\"data\"].items():\n",
    "        if champion_name == name : return body[\"key\"]\n",
    "    return None"
   ]
  },
  {
   "cell_type": "code",
   "execution_count": null,
   "metadata": {},
   "outputs": [],
   "source": [
    "r = utils.services.fetch_riot_API('/lol/summoner/v4/summoners/by-name/GUIGNOMES')\n",
    "print(r.status)"
   ]
  },
  {
   "cell_type": "code",
   "execution_count": null,
   "metadata": {},
   "outputs": [],
   "source": [
    "user = utils.league.get_user('GUIGNOMES')\n",
    "user"
   ]
  },
  {
   "cell_type": "code",
   "execution_count": null,
   "metadata": {},
   "outputs": [],
   "source": [
    "last_match = utils.league.get_history(user['accountId'])['matches'][1]\n",
    "last_match"
   ]
  },
  {
   "cell_type": "code",
   "execution_count": null,
   "metadata": {},
   "outputs": [],
   "source": [
    "img = utils.dragon.get_profil_icon(user['profileIconId'], current_patch).data"
   ]
  },
  {
   "cell_type": "code",
   "execution_count": null,
   "metadata": {},
   "outputs": [],
   "source": [
    "base = base64.b64encode(img)"
   ]
  },
  {
   "cell_type": "code",
   "execution_count": null,
   "metadata": {},
   "outputs": [],
   "source": [
    "profil_pic = utils.html.BinaryImage(base.decode(\"utf-8\"))\n",
    "profil_pic"
   ]
  },
  {
   "cell_type": "code",
   "execution_count": null,
   "metadata": {},
   "outputs": [],
   "source": [
    "match = utils.league.get_match(last_match['gameId'])\n",
    "match_timeline = utils.league.get_match_timeline(last_match['gameId'])"
   ]
  },
  {
   "cell_type": "code",
   "execution_count": null,
   "metadata": {},
   "outputs": [],
   "source": [
    "def champions_id_dict(champions):\n",
    "    return {body[\"key\"] : name for name,body in champions[\"data\"].items()}\n",
    "\n",
    "id_dict_champions = champions_id_dict(champions)"
   ]
  },
  {
   "cell_type": "code",
   "execution_count": null,
   "metadata": {},
   "outputs": [],
   "source": [
    "id_dict_champions['121']"
   ]
  },
  {
   "cell_type": "code",
   "execution_count": null,
   "metadata": {},
   "outputs": [],
   "source": [
    "champions['data']['Khazix']"
   ]
  },
  {
   "cell_type": "code",
   "execution_count": null,
   "metadata": {},
   "outputs": [],
   "source": []
  }
 ],
 "metadata": {
  "kernelspec": {
   "display_name": "Python 3",
   "language": "python",
   "name": "python3"
  },
  "language_info": {
   "codemirror_mode": {
    "name": "ipython",
    "version": 3
   },
   "file_extension": ".py",
   "mimetype": "text/x-python",
   "name": "python",
   "nbconvert_exporter": "python",
   "pygments_lexer": "ipython3",
   "version": "3.7.6"
  }
 },
 "nbformat": 4,
 "nbformat_minor": 2
}
